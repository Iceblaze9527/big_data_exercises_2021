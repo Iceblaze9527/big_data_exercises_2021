{
 "cells": [
  {
   "cell_type": "code",
   "execution_count": 1,
   "id": "eba3f939",
   "metadata": {},
   "outputs": [],
   "source": [
    "import requests\n",
    "import json\n",
    "import time\n",
    "from IPython.core.magic import register_line_cell_magic\n",
    "\n",
    "@register_line_cell_magic\n",
    "def rumble(line, cell=None):\n",
    "    if cell is None:\n",
    "        data = line\n",
    "    else:\n",
    "        data = cell\n",
    "\n",
    "    start = time.time()                                                         \n",
    "    response = json.loads(requests.post(server, data=data).text)                   \n",
    "    end = time.time()                                                              \n",
    "    print(\"Took: %s s\" % (end - start))\n",
    "\n",
    "    if 'warning' in response:\n",
    "        print(json.dumps(response['warning']))\n",
    "    if 'values' in response:\n",
    "        for e in response['values']:\n",
    "            print(json.dumps(e))\n",
    "    elif 'error-message' in response:\n",
    "        return response['error-message']\n",
    "    else:\n",
    "        return response"
   ]
  },
  {
   "cell_type": "code",
   "execution_count": 2,
   "id": "2030902a",
   "metadata": {},
   "outputs": [],
   "source": [
    "server = 'http://localhost:8001/jsoniq'"
   ]
  },
  {
   "cell_type": "markdown",
   "id": "e49bb175",
   "metadata": {},
   "source": [
    "### 1.\n"
   ]
  },
  {
   "cell_type": "code",
   "execution_count": 3,
   "id": "299f5852",
   "metadata": {},
   "outputs": [
    {
     "name": "stdout",
     "output_type": "stream",
     "text": [
      "Took: 15.837881565093994 s\n",
      "290818\n"
     ]
    }
   ],
   "source": [
    "%%rumble\n",
    "count(\n",
    "    for $i in json-file(\"confusion-2014-03-02/confusion-2014-03-02.json\", 10)\n",
    "    where $i.guess eq $i.target and $i.target eq \"Russian\"\n",
    "    return $i\n",
    ")"
   ]
  },
  {
   "cell_type": "markdown",
   "id": "e59a07e6",
   "metadata": {},
   "source": [
    "### 2."
   ]
  },
  {
   "cell_type": "code",
   "execution_count": 4,
   "id": "744f85da",
   "metadata": {},
   "outputs": [
    {
     "name": "stdout",
     "output_type": "stream",
     "text": [
      "Took: 11.720677852630615 s\n",
      "78\n"
     ]
    }
   ],
   "source": [
    "%%rumble\n",
    "let $tar := for $i in json-file(\"confusion-2014-03-02/confusion-2014-03-02.json\", 10)\n",
    "return $i.target\n",
    "return count(\n",
    "    distinct-values($tar)\n",
    ")"
   ]
  },
  {
   "cell_type": "markdown",
   "id": "2ad0d69a",
   "metadata": {},
   "source": [
    "### 3."
   ]
  },
  {
   "cell_type": "code",
   "execution_count": 5,
   "id": "534c6c93",
   "metadata": {},
   "outputs": [
    {
     "name": "stdout",
     "output_type": "stream",
     "text": [
      "Took: 3.8221054077148438 s\n",
      "\"fdf23d0a7063ba2fcef4b18eb7d57ad8\"\n",
      "\"efcd813daec1c836d9f030b30caa07ce\"\n"
     ]
    }
   ],
   "source": [
    "%%rumble\n",
    "for $i in json-file(\"confusion-2014-03-02/confusion-2014-03-02.json\", 10)\n",
    "where $i.guess eq $i.target\n",
    "order by $i.target ascending, $i.country ascending, $i.date ascending\n",
    "count $c\n",
    "where $c <= 2\n",
    "return $i.sample"
   ]
  },
  {
   "cell_type": "markdown",
   "id": "de348ad1",
   "metadata": {},
   "source": [
    "### 4."
   ]
  },
  {
   "cell_type": "code",
   "execution_count": 6,
   "id": "ae9cf3fe",
   "metadata": {},
   "outputs": [
    {
     "name": "stdout",
     "output_type": "stream",
     "text": [
      "Took: 5.058027505874634 s\n",
      "1553\n",
      "1464\n",
      "1459\n"
     ]
    }
   ],
   "source": [
    "%%rumble\n",
    "let $cnt := for $i in json-file(\"confusion-2014-03-02/confusion-2014-03-02.json\", 10)\n",
    "group by $c:=$i.country, $t:=$i.target\n",
    "return {\"c\": $c,\n",
    "        \"t\": $t,\n",
    "        \"count\": count(\n",
    "            for $it in $i\n",
    "            return $it.guess\n",
    "        )}\n",
    "\n",
    "for $item in $cnt\n",
    "order by $item.count descending\n",
    "count $c\n",
    "where $c <= 3\n",
    "return $item.count"
   ]
  },
  {
   "cell_type": "markdown",
   "id": "05a1d64f",
   "metadata": {},
   "source": [
    "### 5."
   ]
  },
  {
   "cell_type": "code",
   "execution_count": 7,
   "id": "3744f58f",
   "metadata": {},
   "outputs": [
    {
     "name": "stdout",
     "output_type": "stream",
     "text": [
      "Took: 24.02294611930847 s\n",
      "0.256\n"
     ]
    }
   ],
   "source": [
    "%%rumble\n",
    "round(\n",
    "    count(\n",
    "    for $i in json-file(\"confusion-2014-03-02/confusion-2014-03-02.json\", 10)\n",
    "    where $i.guess eq $i.target and $i.guess eq $i.choices[[1]]\n",
    "    return $i) div count(\n",
    "        for $i in json-file(\"confusion-2014-03-02/confusion-2014-03-02.json\", 10) return $i), 4)"
   ]
  },
  {
   "cell_type": "markdown",
   "id": "77ba7b2d",
   "metadata": {},
   "source": [
    "### 6."
   ]
  },
  {
   "cell_type": "code",
   "execution_count": 8,
   "id": "071494be",
   "metadata": {},
   "outputs": [
    {
     "name": "stdout",
     "output_type": "stream",
     "text": [
      "Took: 4.494207143783569 s\n",
      "\"French\"\n",
      "\"German\"\n",
      "\"Mandarin\"\n"
     ]
    }
   ],
   "source": [
    "%%rumble\n",
    "let $perc := for $i in json-file(\"confusion-2014-03-02/confusion-2014-03-02.json\", 10)\n",
    "group by $t:=$i.target\n",
    "let $corr := count(for $cnt in $i where $cnt.target eq $cnt.guess return $cnt)\n",
    "let $total := count(for $cnt in $i return $cnt)\n",
    "return {\"lang\":$t, \"percentage\": $corr div $total}\n",
    "\n",
    "for $it in $perc\n",
    "order by $it.percentage descending\n",
    "count $c\n",
    "where $c <= 3\n",
    "return $it.lang"
   ]
  },
  {
   "cell_type": "markdown",
   "id": "53ca8d41",
   "metadata": {},
   "source": [
    "### 7."
   ]
  },
  {
   "cell_type": "code",
   "execution_count": 9,
   "id": "20982d03",
   "metadata": {},
   "outputs": [
    {
     "name": "stdout",
     "output_type": "stream",
     "text": [
      "Took: 20.544063568115234 s\n",
      "65653\n"
     ]
    }
   ],
   "source": [
    "%%rumble\n",
    "for $i in json-file(\"confusion-2014-03-02/confusion-2014-03-02.json\", 10)\n",
    "group by $d:=$i.date\n",
    "order by $d descending\n",
    "count $c\n",
    "where $c <= 1\n",
    "return count($i)"
   ]
  },
  {
   "cell_type": "code",
   "execution_count": null,
   "id": "6c1bc24e",
   "metadata": {},
   "outputs": [],
   "source": []
  },
  {
   "cell_type": "code",
   "execution_count": null,
   "id": "a7ca3702",
   "metadata": {},
   "outputs": [],
   "source": []
  }
 ],
 "metadata": {
  "kernelspec": {
   "display_name": "Python 3 (ipykernel)",
   "language": "python",
   "name": "python3"
  },
  "language_info": {
   "codemirror_mode": {
    "name": "ipython",
    "version": 3
   },
   "file_extension": ".py",
   "mimetype": "text/x-python",
   "name": "python",
   "nbconvert_exporter": "python",
   "pygments_lexer": "ipython3",
   "version": "3.8.11"
  }
 },
 "nbformat": 4,
 "nbformat_minor": 5
}
