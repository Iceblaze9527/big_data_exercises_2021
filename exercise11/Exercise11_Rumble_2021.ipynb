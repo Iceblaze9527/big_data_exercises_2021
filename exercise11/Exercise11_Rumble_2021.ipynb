{
 "cells": [
  {
   "cell_type": "markdown",
   "metadata": {
    "id": "Zo6cemRekqqm"
   },
   "source": [
    "# Big Data – Exercises \n",
    "\n",
    "# Fall 2021 -  Week 11 - Rumble\n",
    "\n"
   ]
  },
  {
   "cell_type": "markdown",
   "metadata": {
    "id": "FgAZKWlwkvrk"
   },
   "source": [
    "# 1. Install Rumble"
   ]
  },
  {
   "cell_type": "markdown",
   "metadata": {
    "id": "qE1xkwu8k_IA"
   },
   "source": [
    "### Option 1: Docker\n",
    "The first option is to run rumbledb in a docker container with everything installed, open docker on your computer and run the following command on your command line. Note that where you run the command does not matter as it fetches a remote docker image:\n",
    "```\n",
    "docker run -i rumbledb/rumble --shell yes\n",
    "```\n",
    "\n",
    "This will open a shell where you can play around with rumble.\n",
    "\n",
    "### Option 2: Locally\n",
    "To install the latest version of Rumble locally, you can follow the steps given on the official rumbledb website: \n",
    "https://rumble.readthedocs.io/en/latest/Getting%20started/\n",
    "\n",
    "For UNIX systems users (which includes macOS), an easy way to download spark is to use homebrew: https://formulae.brew.sh/formula/apache-spark\n",
    "\n",
    "\n",
    "The latest jar of rumble is available here: https://github.com/RumbleDB/rumble/releases/download/v1.16.1/rumbledb-1.16.1-for-spark-3.2.jar. You can download the jar and put it into the exercise session repository.\n",
    "For other versions of Spark, download the required one: https://github.com/RumbleDB/rumble/releases/tag/v1.16.1.\n",
    "\n",
    "\n",
    "Now that you have everything needed, you can test your installation by runnning the following command\n",
    "```\n",
    "spark-submit rumbledb-1.16.1-for-spark-3.2.jar --shell yes\n",
    "```\n",
    "\n",
    "If you downloaded a different jar than for Spark v3.2, please adapt the filename in the previous command.\n",
    "This gives access to the rumble shell where you can try commands. Note that to run each command, you should press 'Enter' three times, and you can quit with 'exit'. \n",
    "\n"
   ]
  },
  {
   "cell_type": "markdown",
   "metadata": {},
   "source": [
    "Feel free to try the many functions available, here is a link with the exhaustive list: https://rumble.readthedocs.io/en/latest/Function%20library/."
   ]
  },
  {
   "cell_type": "markdown",
   "metadata": {
    "id": "UTrxum891_XB"
   },
   "source": [
    "# 2. Setup Rumble in Jupyter Notebook\n",
    "\n"
   ]
  },
  {
   "cell_type": "markdown",
   "metadata": {
    "id": "UfXWkkngcbnH"
   },
   "source": [
    "### Install Jupyter Notebook\n",
    "\n"
   ]
  },
  {
   "cell_type": "markdown",
   "metadata": {
    "id": "imeJuXbn20R5"
   },
   "source": [
    "In order to execute the queries in this notebook, you need to [install](https://jupyter.org/install) jupyter notebook on your **own machine**, and then download this notebook and [run](https://jupyter.readthedocs.io/en/latest/running.html#running) it locally rather than rely on the colab."
   ]
  },
  {
   "cell_type": "markdown",
   "metadata": {
    "id": "cTFVusbo1uT_"
   },
   "source": [
    "To get started, you first need to execute the cell below to activate the Rumble magic (you do not need to understand what it does, this is just initialization Python code)."
   ]
  },
  {
   "cell_type": "code",
   "execution_count": 1,
   "metadata": {
    "id": "E8wSdtz81-dt"
   },
   "outputs": [],
   "source": [
    "import requests\n",
    "import json\n",
    "import time\n",
    "from IPython.core.magic import register_line_cell_magic\n",
    "\n",
    "@register_line_cell_magic\n",
    "def rumble(line, cell=None):\n",
    "    if cell is None:\n",
    "        data = line\n",
    "    else:\n",
    "        data = cell\n",
    "\n",
    "    start = time.time()                                                         \n",
    "    response = json.loads(requests.post(server, data=data).text)                   \n",
    "    end = time.time()                                                              \n",
    "    print(\"Took: %s s\" % (end - start))\n",
    "\n",
    "    if 'warning' in response:\n",
    "        print(json.dumps(response['warning']))\n",
    "    if 'values' in response:\n",
    "        for e in response['values']:\n",
    "            print(json.dumps(e))\n",
    "    elif 'error-message' in response:\n",
    "        return response['error-message']\n",
    "    else:\n",
    "        return response"
   ]
  },
  {
   "cell_type": "markdown",
   "metadata": {
    "id": "TEJ2EaoE2YOQ"
   },
   "source": [
    "From now we want to run the code on the notebook instead of the shell, hence you can close the shell (Ctrl+C or type 'exit') and execute your own Rumble server by running:\n",
    "\n",
    "If you use Docker:\n",
    "```\n",
    "docker run -p 8001:8001 --rm -it rumbledb/rumble --server yes --host 0.0.0.0\n",
    "```\n",
    "and if you did the local installation\n",
    "```\n",
    "spark-submit rumbledb-1.16.1-for-spark-3.2.jar --server yes\n",
    "```\n",
    "\n",
    "Again, adapt the jar filename if you installed another spark version.\n",
    "\n",
    "Running the command tells you on which port your server is running  on line\n",
    "**`[INFO] Starting Rumble in server mode on port ...`** "
   ]
  },
  {
   "cell_type": "markdown",
   "metadata": {},
   "source": [
    "<img src=\"https://cloud.inf.ethz.ch/s/xPZQpYm676dZopf/download\" width=\"60%\">"
   ]
  },
  {
   "cell_type": "markdown",
   "metadata": {},
   "source": [
    "The port on docker is set to 8001.\n",
    "Locally, the one used on my machine is 8001 as well but adapt yours by changing the port number in the following url."
   ]
  },
  {
   "cell_type": "code",
   "execution_count": 2,
   "metadata": {
    "id": "zmRmKvWZ2ZH7"
   },
   "outputs": [],
   "source": [
    "server = 'http://localhost:8001/jsoniq'"
   ]
  },
  {
   "cell_type": "markdown",
   "metadata": {
    "id": "C6lJq6kJ2HoB"
   },
   "source": [
    "Now we are all set! You can now start reading and executing the JSONiq queries in this notebook as you go, and you can even edit them!"
   ]
  },
  {
   "cell_type": "markdown",
   "metadata": {
    "id": "F892l0gs5bmV"
   },
   "source": [
    "# 3. Rumble Sandbox"
   ]
  },
  {
   "cell_type": "markdown",
   "metadata": {
    "id": "5_NuBtRy4gIp"
   },
   "source": [
    "## JSON\n",
    "\n",
    "As explained on the [official JSON Web site](http://www.json.org/), JSON is a lightweight data-interchange format designed for humans as well as for computers. It supports as values:\n",
    "- objects (string-to-value maps)\n",
    "- arrays (ordered sequences of values)\n",
    "- strings\n",
    "- numbers\n",
    "- booleans (true, false)\n",
    "- null\n",
    "\n",
    "JSONiq provides declarative querying and updating capabilities on JSON data.\n",
    "\n",
    "## Elevator Pitch\n",
    "\n",
    "JSONiq is based on XQuery, which is a W3C standard (like XML and HTML). XQuery is a very powerful declarative language that originally manipulates XML data, but it turns out that it is also a very good fit for manipulating JSON natively.\n",
    "JSONiq, since it extends XQuery, is a very powerful general-purpose declarative programming language. Our experience is that, for the same task, you will probably write about 80% less code compared to imperative languages like JavaScript, Python or Ruby. Additionally, you get the benefits of strong type checking without actually having to write type declarations.\n",
    "Here is an appetizer before we start the tutorial from scratch.\n"
   ]
  },
  {
   "cell_type": "code",
   "execution_count": 3,
   "metadata": {
    "colab": {
     "base_uri": "https://localhost:8080/"
    },
    "id": "mx4djkAV3zom",
    "outputId": "3a2cad17-fb4c-4f8a-c9e1-3eedfb15c2ed"
   },
   "outputs": [
    {
     "name": "stdout",
     "output_type": "stream",
     "text": [
      "Took: 1.006300926208496 s\n",
      "[{\"nb\": 1, \"state\": \"MA\", \"sold\": \"broiler\"}, {\"nb\": 1, \"state\": \"MA\", \"sold\": \"socks\"}, {\"nb\": 2, \"state\": \"MA\", \"sold\": \"toaster\"}, {\"nb\": 2, \"state\": \"MA\", \"sold\": \"toaster\"}, {\"nb\": 2, \"state\": \"MA\", \"sold\": \"socks\"}, {\"nb\": 3, \"state\": \"CA\", \"sold\": \"toaster\"}, {\"nb\": 3, \"state\": \"CA\", \"sold\": \"blender\"}, {\"nb\": 3, \"state\": \"CA\", \"sold\": \"blender\"}, {\"nb\": 3, \"state\": \"CA\", \"sold\": \"shirt\"}]\n"
     ]
    }
   ],
   "source": [
    "%%rumble\n",
    "\n",
    "let $stores :=\n",
    "[\n",
    "  { \"store number\" : 1, \"state\" : \"MA\" },\n",
    "  { \"store number\" : 2, \"state\" : \"MA\" },\n",
    "  { \"store number\" : 3, \"state\" : \"CA\" },\n",
    "  { \"store number\" : 4, \"state\" : \"CA\" }\n",
    "]\n",
    "let $sales := [\n",
    "   { \"product\" : \"broiler\", \"store number\" : 1, \"quantity\" : 20  },\n",
    "   { \"product\" : \"toaster\", \"store number\" : 2, \"quantity\" : 100 },\n",
    "   { \"product\" : \"toaster\", \"store number\" : 2, \"quantity\" : 50 },\n",
    "   { \"product\" : \"toaster\", \"store number\" : 3, \"quantity\" : 50 },\n",
    "   { \"product\" : \"blender\", \"store number\" : 3, \"quantity\" : 100 },\n",
    "   { \"product\" : \"blender\", \"store number\" : 3, \"quantity\" : 150 },\n",
    "   { \"product\" : \"socks\", \"store number\" : 1, \"quantity\" : 500 },\n",
    "   { \"product\" : \"socks\", \"store number\" : 2, \"quantity\" : 10 },\n",
    "   { \"product\" : \"shirt\", \"store number\" : 3, \"quantity\" : 10 }\n",
    "]\n",
    "let $join :=\n",
    "  for $store in $stores[], $sale in $sales[]\n",
    "  where $store.\"store number\" = $sale.\"store number\"\n",
    "  return {\n",
    "    \"nb\" : $store.\"store number\",\n",
    "    \"state\" : $store.state,\n",
    "    \"sold\" : $sale.product\n",
    "  }\n",
    "return [$join]"
   ]
  },
  {
   "cell_type": "markdown",
   "metadata": {
    "id": "_L-2AVNj4xu9"
   },
   "source": [
    "## And here you go\n",
    "\n",
    "### Actually, you already knew some JSONiq\n",
    "\n",
    "The first thing you need to know is that a well-formed JSON document is a JSONiq expression as well.\n",
    "This means that you can copy-and-paste any JSON document into a query. The following are JSONiq queries that are \"idempotent\" (they just output themselves):"
   ]
  },
  {
   "cell_type": "code",
   "execution_count": 4,
   "metadata": {
    "colab": {
     "base_uri": "https://localhost:8080/"
    },
    "id": "CHCFKAio30Ri",
    "outputId": "fb0cea84-4649-43a9-8354-434115363038"
   },
   "outputs": [
    {
     "name": "stdout",
     "output_type": "stream",
     "text": [
      "Took: 0.04699397087097168 s\n",
      "{\"pi\": 3.14, \"sq2\": 1.4}\n"
     ]
    }
   ],
   "source": [
    "%%rumble\n",
    "{ \"pi\" : 3.14, \"sq2\" : 1.4 }"
   ]
  },
  {
   "cell_type": "code",
   "execution_count": 5,
   "metadata": {
    "colab": {
     "base_uri": "https://localhost:8080/"
    },
    "id": "_JmeeMZl45Ns",
    "outputId": "d191845d-3a72-4312-ffc5-d1349efdcdd1"
   },
   "outputs": [
    {
     "name": "stdout",
     "output_type": "stream",
     "text": [
      "Took: 0.02355790138244629 s\n",
      "[2, 3, 5, 7, 11, 13]\n"
     ]
    }
   ],
   "source": [
    "%%rumble\n",
    "[ 2, 3, 5, 7, 11, 13 ]"
   ]
  },
  {
   "cell_type": "code",
   "execution_count": 6,
   "metadata": {
    "colab": {
     "base_uri": "https://localhost:8080/"
    },
    "id": "HkvoBs9M46NF",
    "outputId": "516b8c65-c0d2-4119-ed0d-c0c45f861391"
   },
   "outputs": [
    {
     "name": "stdout",
     "output_type": "stream",
     "text": [
      "Took: 0.025409936904907227 s\n",
      "{\"operations\": [{\"binary\": [\"and\", \"or\"]}, {\"unary\": [\"not\"]}], \"bits\": [0, 1]}\n"
     ]
    }
   ],
   "source": [
    "%%rumble\n",
    "{\n",
    "      \"operations\" : [\n",
    "        { \"binary\" : [ \"and\", \"or\"] },\n",
    "        { \"unary\" : [\"not\"] }\n",
    "      ],\n",
    "      \"bits\" : [\n",
    "        0, 1\n",
    "      ]\n",
    "    }"
   ]
  },
  {
   "cell_type": "code",
   "execution_count": 7,
   "metadata": {
    "colab": {
     "base_uri": "https://localhost:8080/"
    },
    "id": "AHtMILv349g5",
    "outputId": "d1a7f9da-573d-4838-b130-b4d3fc88d9d1"
   },
   "outputs": [
    {
     "name": "stdout",
     "output_type": "stream",
     "text": [
      "Took: 0.03923606872558594 s\n",
      "[{\"Question\": \"Ultimate\"}, [\"Life\", \"the universe\", \"and everything\"]]\n"
     ]
    }
   ],
   "source": [
    "%%rumble\n",
    "[ { \"Question\" : \"Ultimate\" }, [\"Life\", \"the universe\", \"and everything\"] ]"
   ]
  },
  {
   "cell_type": "markdown",
   "metadata": {
    "id": "TsX2S4IG5CZ-"
   },
   "source": [
    "\n",
    "This works with objects, arrays (even nested), strings, numbers, booleans, null.\n",
    "\n",
    "It also works the other way round: if your query outputs an object or an array, you can use it as a JSON document. JSONiq is a declarative language. This means that you only need to say what you want - the compiler will take care of the how.\n",
    "\n",
    "In the above queries, you are basically saying: I want to output this JSON content, and here it is."
   ]
  },
  {
   "cell_type": "markdown",
   "metadata": {
    "id": "YyaQW8HIhrKW"
   },
   "source": [
    "## JSONiq basics\n",
    "\n",
    "### The real JSONiq Hello, World!\n",
    "\n",
    "Wondering what a hello world program looks like in JSONiq? Here it is:"
   ]
  },
  {
   "cell_type": "code",
   "execution_count": 8,
   "metadata": {
    "colab": {
     "base_uri": "https://localhost:8080/"
    },
    "id": "m2-VyECPhrKW",
    "outputId": "8240399c-f4e2-4093-9bab-730483682202"
   },
   "outputs": [
    {
     "name": "stdout",
     "output_type": "stream",
     "text": [
      "Took: 0.02448892593383789 s\n",
      "\"Hello, World!\"\n"
     ]
    }
   ],
   "source": [
    "%%rumble\n",
    "\"Hello, World!\""
   ]
  },
  {
   "cell_type": "markdown",
   "metadata": {
    "id": "Uy48JTprhrKW"
   },
   "source": [
    "Not surprisingly, it outputs the string \"Hello, World!\".\n",
    "\n",
    "### Numbers and arithmetic operations\n",
    "\n",
    "Okay, so, now, you might be thinking: \"What is the use of this language if it just outputs what I put in?\" Of course, JSONiq can more than that. And still in a declarative way. Here is how it works with numbers:"
   ]
  },
  {
   "cell_type": "code",
   "execution_count": 9,
   "metadata": {
    "colab": {
     "base_uri": "https://localhost:8080/"
    },
    "id": "3wBwni49hrKW",
    "outputId": "701bc69a-df71-4d98-ad24-58846f19d1e7"
   },
   "outputs": [
    {
     "name": "stdout",
     "output_type": "stream",
     "text": [
      "Took: 0.031881093978881836 s\n",
      "4\n"
     ]
    }
   ],
   "source": [
    "%%rumble\n",
    "2 + 2"
   ]
  },
  {
   "cell_type": "code",
   "execution_count": 10,
   "metadata": {
    "colab": {
     "base_uri": "https://localhost:8080/"
    },
    "id": "CWOO__4khrKW",
    "outputId": "eb96f30a-13aa-4bd7-aad6-aa26bef5d563"
   },
   "outputs": [
    {
     "name": "stdout",
     "output_type": "stream",
     "text": [
      "Took: 0.03168892860412598 s\n",
      "42\n"
     ]
    }
   ],
   "source": [
    "%%rumble\n",
    " (38 + 2) div 2 + 11 * 2\n"
   ]
  },
  {
   "cell_type": "markdown",
   "metadata": {
    "id": "5FZceBJWhrKW"
   },
   "source": [
    "(mind the division operator which is the \"div\" keyword. The slash operator has different semantics).\n",
    "\n",
    "Like JSON, JSONiq works with decimals and doubles:"
   ]
  },
  {
   "cell_type": "code",
   "execution_count": 11,
   "metadata": {
    "colab": {
     "base_uri": "https://localhost:8080/"
    },
    "id": "KlAPfbwbhrKW",
    "outputId": "1fc65cbe-66a4-4e18-9753-23b8c064c98e"
   },
   "outputs": [
    {
     "name": "stdout",
     "output_type": "stream",
     "text": [
      "Took: 0.03443789482116699 s\n",
      "2.52924e+25\n"
     ]
    }
   ],
   "source": [
    "%%rumble\n",
    " 6.022e23 * 42"
   ]
  },
  {
   "cell_type": "markdown",
   "metadata": {
    "id": "MmFfvP9lhrKW"
   },
   "source": [
    "### Logical operations\n",
    "\n",
    "JSONiq supports boolean operations."
   ]
  },
  {
   "cell_type": "code",
   "execution_count": 12,
   "metadata": {
    "colab": {
     "base_uri": "https://localhost:8080/"
    },
    "id": "yClsI5LehrKW",
    "outputId": "a0c08cb6-460b-42a7-bbea-d1f607c9e851"
   },
   "outputs": [
    {
     "name": "stdout",
     "output_type": "stream",
     "text": [
      "Took: 0.026146888732910156 s\n",
      "false\n"
     ]
    }
   ],
   "source": [
    "%%rumble\n",
    "true and false"
   ]
  },
  {
   "cell_type": "code",
   "execution_count": 13,
   "metadata": {
    "colab": {
     "base_uri": "https://localhost:8080/"
    },
    "id": "KVQgXpgzhrKW",
    "outputId": "2e86627f-fa71-4558-c8d8-e35dfa21a310"
   },
   "outputs": [
    {
     "name": "stdout",
     "output_type": "stream",
     "text": [
      "Took: 0.024437904357910156 s\n",
      "true\n"
     ]
    }
   ],
   "source": [
    "%%rumble\n",
    "(true or false) and (false or true)"
   ]
  },
  {
   "cell_type": "markdown",
   "metadata": {
    "id": "VDIvgk5khrKW"
   },
   "source": [
    "The unary not is also available:"
   ]
  },
  {
   "cell_type": "code",
   "execution_count": 14,
   "metadata": {
    "cell_status": {
     "execute_time": {
      "duration": 243.537109375,
      "end_time": 1557235032261.665
     }
    },
    "colab": {
     "base_uri": "https://localhost:8080/"
    },
    "id": "djGZSV0MhrKW",
    "outputId": "a3ce0220-eacc-4ef5-fc6e-14c68ba15081"
   },
   "outputs": [
    {
     "name": "stdout",
     "output_type": "stream",
     "text": [
      "Took: 0.024089813232421875 s\n",
      "false\n"
     ]
    }
   ],
   "source": [
    "%%rumble\n",
    "not true"
   ]
  },
  {
   "cell_type": "markdown",
   "metadata": {
    "id": "eELMD0pqhrKW"
   },
   "source": [
    "### Strings\n",
    "\n",
    "JSONiq is capable of manipulating strings as well, using functions:\n"
   ]
  },
  {
   "cell_type": "code",
   "execution_count": 15,
   "metadata": {
    "cell_status": {
     "execute_time": {
      "duration": 21398.401123046875,
      "end_time": 1557212587338.105
     }
    },
    "colab": {
     "base_uri": "https://localhost:8080/"
    },
    "id": "6YwugMo5hrKW",
    "outputId": "0a9324ee-459a-40bf-f124-7bbf1c672f66"
   },
   "outputs": [
    {
     "name": "stdout",
     "output_type": "stream",
     "text": [
      "Took: 0.1690840721130371 s\n",
      "\"Hello Captain Kirk\"\n"
     ]
    }
   ],
   "source": [
    "%%rumble\n",
    "concat(\"Hello \", \"Captain \", \"Kirk\")"
   ]
  },
  {
   "cell_type": "code",
   "execution_count": 16,
   "metadata": {
    "cell_status": {
     "execute_time": {
      "duration": 752.509033203125,
      "end_time": 1557234001018.501
     }
    },
    "colab": {
     "base_uri": "https://localhost:8080/"
    },
    "id": "lGrKFlHVhrKW",
    "outputId": "d87b2eb5-cacb-4dc4-bc0f-8248f8a0d590"
   },
   "outputs": [
    {
     "name": "stdout",
     "output_type": "stream",
     "text": [
      "Took: 0.019188880920410156 s\n",
      "\"Spock\"\n"
     ]
    }
   ],
   "source": [
    "%%rumble\n",
    "substring(\"Mister Spock\", 8, 5)"
   ]
  },
  {
   "cell_type": "markdown",
   "metadata": {
    "id": "ZBusMnoShrKW"
   },
   "source": [
    "JSONiq comes up with a rich string function library out of the box, inherited from its base language. These functions are listed [here](https://www.w3.org/TR/xpath-functions-30/) (actually, you will find many more for numbers, dates, etc).\n"
   ]
  },
  {
   "cell_type": "markdown",
   "metadata": {
    "cell_status": {
     "execute_time": {
      "duration": 17337.39599609375,
      "end_time": 1557230774662.657
     }
    },
    "id": "FIA6t1cbhrKW"
   },
   "source": [
    "\n",
    "### Sequences\n",
    "\n",
    "Until now, we have only been working with single values (an object, an array, a number, a string, a boolean). JSONiq supports sequences of values. You can build a sequence using commas:\n"
   ]
  },
  {
   "cell_type": "code",
   "execution_count": 17,
   "metadata": {
    "colab": {
     "base_uri": "https://localhost:8080/"
    },
    "id": "30E1G-s5hrKW",
    "outputId": "6dfb54e8-6dcd-4e2e-f96d-1af10b3c2e70"
   },
   "outputs": [
    {
     "name": "stdout",
     "output_type": "stream",
     "text": [
      "Took: 0.02513885498046875 s\n",
      "1\n",
      "2\n",
      "3\n",
      "4\n",
      "5\n",
      "6\n",
      "7\n",
      "8\n",
      "9\n",
      "10\n"
     ]
    }
   ],
   "source": [
    "%%rumble\n",
    " (1, 2, 3, 4, 5, 6, 7, 8, 9, 10)"
   ]
  },
  {
   "cell_type": "code",
   "execution_count": 18,
   "metadata": {
    "cell_status": {
     "execute_time": {
      "duration": 222241.63500976562,
      "end_time": 1557387411306.792
     }
    },
    "colab": {
     "base_uri": "https://localhost:8080/"
    },
    "id": "FzbtJmhKhrKW",
    "outputId": "4aed1541-ca55-44d1-d82a-b4018abf842f"
   },
   "outputs": [
    {
     "name": "stdout",
     "output_type": "stream",
     "text": [
      "Took: 0.024859189987182617 s\n",
      "1\n",
      "true\n",
      "42\n",
      "\"Life\"\n"
     ]
    }
   ],
   "source": [
    "%%rumble\n",
    "1, true, 4.2e1, \"Life\""
   ]
  },
  {
   "cell_type": "markdown",
   "metadata": {
    "id": "X_rMosG5hrKW"
   },
   "source": [
    "The \"to\" operator is very convenient, too:"
   ]
  },
  {
   "cell_type": "code",
   "execution_count": 19,
   "metadata": {
    "cell_status": {
     "execute_time": {
      "duration": 39579.559814453125,
      "end_time": 1557387951481.842
     }
    },
    "colab": {
     "base_uri": "https://localhost:8080/"
    },
    "id": "IoBx9SdShrKW",
    "outputId": "2bc9365b-9eec-4d2e-ef87-028b462858ee"
   },
   "outputs": [
    {
     "name": "stdout",
     "output_type": "stream",
     "text": [
      "Took: 0.02121114730834961 s\n",
      "1\n",
      "2\n",
      "3\n",
      "4\n",
      "5\n",
      "6\n",
      "7\n",
      "8\n",
      "9\n",
      "10\n",
      "11\n",
      "12\n",
      "13\n",
      "14\n",
      "15\n",
      "16\n",
      "17\n",
      "18\n",
      "19\n",
      "20\n",
      "21\n",
      "22\n",
      "23\n",
      "24\n",
      "25\n",
      "26\n",
      "27\n",
      "28\n",
      "29\n",
      "30\n",
      "31\n",
      "32\n",
      "33\n",
      "34\n",
      "35\n",
      "36\n",
      "37\n",
      "38\n",
      "39\n",
      "40\n",
      "41\n",
      "42\n",
      "43\n",
      "44\n",
      "45\n",
      "46\n",
      "47\n",
      "48\n",
      "49\n",
      "50\n",
      "51\n",
      "52\n",
      "53\n",
      "54\n",
      "55\n",
      "56\n",
      "57\n",
      "58\n",
      "59\n",
      "60\n",
      "61\n",
      "62\n",
      "63\n",
      "64\n",
      "65\n",
      "66\n",
      "67\n",
      "68\n",
      "69\n",
      "70\n",
      "71\n",
      "72\n",
      "73\n",
      "74\n",
      "75\n",
      "76\n",
      "77\n",
      "78\n",
      "79\n",
      "80\n",
      "81\n",
      "82\n",
      "83\n",
      "84\n",
      "85\n",
      "86\n",
      "87\n",
      "88\n",
      "89\n",
      "90\n",
      "91\n",
      "92\n",
      "93\n",
      "94\n",
      "95\n",
      "96\n",
      "97\n",
      "98\n",
      "99\n",
      "100\n"
     ]
    }
   ],
   "source": [
    "%%rumble\n",
    " (1 to 100)"
   ]
  },
  {
   "cell_type": "markdown",
   "metadata": {
    "id": "v0cwsmaMhrKW"
   },
   "source": [
    "Some functions even work on sequences:"
   ]
  },
  {
   "cell_type": "code",
   "execution_count": 20,
   "metadata": {
    "cell_status": {
     "execute_time": {
      "duration": 27601.31787109375,
      "end_time": 1557171455208.987
     }
    },
    "colab": {
     "base_uri": "https://localhost:8080/"
    },
    "id": "GRY2tHEQhrKX",
    "outputId": "5f311e43-149a-475f-ab75-d0ab1bda141e"
   },
   "outputs": [
    {
     "name": "stdout",
     "output_type": "stream",
     "text": [
      "Took: 0.02873969078063965 s\n",
      "5050\n"
     ]
    }
   ],
   "source": [
    "%%rumble\n",
    "sum(1 to 100)"
   ]
  },
  {
   "cell_type": "code",
   "execution_count": 21,
   "metadata": {
    "cell_status": {
     "execute_time": {
      "duration": 55527.44091796875,
      "end_time": 1557229508578.007
     }
    },
    "colab": {
     "base_uri": "https://localhost:8080/"
    },
    "id": "khUaAhjjhrKX",
    "outputId": "e11a688a-0289-4258-dff7-f7bf6581af0e"
   },
   "outputs": [
    {
     "name": "stdout",
     "output_type": "stream",
     "text": [
      "Took: 0.020885944366455078 s\n",
      "\"These-are-some-words\"\n"
     ]
    }
   ],
   "source": [
    "%%rumble\n",
    "string-join((\"These\", \"are\", \"some\", \"words\"), \"-\")"
   ]
  },
  {
   "cell_type": "code",
   "execution_count": 22,
   "metadata": {
    "cell_status": {
     "execute_time": {
      "duration": 13343.739013671875,
      "end_time": 1557224627704.526
     }
    },
    "colab": {
     "base_uri": "https://localhost:8080/"
    },
    "id": "93Jz2DaFhrKX",
    "outputId": "12524661-04f4-4024-9a39-ee46952e55ea"
   },
   "outputs": [
    {
     "name": "stdout",
     "output_type": "stream",
     "text": [
      "Took: 0.0316319465637207 s\n",
      "11\n"
     ]
    }
   ],
   "source": [
    "%%rumble\n",
    "count(10 to 20)"
   ]
  },
  {
   "cell_type": "code",
   "execution_count": 23,
   "metadata": {
    "cell_status": {
     "execute_time": {
      "duration": 19340.81201171875,
      "end_time": 1557220260002.04
     }
    },
    "colab": {
     "base_uri": "https://localhost:8080/"
    },
    "id": "3FDtCtVChrKX",
    "outputId": "00a87695-4616-4754-f039-957e9d6abed2"
   },
   "outputs": [
    {
     "name": "stdout",
     "output_type": "stream",
     "text": [
      "Took: 0.02544713020324707 s\n",
      "50.5\n"
     ]
    }
   ],
   "source": [
    "%%rumble\n",
    "avg(1 to 100)"
   ]
  },
  {
   "cell_type": "markdown",
   "metadata": {
    "id": "hG7zwtfWhrKX"
   },
   "source": [
    "Unlike arrays, sequences are flat. The sequence (3) is identical to the integer 3, and (1, (2, 3)) is identical to (1, 2, 3)."
   ]
  },
  {
   "cell_type": "markdown",
   "metadata": {
    "cell_status": {
     "execute_time": {
      "duration": 433204.9020996094,
      "end_time": 1557221766692.589
     }
    },
    "id": "t1Y_5iuBhrKX",
    "scrolled": false
   },
   "source": [
    "## A bit more in depth\n",
    "\n",
    "### Variables\n",
    "\n",
    "You can bind a sequence of values to a (dollar-prefixed) variable, like so:"
   ]
  },
  {
   "cell_type": "code",
   "execution_count": 24,
   "metadata": {
    "colab": {
     "base_uri": "https://localhost:8080/"
    },
    "id": "IQZBFJlMhrKX",
    "outputId": "48e0fae3-e6dc-470f-9994-ebd1935413d5"
   },
   "outputs": [
    {
     "name": "stdout",
     "output_type": "stream",
     "text": [
      "Took: 0.021946191787719727 s\n",
      "\"Bearing 3 1 4 Mark 5. Engage!\"\n"
     ]
    }
   ],
   "source": [
    "%%rumble\n",
    "let $x := \"Bearing 3 1 4 Mark 5. \"\n",
    "return concat($x, \"Engage!\")"
   ]
  },
  {
   "cell_type": "code",
   "execution_count": 25,
   "metadata": {
    "colab": {
     "base_uri": "https://localhost:8080/"
    },
    "id": "-Zh0x645hrKX",
    "outputId": "4c28f554-c9ca-4340-c349-05a10b1b85c8"
   },
   "outputs": [
    {
     "name": "stdout",
     "output_type": "stream",
     "text": [
      "Took: 0.02002406120300293 s\n",
      "\"Kirk and Picard and Sisko\"\n"
     ]
    }
   ],
   "source": [
    "%%rumble\n",
    "let $x := (\"Kirk\", \"Picard\", \"Sisko\")\n",
    "return string-join($x, \" and \")"
   ]
  },
  {
   "cell_type": "markdown",
   "metadata": {
    "id": "8zkA2HFAhrKX"
   },
   "source": [
    "You can bind as many variables as you want:"
   ]
  },
  {
   "cell_type": "code",
   "execution_count": 26,
   "metadata": {
    "colab": {
     "base_uri": "https://localhost:8080/"
    },
    "id": "RQifv3ezhrKX",
    "outputId": "5fba50d8-5bf1-43ac-ce33-eab339ddbf01"
   },
   "outputs": [
    {
     "name": "stdout",
     "output_type": "stream",
     "text": [
      "Took: 0.02782917022705078 s\n",
      "1\n",
      "2\n",
      "3\n"
     ]
    }
   ],
   "source": [
    "%%rumble\n",
    "let $x := 1\n",
    "let $y := $x * 2\n",
    "let $z := $y + $x\n",
    "return ($x, $y, $z)"
   ]
  },
  {
   "cell_type": "markdown",
   "metadata": {
    "id": "OLuNB3rbhrKX"
   },
   "source": [
    "and even reuse the same name to hide formerly declared variables:"
   ]
  },
  {
   "cell_type": "code",
   "execution_count": 27,
   "metadata": {
    "colab": {
     "base_uri": "https://localhost:8080/"
    },
    "id": "itMBTXAGhrKX",
    "outputId": "a25d9255-5b1a-4b2c-d687-c63ab6fc9375"
   },
   "outputs": [
    {
     "name": "stdout",
     "output_type": "stream",
     "text": [
      "Took: 0.030309200286865234 s\n",
      "6\n"
     ]
    }
   ],
   "source": [
    "%%rumble\n",
    "let $x := 1\n",
    "let $x := $x + 2\n",
    "let $x := $x + 3\n",
    "return $x"
   ]
  },
  {
   "cell_type": "markdown",
   "metadata": {
    "id": "U13Yla0ghrKX"
   },
   "source": [
    "### Iteration\n",
    "\n",
    "In a way very similar to let, you can iterate over a sequence of values with the \"for\" keyword. Instead of binding the entire sequence of the variable, it will bind each value of the sequence in turn to this variable."
   ]
  },
  {
   "cell_type": "code",
   "execution_count": 28,
   "metadata": {
    "colab": {
     "base_uri": "https://localhost:8080/"
    },
    "id": "6p-sWqTbhrKX",
    "outputId": "f25f6777-06a9-4f92-d36d-259828410813"
   },
   "outputs": [
    {
     "name": "stdout",
     "output_type": "stream",
     "text": [
      "Took: 0.01728677749633789 s\n",
      "2\n",
      "4\n",
      "6\n",
      "8\n",
      "10\n",
      "12\n",
      "14\n",
      "16\n",
      "18\n",
      "20\n"
     ]
    }
   ],
   "source": [
    "%%rumble\n",
    "for $i in 1 to 10\n",
    "return $i * 2"
   ]
  },
  {
   "cell_type": "markdown",
   "metadata": {
    "id": "NlEgcpIGhrKX"
   },
   "source": [
    "More interestingly, you can combine fors and lets like so:"
   ]
  },
  {
   "cell_type": "code",
   "execution_count": 29,
   "metadata": {
    "colab": {
     "base_uri": "https://localhost:8080/"
    },
    "id": "Ml_bcBOQhrKX",
    "outputId": "6f5cdb95-da52-4c21-d533-061471947ddd"
   },
   "outputs": [
    {
     "name": "stdout",
     "output_type": "stream",
     "text": [
      "Took: 0.03367185592651367 s\n",
      "2\n",
      "4\n",
      "6\n",
      "8\n",
      "10\n",
      "12\n",
      "14\n",
      "16\n",
      "18\n",
      "20\n"
     ]
    }
   ],
   "source": [
    "%%rumble\n",
    "let $sequence := 1 to 10\n",
    "for $value in $sequence\n",
    "let $square := $value * 2\n",
    "return $square"
   ]
  },
  {
   "cell_type": "markdown",
   "metadata": {
    "id": "wP-22ufxhrKX"
   },
   "source": [
    "and even filter out some values:"
   ]
  },
  {
   "cell_type": "code",
   "execution_count": 30,
   "metadata": {
    "colab": {
     "base_uri": "https://localhost:8080/"
    },
    "id": "ERlSrAa7hrKX",
    "outputId": "de0fa418-52ac-4e66-d14d-06d2dc1fc764"
   },
   "outputs": [
    {
     "name": "stdout",
     "output_type": "stream",
     "text": [
      "Took: 0.027679920196533203 s\n",
      "2\n",
      "4\n",
      "6\n",
      "8\n"
     ]
    }
   ],
   "source": [
    "%%rumble\n",
    "let $sequence := 1 to 10\n",
    "for $value in $sequence\n",
    "let $square := $value * 2\n",
    "where $square < 10\n",
    "return $square"
   ]
  },
  {
   "cell_type": "markdown",
   "metadata": {
    "id": "SmCGI8DkhrKX"
   },
   "source": [
    "Note that you can only iterate over sequences, not arrays. To iterate over an array, you can obtain the sequence of its values with the [] operator, like so:\n"
   ]
  },
  {
   "cell_type": "code",
   "execution_count": 31,
   "metadata": {
    "colab": {
     "base_uri": "https://localhost:8080/"
    },
    "id": "ntMrbesIhrKX",
    "outputId": "43de2799-bea4-4fc0-d12a-a1307142f327"
   },
   "outputs": [
    {
     "name": "stdout",
     "output_type": "stream",
     "text": [
      "Took: 0.021741151809692383 s\n",
      "1\n",
      "2\n",
      "3\n"
     ]
    }
   ],
   "source": [
    "%%rumble\n",
    "[1, 2, 3][]"
   ]
  },
  {
   "cell_type": "markdown",
   "metadata": {
    "id": "kEJLBHoghrKX"
   },
   "source": [
    "### Conditions\n",
    "\n",
    "You can make the output depend on a condition with an if-then-else construct:"
   ]
  },
  {
   "cell_type": "code",
   "execution_count": 32,
   "metadata": {
    "colab": {
     "base_uri": "https://localhost:8080/"
    },
    "id": "gwq7TT5bhrKX",
    "outputId": "5f7f6c0e-f8c5-4c5e-8318-364c8a5d99c6"
   },
   "outputs": [
    {
     "name": "stdout",
     "output_type": "stream",
     "text": [
      "Took: 0.026714086532592773 s\n",
      "1\n",
      "2\n",
      "3\n",
      "4\n",
      "-5\n",
      "-6\n",
      "-7\n",
      "-8\n",
      "-9\n",
      "-10\n"
     ]
    }
   ],
   "source": [
    "%%rumble\n",
    "for $x in 1 to 10\n",
    "return if ($x < 5) then $x\n",
    "                   else -$x"
   ]
  },
  {
   "cell_type": "markdown",
   "metadata": {
    "id": "gItSAnHAhrKX"
   },
   "source": [
    "Note that the else clause is required - however, it can be the empty sequence () which is often when you need if only the then clause is relevant to you."
   ]
  },
  {
   "cell_type": "markdown",
   "metadata": {
    "id": "bkJkimFphrKX"
   },
   "source": [
    "### Composability of Expressions\n",
    "\n",
    "Now that you know of a couple of elementary JSONiq expressions, you can combine them in more elaborate expressions. For example, you can put any sequence of values in an array:"
   ]
  },
  {
   "cell_type": "code",
   "execution_count": 33,
   "metadata": {
    "colab": {
     "base_uri": "https://localhost:8080/"
    },
    "id": "-j-CBM7OhrKX",
    "outputId": "fea11cf0-d137-43f9-ccac-ccf9b6f85591"
   },
   "outputs": [
    {
     "name": "stdout",
     "output_type": "stream",
     "text": [
      "Took: 0.018603086471557617 s\n",
      "[1, 2, 3, 4, 5, 6, 7, 8, 9, 10]\n"
     ]
    }
   ],
   "source": [
    "%%rumble\n",
    "[ 1 to 10 ]"
   ]
  },
  {
   "cell_type": "markdown",
   "metadata": {
    "id": "bItRSk5mhrKY"
   },
   "source": [
    "Or you can dynamically compute the value of object pairs (or their key):"
   ]
  },
  {
   "cell_type": "code",
   "execution_count": 34,
   "metadata": {
    "colab": {
     "base_uri": "https://localhost:8080/"
    },
    "id": "dh4HMny2hrKY",
    "outputId": "0c49c543-727a-4bea-bf68-efda10523f2c"
   },
   "outputs": [
    {
     "name": "stdout",
     "output_type": "stream",
     "text": [
      "Took: 0.01826190948486328 s\n",
      "{\"Greeting\": \"Hello, Mister Spock\", \"Farewell\": \"Live long and prosper\"}\n"
     ]
    }
   ],
   "source": [
    "%%rumble\n",
    "{\n",
    "      \"Greeting\" : (let $d := \"Mister Spock\"\n",
    "                    return concat(\"Hello, \", $d)),\n",
    "      \"Farewell\" : string-join((\"Live\", \"long\", \"and\", \"prosper\"),\n",
    "                               \" \")\n",
    "}"
   ]
  },
  {
   "cell_type": "markdown",
   "metadata": {
    "id": "TWReZYhohrKY"
   },
   "source": [
    "You can dynamically generate object singletons (with a single pair):\n"
   ]
  },
  {
   "cell_type": "code",
   "execution_count": 35,
   "metadata": {
    "colab": {
     "base_uri": "https://localhost:8080/"
    },
    "id": "QHDNi1QjhrKY",
    "outputId": "610be9b1-602c-4f2e-f7c3-9e2fb3661656"
   },
   "outputs": [
    {
     "name": "stdout",
     "output_type": "stream",
     "text": [
      "Took: 0.02002096176147461 s\n",
      "{\"Integer 2\": 4}\n"
     ]
    }
   ],
   "source": [
    "%%rumble\n",
    "{ concat(\"Integer \", 2) : 2 * 2 }"
   ]
  },
  {
   "cell_type": "markdown",
   "metadata": {
    "id": "sPptIS_4hrKY"
   },
   "source": [
    "and then merge lots of them into a new object with the {| |} notation:"
   ]
  },
  {
   "cell_type": "code",
   "execution_count": 36,
   "metadata": {
    "colab": {
     "base_uri": "https://localhost:8080/"
    },
    "id": "KEw2x-1jhrKY",
    "outputId": "a904a920-a640-4ca8-9210-b6ed363de203"
   },
   "outputs": [
    {
     "name": "stdout",
     "output_type": "stream",
     "text": [
      "Took: 0.024817943572998047 s\n",
      "{\"Square of 1\": 1, \"Square of 2\": 4, \"Square of 3\": 9, \"Square of 4\": 16, \"Square of 5\": 25, \"Square of 6\": 36, \"Square of 7\": 49, \"Square of 8\": 64, \"Square of 9\": 81, \"Square of 10\": 100}\n"
     ]
    }
   ],
   "source": [
    "%%rumble\n",
    "{|\n",
    "    for $i in 1 to 10\n",
    "    return { concat(\"Square of \", $i) : $i * $i }\n",
    "|}"
   ]
  },
  {
   "cell_type": "code",
   "execution_count": null,
   "metadata": {
    "id": "gq8CgKbc6k6G"
   },
   "outputs": [],
   "source": []
  },
  {
   "cell_type": "markdown",
   "metadata": {
    "id": "Zj9AgqsBhrKY"
   },
   "source": [
    "## JSON Navigation\n",
    "\n",
    "Up to now, you have learnt how to compose expressions so as to do some computations and to build objects and arrays. It also works the other way round: if you have some JSON data, you can access it and navigate.\n",
    "All you need to know is: JSONiq views\n",
    "an array as an ordered list of values,\n",
    "an object as a set of name/value pairs\n"
   ]
  },
  {
   "cell_type": "markdown",
   "metadata": {
    "id": "4NMMWdnShrKY"
   },
   "source": [
    "### Objects\n",
    "\n",
    "You can use the dot operator to retrieve the value associated with a key. Quotes are optional, except if the key has special characters such as spaces. It will return the value associated thereto:"
   ]
  },
  {
   "cell_type": "code",
   "execution_count": 37,
   "metadata": {
    "colab": {
     "base_uri": "https://localhost:8080/"
    },
    "id": "VFfwP0nfhrKY",
    "outputId": "a9ce97bf-b2a8-48dc-9a95-ead2621e6e65"
   },
   "outputs": [
    {
     "name": "stdout",
     "output_type": "stream",
     "text": [
      "Took: 0.017603158950805664 s\n",
      "\"Sarah\"\n"
     ]
    }
   ],
   "source": [
    "%%rumble\n",
    "let $person := {\n",
    "    \"first name\" : \"Sarah\",\n",
    "    \"age\" : 13,\n",
    "    \"gender\" : \"female\",\n",
    "    \"friends\" : [ \"Jim\", \"Mary\", \"Jennifer\"]\n",
    "}\n",
    "return $person.\"first name\""
   ]
  },
  {
   "cell_type": "markdown",
   "metadata": {
    "id": "PkxiFID7hrKY"
   },
   "source": [
    "You can also ask for all keys in an object:"
   ]
  },
  {
   "cell_type": "code",
   "execution_count": 38,
   "metadata": {
    "colab": {
     "base_uri": "https://localhost:8080/"
    },
    "id": "8T2OCFUghrKY",
    "outputId": "b8ea74a3-7bde-4267-a5be-a50cdf60a0cf"
   },
   "outputs": [
    {
     "name": "stdout",
     "output_type": "stream",
     "text": [
      "Took: 0.024400711059570312 s\n",
      "{\"keys\": [\"name\", \"age\", \"gender\", \"friends\"]}\n"
     ]
    }
   ],
   "source": [
    "%%rumble\n",
    "let $person := {\n",
    "    \"name\" : \"Sarah\",\n",
    "    \"age\" : 13,\n",
    "    \"gender\" : \"female\",\n",
    "    \"friends\" : [ \"Jim\", \"Mary\", \"Jennifer\"]\n",
    "}\n",
    "return { \"keys\" : [ keys($person)] }"
   ]
  },
  {
   "cell_type": "markdown",
   "metadata": {
    "id": "oim6bAQyhrKY"
   },
   "source": [
    "### Arrays\n",
    "\n",
    "The [[]] operator retrieves the entry at the given position:"
   ]
  },
  {
   "cell_type": "code",
   "execution_count": 39,
   "metadata": {
    "colab": {
     "base_uri": "https://localhost:8080/"
    },
    "id": "P14wlsn2hrKY",
    "outputId": "25e256e0-44b7-40c1-e58f-cd052957bad7"
   },
   "outputs": [
    {
     "name": "stdout",
     "output_type": "stream",
     "text": [
      "Took: 0.021285057067871094 s\n",
      "\"Mary\"\n"
     ]
    }
   ],
   "source": [
    "%%rumble\n",
    "let $friends := [ \"Jim\", \"Mary\", \"Jennifer\"]\n",
    "return $friends[[1+1]]"
   ]
  },
  {
   "cell_type": "markdown",
   "metadata": {
    "id": "drILINuehrKY"
   },
   "source": [
    "It is also possible to get the size of an array:"
   ]
  },
  {
   "cell_type": "code",
   "execution_count": 40,
   "metadata": {
    "colab": {
     "base_uri": "https://localhost:8080/"
    },
    "id": "GPTzsEWuhrKY",
    "outputId": "a388685f-2c52-474a-d1d3-54e21b56da7a"
   },
   "outputs": [
    {
     "name": "stdout",
     "output_type": "stream",
     "text": [
      "Took: 0.02326512336730957 s\n",
      "{\"how many friends\": 3}\n"
     ]
    }
   ],
   "source": [
    "%%rumble\n",
    "let $person := {\n",
    "    \"name\" : \"Sarah\",\n",
    "    \"age\" : 13,\n",
    "    \"gender\" : \"female\",\n",
    "    \"friends\" : [ \"Jim\", \"Mary\", \"Jennifer\"]\n",
    "}\n",
    "return { \"how many friends\" : size($person.friends) }"
   ]
  },
  {
   "cell_type": "markdown",
   "metadata": {
    "id": "HnVfQuPYhrKY"
   },
   "source": [
    "Finally, the [] operator returns all elements in an array, as a sequence:"
   ]
  },
  {
   "cell_type": "code",
   "execution_count": 41,
   "metadata": {
    "colab": {
     "base_uri": "https://localhost:8080/"
    },
    "id": "cnr5WXjohrKY",
    "outputId": "b6ac5240-9c48-44e6-9114-6274931ff5f7"
   },
   "outputs": [
    {
     "name": "stdout",
     "output_type": "stream",
     "text": [
      "Took: 0.04448819160461426 s\n",
      "\"Jim\"\n",
      "\"Mary\"\n",
      "\"Jennifer\"\n"
     ]
    }
   ],
   "source": [
    "%%rumble\n",
    "let $person := {\n",
    "    \"name\" : \"Sarah\",\n",
    "    \"age\" : 13,\n",
    "    \"gender\" : \"female\",\n",
    "    \"friends\" : [ \"Jim\", \"Mary\", \"Jennifer\"]\n",
    "}\n",
    "return $person.friends[]"
   ]
  },
  {
   "cell_type": "markdown",
   "metadata": {
    "id": "kyzBECFMhrKY"
   },
   "source": [
    "### Relational Algebra\n",
    "\n",
    "Do you remember SQL's SELECT FROM WHERE statements? JSONiq inherits selection, projection and join capability from XQuery, too."
   ]
  },
  {
   "cell_type": "code",
   "execution_count": 42,
   "metadata": {
    "colab": {
     "base_uri": "https://localhost:8080/"
    },
    "id": "nqHxqtoYhrKY",
    "outputId": "6546f3ee-fd42-428f-91b4-c2619c79c8ee"
   },
   "outputs": [
    {
     "name": "stdout",
     "output_type": "stream",
     "text": [
      "Took: 0.04973316192626953 s\n",
      "[{\"nb\": 1, \"state\": \"MA\", \"sold\": \"broiler\"}, {\"nb\": 1, \"state\": \"MA\", \"sold\": \"socks\"}, {\"nb\": 2, \"state\": \"MA\", \"sold\": \"toaster\"}, {\"nb\": 2, \"state\": \"MA\", \"sold\": \"toaster\"}, {\"nb\": 2, \"state\": \"MA\", \"sold\": \"socks\"}, {\"nb\": 3, \"state\": \"CA\", \"sold\": \"toaster\"}, {\"nb\": 3, \"state\": \"CA\", \"sold\": \"blender\"}, {\"nb\": 3, \"state\": \"CA\", \"sold\": \"blender\"}, {\"nb\": 3, \"state\": \"CA\", \"sold\": \"shirt\"}]\n"
     ]
    }
   ],
   "source": [
    "%%rumble\n",
    "let $stores :=\n",
    "[\n",
    "    { \"store number\" : 1, \"state\" : \"MA\" },\n",
    "    { \"store number\" : 2, \"state\" : \"MA\" },\n",
    "    { \"store number\" : 3, \"state\" : \"CA\" },\n",
    "    { \"store number\" : 4, \"state\" : \"CA\" }\n",
    "]\n",
    "let $sales := [\n",
    "    { \"product\" : \"broiler\", \"store number\" : 1, \"quantity\" : 20  },\n",
    "    { \"product\" : \"toaster\", \"store number\" : 2, \"quantity\" : 100 },\n",
    "    { \"product\" : \"toaster\", \"store number\" : 2, \"quantity\" : 50 },\n",
    "    { \"product\" : \"toaster\", \"store number\" : 3, \"quantity\" : 50 },\n",
    "    { \"product\" : \"blender\", \"store number\" : 3, \"quantity\" : 100 },\n",
    "    { \"product\" : \"blender\", \"store number\" : 3, \"quantity\" : 150 },\n",
    "    { \"product\" : \"socks\", \"store number\" : 1, \"quantity\" : 500 },\n",
    "    { \"product\" : \"socks\", \"store number\" : 2, \"quantity\" : 10 },\n",
    "    { \"product\" : \"shirt\", \"store number\" : 3, \"quantity\" : 10 }\n",
    "]\n",
    "let $join :=\n",
    "    for $store in $stores[], $sale in $sales[]\n",
    "    where $store.\"store number\" = $sale.\"store number\"\n",
    "    return {\n",
    "        \"nb\" : $store.\"store number\",\n",
    "        \"state\" : $store.state,\n",
    "        \"sold\" : $sale.product\n",
    "    }\n",
    "return [$join]"
   ]
  },
  {
   "cell_type": "markdown",
   "metadata": {
    "id": "Bj5MkqjYhrKY"
   },
   "source": [
    "### Access datasets\n",
    "\n",
    "Rumble can read input from many file systems and many file formats. If you are using our backend, you can only use json-doc() with any URI pointing to a JSON file and navigate it as you see fit. "
   ]
  },
  {
   "cell_type": "code",
   "execution_count": 43,
   "metadata": {
    "colab": {
     "base_uri": "https://localhost:8080/"
    },
    "id": "IvKabTMohrKY",
    "outputId": "97c9b90b-80ce-4377-fef3-44f28247d79b"
   },
   "outputs": [
    {
     "name": "stdout",
     "output_type": "stream",
     "text": [
      "Took: 0.02882099151611328 s\n"
     ]
    },
    {
     "data": {
      "text/plain": [
       "'There was an error on line 1 in file:/Users/pierre/Documents/ex11/:\\n\\njson-doc(\"Put any HTTP URL pointing to a JSON document here!\").foo[[1]].bar.foobar[]\\n^\\n\\nCode: [FODC0002]\\nMessage: Malformed URI: Put any HTTP URL pointing to a JSON document here! Cause: Illegal character in path at index 3: Put any HTTP URL pointing to a JSON document here!\\nMetadata: file:/Users/pierre/Documents/ex11/:LINE:1:COLUMN:0:\\nThis code can also be looked up in the documentation and specifications for more information.\\n'"
      ]
     },
     "execution_count": 43,
     "metadata": {},
     "output_type": "execute_result"
    }
   ],
   "source": [
    "%%rumble\n",
    "json-doc(\"Put any HTTP URL pointing to a JSON document here!\").foo[[1]].bar.foobar[]"
   ]
  },
  {
   "cell_type": "markdown",
   "metadata": {
    "id": "4ryDS6RGhrKY"
   },
   "source": [
    "If you are using your own Rumble server on your cluster, you can also use any other function and scheme."
   ]
  },
  {
   "cell_type": "code",
   "execution_count": 44,
   "metadata": {
    "colab": {
     "base_uri": "https://localhost:8080/"
    },
    "id": "P100xHh4hrKY",
    "outputId": "fb2a4098-fe35-44ae-b763-fe3fcd8f3746"
   },
   "outputs": [
    {
     "name": "stdout",
     "output_type": "stream",
     "text": [
      "Took: 0.03588676452636719 s\n"
     ]
    },
    {
     "data": {
      "text/plain": [
       "'There was an error on line 1 in file:/Users/pierre/Documents/ex11/:\\n\\njson-file(\"put the path to a JSON lines file here. This will only work against your own Rumble backend and Spark cluster, though.\")\\n^\\n\\nCode: [FODC0002]\\nMessage: File file:/Users/pierre/Documents/ex11/put%20the%20path%20to%20a%20JSON%20lines%20file%20here.%20This%20will%20only%20work%20against%20your%20own%20Rumble%20backend%20and%20Spark%20cluster,%20though. not found.\\nMetadata: file:/Users/pierre/Documents/ex11/:LINE:1:COLUMN:0:\\nThis code can also be looked up in the documentation and specifications for more information.\\n'"
      ]
     },
     "execution_count": 44,
     "metadata": {},
     "output_type": "execute_result"
    }
   ],
   "source": [
    "%%rumble\n",
    "json-file(\"put the path to a JSON lines file here. This will only work against your own Rumble backend and Spark cluster, though.\")"
   ]
  },
  {
   "cell_type": "markdown",
   "metadata": {
    "cell_status": {
     "execute_time": {
      "duration": 44.55712890625,
      "end_time": 1557044256642.663
     }
    },
    "collapsed": true,
    "id": "YzHCdZ2Ld-kt"
   },
   "source": [
    "# 4. The Great Language Game\n",
    "\n",
    "This week you will be using again the [language confusion dataset](http://lars.yencken.org/datasets/languagegame/). You will write queries with Rumble. You will have to submit the results of this exercise to Moodle to obtain the weekly bonus. You will need these things:\n",
    "- The query you wrote\n",
    "- Something related to its output (which you will be graded on)\n",
    "- The time it took you to run it\n",
    "\n",
    "The execution time of the queries will be reported by Rumble.\n",
    "\n",
    "Download and decompress the dataset in the same folder as `rumbledb-1.16.0.jar` with the following:\n",
    "```\n",
    "wget http://data.greatlanguagegame.com.s3.amazonaws.com/confusion-2014-03-02.tbz2\n",
    "tar -jxvf confusion-2014-03-02.tbz2\n",
    "```\n",
    "or, if wget command is not found,\n",
    "```\n",
    "curl -o confusion-2014-03-02.tbz2 http://data.greatlanguagegame.com.s3.amazonaws.com/confusion-2014-03-02.tbz2\n",
    "tar -jxvf confusion-2014-03-02.tbz2\n",
    "```"
   ]
  },
  {
   "cell_type": "markdown",
   "metadata": {
    "id": "rUS6Y9IqDS4Y"
   },
   "source": [
    "Afterwards, you should a folder with a (large) json file inside."
   ]
  },
  {
   "cell_type": "markdown",
   "metadata": {},
   "source": [
    "## 4.0 Check the data"
   ]
  },
  {
   "cell_type": "markdown",
   "metadata": {
    "id": "er5XQjCVd-kt"
   },
   "source": [
    "We provide you with two datasets, you can already check that you get the correct number of records. The full dataset should contain 16511224 records. We also provided you with a second small dataset to test your queries faster, it contains 100000 records."
   ]
  },
  {
   "cell_type": "code",
   "execution_count": 24,
   "metadata": {},
   "outputs": [
    {
     "name": "stdout",
     "output_type": "stream",
     "text": [
      "Took: 9.04823613166809 s\n",
      "16511224\n"
     ]
    }
   ],
   "source": [
    "%%rumble\n",
    "count(for $i in json-file(\"confusion-2014-03-02/confusion-2014-03-02.json\")\n",
    "return $i)"
   ]
  },
  {
   "cell_type": "code",
   "execution_count": 23,
   "metadata": {},
   "outputs": [
    {
     "name": "stdout",
     "output_type": "stream",
     "text": [
      "Took: 0.27375006675720215 s\n",
      "100000\n"
     ]
    }
   ],
   "source": [
    "%%rumble\n",
    "count(for $i in json-file(\"confusion-100000.json\")\n",
    "return $i)"
   ]
  },
  {
   "cell_type": "markdown",
   "metadata": {
    "id": "3Pcf7FL7Aetl"
   },
   "source": [
    "## 4.1 Query the data"
   ]
  },
  {
   "cell_type": "markdown",
   "metadata": {
    "id": "er5XQjCVd-kt"
   },
   "source": [
    "You can read data from a json file with `json-file`. For example, the following query will read and print the entries in the confusion dataset:\n",
    "\n",
    "\n"
   ]
  },
  {
   "cell_type": "code",
   "execution_count": 45,
   "metadata": {
    "colab": {
     "base_uri": "https://localhost:8080/"
    },
    "id": "nPHu0ODR9vAE",
    "outputId": "155b6dae-f100-4551-b1c7-0101b86c69b0"
   },
   "outputs": [
    {
     "name": "stdout",
     "output_type": "stream",
     "text": [
      "Took: 82.74304270744324 s\n",
      "\"Warning! The output sequence contains 16511224 items but its materialization was capped at 200 items. This value can be configured with the result-size parameter in the query string of the HTTP request.\"\n",
      "{\"guess\": \"Norwegian\", \"target\": \"Norwegian\", \"country\": \"AU\", \"choices\": [\"Maori\", \"Mandarin\", \"Norwegian\", \"Tongan\"], \"sample\": \"48f9c924e0d98c959d8a6f1862b3ce9a\", \"date\": \"2013-08-19\"}\n",
      "{\"guess\": \"Dinka\", \"target\": \"Dinka\", \"country\": \"AU\", \"choices\": [\"Danish\", \"Dinka\", \"Khmer\", \"Lao\"], \"sample\": \"af5e8f27cef9e689a070b8814dcc02c3\", \"date\": \"2013-08-19\"}\n",
      "{\"guess\": \"Turkish\", \"target\": \"Samoan\", \"country\": \"AU\", \"choices\": [\"German\", \"Hungarian\", \"Samoan\", \"Turkish\"], \"sample\": \"509c36eb58dbce009ccf93f375358d53\", \"date\": \"2013-08-19\"}\n",
      "{\"guess\": \"Latvian\", \"target\": \"Somali\", \"country\": \"AU\", \"choices\": [\"Danish\", \"Korean\", \"Latvian\", \"Somali\"], \"sample\": \"a505ab771ae7c32744ad31b3051b8ee9\", \"date\": \"2013-08-19\"}\n",
      "{\"guess\": \"Japanese\", \"target\": \"Japanese\", \"country\": \"AU\", \"choices\": [\"Bangla\", \"Dinka\", \"Italian\", \"Japanese\"], \"sample\": \"3569611136ea04bab18a0cd605ced358\", \"date\": \"2013-08-19\"}\n",
      "{\"guess\": \"Maltese\", \"target\": \"Turkish\", \"country\": \"AU\", \"choices\": [\"Hindi\", \"Lao\", \"Maltese\", \"Turkish\"], \"sample\": \"af0e25c7637fb0dcdc56fac6d49aa55e\", \"date\": \"2013-08-19\"}\n",
      "{\"guess\": \"French\", \"target\": \"French\", \"country\": \"AU\", \"choices\": [\"Burmese\", \"Danish\", \"French\", \"Swedish\"], \"sample\": \"92f9e1c17e6df988780527341fdb471d\", \"date\": \"2013-08-19\"}\n",
      "{\"guess\": \"German\", \"target\": \"German\", \"country\": \"AU\", \"choices\": [\"German\", \"Serbian\", \"Swedish\", \"Vietnamese\"], \"sample\": \"e77d97b712adffc39e531e20237a5589\", \"date\": \"2013-08-19\"}\n",
      "{\"guess\": \"Spanish\", \"target\": \"Spanish\", \"country\": \"AU\", \"choices\": [\"Amharic\", \"Czech\", \"Sinhalese\", \"Spanish\"], \"sample\": \"dc3ace49393de518e87d4f8d3ae8d9db\", \"date\": \"2013-08-19\"}\n",
      "{\"guess\": \"Romanian\", \"target\": \"Romanian\", \"country\": \"AU\", \"choices\": [\"Estonian\", \"Japanese\", \"Lao\", \"Romanian\"], \"sample\": \"903fc45cba5245f21deaaca3966f825b\", \"date\": \"2013-08-19\"}\n",
      "{\"guess\": \"Cantonese\", \"target\": \"Cantonese\", \"country\": \"AU\", \"choices\": [\"Burmese\", \"Cantonese\", \"Serbian\", \"Ukrainian\"], \"sample\": \"203628f42619d301e642b3553b7a684a\", \"date\": \"2013-08-19\"}\n",
      "{\"guess\": \"Amharic\", \"target\": \"Dinka\", \"country\": \"AU\", \"choices\": [\"Amharic\", \"Dinka\", \"Indonesian\", \"Thai\"], \"sample\": \"cd3dffdb83f221e09710cbfbcaffdb31\", \"date\": \"2013-08-19\"}\n",
      "{\"guess\": \"Assyrian\", \"target\": \"Assyrian\", \"country\": \"AU\", \"choices\": [\"Assyrian\", \"Finnish\", \"Norwegian\", \"Turkish\"], \"sample\": \"16ac545260ae198b7a3d882e06e5f261\", \"date\": \"2013-08-19\"}\n",
      "{\"guess\": \"Hebrew\", \"target\": \"Hebrew\", \"country\": \"AU\", \"choices\": [\"Hebrew\", \"Hindi\", \"Ukrainian\", \"Yiddish\"], \"sample\": \"1dc9a1bf90e4e788906dc716dc18d878\", \"date\": \"2013-08-19\"}\n",
      "{\"guess\": \"Kurdish\", \"target\": \"Kurdish\", \"country\": \"AU\", \"choices\": [\"Cantonese\", \"Kurdish\", \"Maltese\", \"Somali\"], \"sample\": \"9f849ff225f0d94a52c186924e225231\", \"date\": \"2013-08-19\"}\n",
      "{\"guess\": \"Italian\", \"target\": \"Italian\", \"country\": \"AU\", \"choices\": [\"Assyrian\", \"Dari\", \"Italian\", \"Khmer\"], \"sample\": \"88f3e5120091cffdf8abeb92b5da90a2\", \"date\": \"2013-08-19\"}\n",
      "{\"guess\": \"Maltese\", \"target\": \"Maltese\", \"country\": \"AU\", \"choices\": [\"Tagalog\", \"Japanese\", \"Maltese\", \"Tamil\"], \"sample\": \"589feca2e2009ad2e63458f17568cd13\", \"date\": \"2013-08-19\"}\n",
      "{\"guess\": \"Kannada\", \"target\": \"Kannada\", \"country\": \"AU\", \"choices\": [\"Italian\", \"Kannada\", \"Mandarin\", \"Serbian\"], \"sample\": \"c11a7723bd3fcd00e33e90c90a3492e5\", \"date\": \"2013-08-19\"}\n",
      "{\"guess\": \"Dinka\", \"target\": \"Dinka\", \"country\": \"AU\", \"choices\": [\"Amharic\", \"Dinka\", \"Mandarin\", \"Yiddish\"], \"sample\": \"cd3dffdb83f221e09710cbfbcaffdb31\", \"date\": \"2013-08-19\"}\n",
      "{\"guess\": \"German\", \"target\": \"German\", \"country\": \"AU\", \"choices\": [\"Assyrian\", \"Dinka\", \"Estonian\", \"German\"], \"sample\": \"78213fa858b9a45d83121a8bf71712d1\", \"date\": \"2013-08-19\"}\n",
      "{\"guess\": \"Hebrew\", \"target\": \"Hebrew\", \"country\": \"AU\", \"choices\": [\"Arabic\", \"Hebrew\", \"Hungarian\", \"Lao\"], \"sample\": \"1dc9a1bf90e4e788906dc716dc18d878\", \"date\": \"2013-08-19\"}\n",
      "{\"guess\": \"Croatian\", \"target\": \"Albanian\", \"country\": \"AU\", \"choices\": [\"Albanian\", \"Maori\", \"Croatian\", \"Indonesian\"], \"sample\": \"00b85faa8b878a14f8781be334deb137\", \"date\": \"2013-08-19\"}\n",
      "{\"guess\": \"Lao\", \"target\": \"Lao\", \"country\": \"AU\", \"choices\": [\"Assyrian\", \"Tagalog\", \"Lao\", \"Tongan\"], \"sample\": \"4cf041f244960196b98c7d6ae8c79ed3\", \"date\": \"2013-08-19\"}\n",
      "{\"guess\": \"Hungarian\", \"target\": \"Turkish\", \"country\": \"AU\", \"choices\": [\"Hungarian\", \"Swedish\", \"Thai\", \"Turkish\"], \"sample\": \"af0e25c7637fb0dcdc56fac6d49aa55e\", \"date\": \"2013-08-19\"}\n",
      "{\"guess\": \"Khmer\", \"target\": \"Swahili\", \"country\": \"AU\", \"choices\": [\"Bosnian\", \"Khmer\", \"Swahili\", \"Turkish\"], \"sample\": \"ac1275769d8aaf8758f95409271f8a2f\", \"date\": \"2013-08-19\"}\n",
      "{\"guess\": \"Vietnamese\", \"target\": \"Vietnamese\", \"country\": \"AU\", \"choices\": [\"Czech\", \"Japanese\", \"Tamil\", \"Vietnamese\"], \"sample\": \"8ea6892d1ddca321adc07b05176e3605\", \"date\": \"2013-08-19\"}\n",
      "{\"guess\": \"Portuguese\", \"target\": \"Portuguese\", \"country\": \"AU\", \"choices\": [\"Dari\", \"Hebrew\", \"Kurdish\", \"Portuguese\"], \"sample\": \"5fd851c9e87a6b9b9da9eb2ab0de6686\", \"date\": \"2013-08-19\"}\n",
      "{\"guess\": \"Nepali\", \"target\": \"Nepali\", \"country\": \"AU\", \"choices\": [\"Amharic\", \"Greek\", \"Nepali\", \"Ukrainian\"], \"sample\": \"faa86f6efaf2ee67f95239685d26fd88\", \"date\": \"2013-08-19\"}\n",
      "{\"guess\": \"Malayalam\", \"target\": \"Indonesian\", \"country\": \"AU\", \"choices\": [\"Bulgarian\", \"Indonesian\", \"Malayalam\", \"Russian\"], \"sample\": \"ff8fcb796b7fdc540dd567c144024f82\", \"date\": \"2013-08-19\"}\n",
      "{\"guess\": \"Finnish\", \"target\": \"Finnish\", \"country\": \"AU\", \"choices\": [\"Finnish\", \"Kurdish\", \"Turkish\", \"Yiddish\"], \"sample\": \"4a3dfa40ed621940a0a38408956b86e0\", \"date\": \"2013-08-19\"}\n",
      "{\"guess\": \"German\", \"target\": \"German\", \"country\": \"AU\", \"choices\": [\"German\", \"Hindi\", \"Somali\", \"Tamil\"], \"sample\": \"78213fa858b9a45d83121a8bf71712d1\", \"date\": \"2013-08-19\"}\n",
      "{\"guess\": \"Greek\", \"target\": \"Fijian\", \"country\": \"AU\", \"choices\": [\"Fijian\", \"Greek\", \"Mandarin\", \"Vietnamese\"], \"sample\": \"f53c7596c141ee6d5d2b3ab90361f802\", \"date\": \"2013-08-19\"}\n",
      "{\"guess\": \"Burmese\", \"target\": \"Burmese\", \"country\": \"AU\", \"choices\": [\"Burmese\", \"Danish\", \"French\", \"Kurdish\"], \"sample\": \"878d3d845ccb0859aa05e80e1d35730f\", \"date\": \"2013-08-19\"}\n",
      "{\"guess\": \"Turkish\", \"target\": \"Khmer\", \"country\": \"AU\", \"choices\": [\"Khmer\", \"Sinhalese\", \"Swahili\", \"Turkish\"], \"sample\": \"714795c596ef0639a385fe620d2c42ab\", \"date\": \"2013-08-19\"}\n",
      "{\"guess\": \"Fijian\", \"target\": \"Dinka\", \"country\": \"AU\", \"choices\": [\"Arabic\", \"Dinka\", \"Fijian\", \"Thai\"], \"sample\": \"192e7c59bb734ee762a323219846295b\", \"date\": \"2013-08-19\"}\n",
      "{\"guess\": \"Swahili\", \"target\": \"Swahili\", \"country\": \"AU\", \"choices\": [\"Hebrew\", \"Malay\", \"Swahili\", \"Swedish\"], \"sample\": \"1b959fe55794f6d4e1ea038bfe336759\", \"date\": \"2013-08-19\"}\n",
      "{\"guess\": \"Norwegian\", \"target\": \"Polish\", \"country\": \"AU\", \"choices\": [\"Indonesian\", \"Kannada\", \"Norwegian\", \"Polish\"], \"sample\": \"f1aac78bec424c4d6c716553719b0b70\", \"date\": \"2013-08-19\"}\n",
      "{\"guess\": \"Swedish\", \"target\": \"Dutch\", \"country\": \"AU\", \"choices\": [\"Burmese\", \"Cantonese\", \"Dutch\", \"Swedish\"], \"sample\": \"5cd22cbf16be1a93d304d589431c3ec3\", \"date\": \"2013-08-19\"}\n",
      "{\"guess\": \"Ukrainian\", \"target\": \"Albanian\", \"country\": \"AU\", \"choices\": [\"Albanian\", \"Bulgarian\", \"Japanese\", \"Ukrainian\"], \"sample\": \"efcd813daec1c836d9f030b30caa07ce\", \"date\": \"2013-08-19\"}\n",
      "{\"guess\": \"Hebrew\", \"target\": \"Hebrew\", \"country\": \"AU\", \"choices\": [\"Dinka\", \"Hebrew\", \"Hindi\", \"Vietnamese\"], \"sample\": \"157085744728e35079622c71804cf722\", \"date\": \"2013-08-19\"}\n",
      "{\"guess\": \"Slovenian\", \"target\": \"Norwegian\", \"country\": \"AU\", \"choices\": [\"Dinka\", \"Nepali\", \"Norwegian\", \"Slovenian\"], \"sample\": \"208e1606aa365f3ed573adc7111f58e9\", \"date\": \"2013-08-19\"}\n",
      "{\"guess\": \"Russian\", \"target\": \"Russian\", \"country\": \"AU\", \"choices\": [\"Lao\", \"Nepali\", \"Russian\", \"Tongan\"], \"sample\": \"8a59d48e99e8a1df7e366c4648095e27\", \"date\": \"2013-08-19\"}\n",
      "{\"guess\": \"Bulgarian\", \"target\": \"Albanian\", \"country\": \"AU\", \"choices\": [\"Albanian\", \"Bulgarian\", \"Russian\", \"Ukrainian\"], \"sample\": \"00b85faa8b878a14f8781be334deb137\", \"date\": \"2013-08-19\"}\n",
      "{\"guess\": \"Turkish\", \"target\": \"Dinka\", \"country\": \"AU\", \"choices\": [\"Dinka\", \"Mandarin\", \"Slovenian\", \"Turkish\"], \"sample\": \"cd3dffdb83f221e09710cbfbcaffdb31\", \"date\": \"2013-08-19\"}\n",
      "{\"guess\": \"Maltese\", \"target\": \"Maltese\", \"country\": \"AU\", \"choices\": [\"Maori\", \"French\", \"Maltese\", \"Vietnamese\"], \"sample\": \"36d2f4e9173e2d4cad8b8594310c856b\", \"date\": \"2013-08-19\"}\n",
      "{\"guess\": \"Urdu\", \"target\": \"Estonian\", \"country\": \"AU\", \"choices\": [\"Amharic\", \"Estonian\", \"Hebrew\", \"Urdu\"], \"sample\": \"5af9790de5ecef3853d6d89f8e75916c\", \"date\": \"2013-08-19\"}\n",
      "{\"guess\": \"Portuguese\", \"target\": \"Portuguese\", \"country\": \"AU\", \"choices\": [\"Dinka\", \"Finnish\", \"Gujarati\", \"Portuguese\"], \"sample\": \"5fd851c9e87a6b9b9da9eb2ab0de6686\", \"date\": \"2013-08-19\"}\n",
      "{\"guess\": \"Serbian\", \"target\": \"Serbian\", \"country\": \"AU\", \"choices\": [\"Bosnian\", \"Indonesian\", \"Romanian\", \"Serbian\"], \"sample\": \"ec4d6dad1be487091ec2b1b63820e329\", \"date\": \"2013-08-19\"}\n",
      "{\"guess\": \"Dinka\", \"target\": \"Samoan\", \"country\": \"AU\", \"choices\": [\"Amharic\", \"Arabic\", \"Dinka\", \"Samoan\"], \"sample\": \"509c36eb58dbce009ccf93f375358d53\", \"date\": \"2013-08-19\"}\n",
      "{\"guess\": \"Japanese\", \"target\": \"Japanese\", \"country\": \"AU\", \"choices\": [\"French\", \"Japanese\", \"Russian\", \"Ukrainian\"], \"sample\": \"3569611136ea04bab18a0cd605ced358\", \"date\": \"2013-08-19\"}\n",
      "{\"guess\": \"Tagalog\", \"target\": \"Tagalog\", \"country\": \"AU\", \"choices\": [\"Bulgarian\", \"Tagalog\", \"Greek\", \"Turkish\"], \"sample\": \"34df5eca0db3967da23f8a210337c9d6\", \"date\": \"2013-08-19\"}\n",
      "{\"guess\": \"Serbian\", \"target\": \"Serbian\", \"country\": \"AU\", \"choices\": [\"Khmer\", \"Latvian\", \"Serbian\", \"Vietnamese\"], \"sample\": \"ec4d6dad1be487091ec2b1b63820e329\", \"date\": \"2013-08-19\"}\n",
      "{\"guess\": \"Bulgarian\", \"target\": \"Russian\", \"country\": \"AU\", \"choices\": [\"Bulgarian\", \"Macedonian\", \"Russian\", \"Samoan\"], \"sample\": \"ff5b5a0d34c77d2e2027dad7e4deb094\", \"date\": \"2013-08-19\"}\n",
      "{\"guess\": \"Polish\", \"target\": \"Slovenian\", \"country\": \"AU\", \"choices\": [\"Bosnian\", \"Polish\", \"Sinhalese\", \"Slovenian\"], \"sample\": \"f2f07eb5c50e64c627f66566b3c7cc4a\", \"date\": \"2013-08-19\"}\n",
      "{\"guess\": \"Nepali\", \"target\": \"Dinka\", \"country\": \"AU\", \"choices\": [\"Danish\", \"Dinka\", \"Hebrew\", \"Nepali\"], \"sample\": \"192e7c59bb734ee762a323219846295b\", \"date\": \"2013-08-19\"}\n",
      "{\"guess\": \"Latvian\", \"target\": \"Latvian\", \"country\": \"AU\", \"choices\": [\"Dutch\", \"Italian\", \"Latvian\", \"Portuguese\"], \"sample\": \"5aea2b93784263ae4b5a2524ddebebb2\", \"date\": \"2013-08-19\"}\n",
      "{\"guess\": \"Hungarian\", \"target\": \"Czech\", \"country\": \"AU\", \"choices\": [\"Czech\", \"Estonian\", \"Hungarian\", \"Slovak\"], \"sample\": \"56626a14b479e47d5eb9568161dad285\", \"date\": \"2013-08-19\"}\n",
      "{\"guess\": \"Nepali\", \"target\": \"Nepali\", \"country\": \"AU\", \"choices\": [\"Croatian\", \"Hebrew\", \"Malay\", \"Nepali\"], \"sample\": \"faa86f6efaf2ee67f95239685d26fd88\", \"date\": \"2013-08-19\"}\n",
      "{\"guess\": \"Urdu\", \"target\": \"Urdu\", \"country\": \"AU\", \"choices\": [\"Kannada\", \"Korean\", \"Nepali\", \"Urdu\"], \"sample\": \"3520fdcdf2658685928fc37e72ab2134\", \"date\": \"2013-08-19\"}\n",
      "{\"guess\": \"Assyrian\", \"target\": \"Assyrian\", \"country\": \"AU\", \"choices\": [\"Assyrian\", \"Czech\", \"German\", \"Hungarian\"], \"sample\": \"a7d34c215264677c8385e90fa5363ec1\", \"date\": \"2013-08-19\"}\n",
      "{\"guess\": \"Swahili\", \"target\": \"Tigrinya\", \"country\": \"AU\", \"choices\": [\"Tagalog\", \"Greek\", \"Swahili\", \"Tigrinya\"], \"sample\": \"3ec316c78773bb826dd924926f5c0d07\", \"date\": \"2013-08-19\"}\n",
      "{\"guess\": \"Tamil\", \"target\": \"Tamil\", \"country\": \"AU\", \"choices\": [\"Estonian\", \"Malay\", \"Russian\", \"Tamil\"], \"sample\": \"cc305dcad696147e28c6f36615aa0952\", \"date\": \"2013-08-19\"}\n",
      "{\"guess\": \"Danish\", \"target\": \"Danish\", \"country\": \"AU\", \"choices\": [\"Danish\", \"Hebrew\", \"Korean\", \"Kurdish\"], \"sample\": \"5fdcb0979e1c546ea05d7bd780bd4bc3\", \"date\": \"2013-08-19\"}\n",
      "{\"guess\": \"Burmese\", \"target\": \"Burmese\", \"country\": \"AU\", \"choices\": [\"Burmese\", \"Danish\", \"Romanian\", \"Ukrainian\"], \"sample\": \"31cba304794d1828c93d7b3c63aa840a\", \"date\": \"2013-08-19\"}\n",
      "{\"guess\": \"Maltese\", \"target\": \"Maltese\", \"country\": \"AU\", \"choices\": [\"German\", \"Maltese\", \"Polish\", \"Sinhalese\"], \"sample\": \"36d2f4e9173e2d4cad8b8594310c856b\", \"date\": \"2013-08-19\"}\n",
      "{\"guess\": \"Maltese\", \"target\": \"Maltese\", \"country\": \"AU\", \"choices\": [\"Burmese\", \"Czech\", \"French\", \"Maltese\"], \"sample\": \"589feca2e2009ad2e63458f17568cd13\", \"date\": \"2013-08-19\"}\n",
      "{\"guess\": \"Dutch\", \"target\": \"Dutch\", \"country\": \"AU\", \"choices\": [\"Albanian\", \"Bangla\", \"Dutch\", \"Mandarin\"], \"sample\": \"bf0f1eec2e9f147aba20ea9b3e9564bb\", \"date\": \"2013-08-19\"}\n",
      "{\"guess\": \"Mandarin\", \"target\": \"Mandarin\", \"country\": \"AU\", \"choices\": [\"Czech\", \"Estonian\", \"Maltese\", \"Mandarin\"], \"sample\": \"01f51995ae86ff85e899d40768ab81a8\", \"date\": \"2013-08-19\"}\n",
      "{\"guess\": \"Estonian\", \"target\": \"Estonian\", \"country\": \"AU\", \"choices\": [\"Estonian\", \"Fijian\", \"Khmer\", \"Urdu\"], \"sample\": \"b7e986bd3a0d5fd1db661e3bedf36111\", \"date\": \"2013-08-19\"}\n",
      "{\"guess\": \"Serbian\", \"target\": \"Armenian\", \"country\": \"AU\", \"choices\": [\"Armenian\", \"Dutch\", \"Serbian\", \"Yiddish\"], \"sample\": \"d34689ff8c3532426256b0963d7df2bb\", \"date\": \"2013-08-19\"}\n",
      "{\"guess\": \"Indonesian\", \"target\": \"Indonesian\", \"country\": \"AU\", \"choices\": [\"French\", \"Indonesian\", \"Macedonian\", \"Romanian\"], \"sample\": \"ff8fcb796b7fdc540dd567c144024f82\", \"date\": \"2013-08-19\"}\n",
      "{\"guess\": \"Sinhalese\", \"target\": \"Sinhalese\", \"country\": \"AU\", \"choices\": [\"Latvian\", \"Mandarin\", \"Sinhalese\", \"Urdu\"], \"sample\": \"755de9092b301614712fae5e1d2d47d3\", \"date\": \"2013-08-19\"}\n",
      "{\"guess\": \"Bangla\", \"target\": \"Bangla\", \"country\": \"AU\", \"choices\": [\"Assyrian\", \"Bangla\", \"Danish\", \"Yiddish\"], \"sample\": \"b2132278200e1e601b6814a15fdabcc1\", \"date\": \"2013-08-19\"}\n",
      "{\"guess\": \"Spanish\", \"target\": \"Spanish\", \"country\": \"AU\", \"choices\": [\"Albanian\", \"Dinka\", \"Spanish\", \"Thai\"], \"sample\": \"c8f4f097079404bf9a0e94d604efd1d5\", \"date\": \"2013-08-19\"}\n",
      "{\"guess\": \"Italian\", \"target\": \"Italian\", \"country\": \"AU\", \"choices\": [\"Estonian\", \"Tagalog\", \"Italian\", \"Malayalam\"], \"sample\": \"88f3e5120091cffdf8abeb92b5da90a2\", \"date\": \"2013-08-19\"}\n",
      "{\"guess\": \"Arabic\", \"target\": \"Arabic\", \"country\": \"AU\", \"choices\": [\"Arabic\", \"Bulgarian\", \"Latvian\", \"Urdu\"], \"sample\": \"8903e496bf04c3a85a70e1dc5e0da5f1\", \"date\": \"2013-08-19\"}\n",
      "{\"guess\": \"Punjabi\", \"target\": \"Punjabi\", \"country\": \"AU\", \"choices\": [\"Armenian\", \"Punjabi\", \"Serbian\", \"Tongan\"], \"sample\": \"10ff356faf50696b30f8a58b9dd919b2\", \"date\": \"2013-08-19\"}\n",
      "{\"guess\": \"Hindi\", \"target\": \"Hindi\", \"country\": \"AU\", \"choices\": [\"Arabic\", \"Bulgarian\", \"Hindi\", \"Spanish\"], \"sample\": \"568bfed6715c43735f95faef578d7cd5\", \"date\": \"2013-08-19\"}\n",
      "{\"guess\": \"Dari\", \"target\": \"Dari\", \"country\": \"AU\", \"choices\": [\"Assyrian\", \"Dari\", \"Kannada\", \"Tamil\"], \"sample\": \"cad47cd466a2d8c25fa7a21c15cbb3cf\", \"date\": \"2013-08-19\"}\n",
      "{\"guess\": \"Tongan\", \"target\": \"Tongan\", \"country\": \"AU\", \"choices\": [\"Armenian\", \"Danish\", \"Khmer\", \"Tongan\"], \"sample\": \"838cfe7f928e1a41710e01b3ee12088f\", \"date\": \"2013-08-19\"}\n",
      "{\"guess\": \"Khmer\", \"target\": \"Khmer\", \"country\": \"AU\", \"choices\": [\"Dinka\", \"Italian\", \"Khmer\", \"Samoan\"], \"sample\": \"714795c596ef0639a385fe620d2c42ab\", \"date\": \"2013-08-19\"}\n",
      "{\"guess\": \"Romanian\", \"target\": \"Romanian\", \"country\": \"AU\", \"choices\": [\"Amharic\", \"Fijian\", \"Hindi\", \"Romanian\"], \"sample\": \"903fc45cba5245f21deaaca3966f825b\", \"date\": \"2013-08-19\"}\n",
      "{\"guess\": \"Malay\", \"target\": \"Malay\", \"country\": \"AU\", \"choices\": [\"Bosnian\", \"Cantonese\", \"Greek\", \"Malay\"], \"sample\": \"610d45322ed5aa122cf9b4a79d603781\", \"date\": \"2013-08-19\"}\n",
      "{\"guess\": \"Bangla\", \"target\": \"Bangla\", \"country\": \"AU\", \"choices\": [\"Bangla\", \"Burmese\", \"Dari\", \"Portuguese\"], \"sample\": \"b2132278200e1e601b6814a15fdabcc1\", \"date\": \"2013-08-19\"}\n",
      "{\"guess\": \"Hindi\", \"target\": \"Hindi\", \"country\": \"AU\", \"choices\": [\"Albanian\", \"Croatian\", \"Hindi\", \"Maltese\"], \"sample\": \"9dac641f173f2a225501e8e50fc4e66e\", \"date\": \"2013-08-19\"}\n",
      "{\"guess\": \"Romanian\", \"target\": \"Romanian\", \"country\": \"AU\", \"choices\": [\"Romanian\", \"Tamil\", \"Tongan\", \"Turkish\"], \"sample\": \"6560ff4ce0b53a1b0bad2e7734f52381\", \"date\": \"2013-08-19\"}\n",
      "{\"guess\": \"Lao\", \"target\": \"Lao\", \"country\": \"AU\", \"choices\": [\"French\", \"Lao\", \"Malay\", \"Portuguese\"], \"sample\": \"4cf041f244960196b98c7d6ae8c79ed3\", \"date\": \"2013-08-19\"}\n",
      "{\"guess\": \"Vietnamese\", \"target\": \"Vietnamese\", \"country\": \"AU\", \"choices\": [\"Hungarian\", \"Japanese\", \"Slovenian\", \"Vietnamese\"], \"sample\": \"8ea6892d1ddca321adc07b05176e3605\", \"date\": \"2013-08-19\"}\n",
      "{\"guess\": \"Tagalog\", \"target\": \"Tagalog\", \"country\": \"AU\", \"choices\": [\"Tagalog\", \"Lao\", \"Slovak\", \"Ukrainian\"], \"sample\": \"34df5eca0db3967da23f8a210337c9d6\", \"date\": \"2013-08-19\"}\n",
      "{\"guess\": \"Hungarian\", \"target\": \"Danish\", \"country\": \"AU\", \"choices\": [\"Danish\", \"Hungarian\", \"Korean\", \"Samoan\"], \"sample\": \"5fdcb0979e1c546ea05d7bd780bd4bc3\", \"date\": \"2013-08-19\"}\n",
      "{\"guess\": \"Polish\", \"target\": \"Slovenian\", \"country\": \"AU\", \"choices\": [\"Greek\", \"Korean\", \"Polish\", \"Slovenian\"], \"sample\": \"f2f07eb5c50e64c627f66566b3c7cc4a\", \"date\": \"2013-08-19\"}\n",
      "{\"guess\": \"Kannada\", \"target\": \"Kannada\", \"country\": \"AU\", \"choices\": [\"Arabic\", \"Bosnian\", \"Kannada\", \"Thai\"], \"sample\": \"cf08af2ccb8382aa6c624095ec4f93fb\", \"date\": \"2013-08-19\"}\n",
      "{\"guess\": \"Spanish\", \"target\": \"Spanish\", \"country\": \"AU\", \"choices\": [\"Maori\", \"Dari\", \"Korean\", \"Spanish\"], \"sample\": \"c8f4f097079404bf9a0e94d604efd1d5\", \"date\": \"2013-08-19\"}\n",
      "{\"guess\": \"Urdu\", \"target\": \"Armenian\", \"country\": \"AU\", \"choices\": [\"Armenian\", \"Hebrew\", \"Italian\", \"Urdu\"], \"sample\": \"b46fa4a310d337db8f055083c68ba863\", \"date\": \"2013-08-19\"}\n",
      "{\"guess\": \"Tagalog\", \"target\": \"Tongan\", \"country\": \"AU\", \"choices\": [\"Assyrian\", \"Tagalog\", \"Tongan\", \"Urdu\"], \"sample\": \"6ba74243165c6e7fb5255890b18f8807\", \"date\": \"2013-08-19\"}\n",
      "{\"guess\": \"Farsi\", \"target\": \"Farsi\", \"country\": \"AU\", \"choices\": [\"Korean\", \"Nepali\", \"Farsi\", \"Tongan\"], \"sample\": \"d7a4029f42521d56af05c9f947a516c1\", \"date\": \"2013-08-19\"}\n",
      "{\"guess\": \"Indonesian\", \"target\": \"Indonesian\", \"country\": \"AU\", \"choices\": [\"Croatian\", \"Indonesian\", \"Italian\", \"Japanese\"], \"sample\": \"ff8fcb796b7fdc540dd567c144024f82\", \"date\": \"2013-08-19\"}\n",
      "{\"guess\": \"Japanese\", \"target\": \"Japanese\", \"country\": \"AU\", \"choices\": [\"Japanese\", \"Malayalam\", \"Slovak\", \"Vietnamese\"], \"sample\": \"3569611136ea04bab18a0cd605ced358\", \"date\": \"2013-08-19\"}\n",
      "{\"guess\": \"Spanish\", \"target\": \"Spanish\", \"country\": \"AU\", \"choices\": [\"Arabic\", \"Dutch\", \"Spanish\", \"Yiddish\"], \"sample\": \"dc3ace49393de518e87d4f8d3ae8d9db\", \"date\": \"2013-08-19\"}\n",
      "{\"guess\": \"Khmer\", \"target\": \"Lao\", \"country\": \"AU\", \"choices\": [\"Assyrian\", \"Khmer\", \"Lao\", \"Punjabi\"], \"sample\": \"b5aa4ea31e44899dc4d58d4a35e05504\", \"date\": \"2013-08-19\"}\n",
      "{\"guess\": \"Spanish\", \"target\": \"Spanish\", \"country\": \"AU\", \"choices\": [\"Czech\", \"Indonesian\", \"Kurdish\", \"Spanish\"], \"sample\": \"dc3ace49393de518e87d4f8d3ae8d9db\", \"date\": \"2013-08-19\"}\n",
      "{\"guess\": \"Burmese\", \"target\": \"Fijian\", \"country\": \"AU\", \"choices\": [\"Burmese\", \"Fijian\", \"Kurdish\", \"Maltese\"], \"sample\": \"f53c7596c141ee6d5d2b3ab90361f802\", \"date\": \"2013-08-19\"}\n",
      "{\"guess\": \"Ukrainian\", \"target\": \"Ukrainian\", \"country\": \"AU\", \"choices\": [\"Czech\", \"Korean\", \"Lao\", \"Ukrainian\"], \"sample\": \"6d86f6da48a5d151593317f64da0421f\", \"date\": \"2013-08-19\"}\n",
      "{\"guess\": \"Indonesian\", \"target\": \"Indonesian\", \"country\": \"AU\", \"choices\": [\"Indonesian\", \"Macedonian\", \"Swedish\", \"Vietnamese\"], \"sample\": \"ff8fcb796b7fdc540dd567c144024f82\", \"date\": \"2013-08-19\"}\n",
      "{\"guess\": \"Farsi\", \"target\": \"Urdu\", \"country\": \"AU\", \"choices\": [\"Korean\", \"Latvian\", \"Farsi\", \"Urdu\"], \"sample\": \"3520fdcdf2658685928fc37e72ab2134\", \"date\": \"2013-08-19\"}\n",
      "{\"guess\": \"Italian\", \"target\": \"Greek\", \"country\": \"AU\", \"choices\": [\"Greek\", \"Italian\", \"Samoan\", \"Slovenian\"], \"sample\": \"0f43daadf6a1ce6d769fa0daa630b5f6\", \"date\": \"2013-08-19\"}\n",
      "{\"guess\": \"Mandarin\", \"target\": \"Mandarin\", \"country\": \"AU\", \"choices\": [\"Kannada\", \"Mandarin\", \"Somali\", \"Spanish\"], \"sample\": \"01f51995ae86ff85e899d40768ab81a8\", \"date\": \"2013-08-19\"}\n",
      "{\"guess\": \"Vietnamese\", \"target\": \"Vietnamese\", \"country\": \"AU\", \"choices\": [\"Hindi\", \"Romanian\", \"Tigrinya\", \"Vietnamese\"], \"sample\": \"3aab36435babaea46064d7f173bb0ba3\", \"date\": \"2013-08-19\"}\n",
      "{\"guess\": \"Polish\", \"target\": \"Maori\", \"country\": \"AU\", \"choices\": [\"Bangla\", \"Maori\", \"Indonesian\", \"Polish\"], \"sample\": \"1e94210c21a6af48b9c418a7d6380a1c\", \"date\": \"2013-08-19\"}\n",
      "{\"guess\": \"Hebrew\", \"target\": \"Hebrew\", \"country\": \"AU\", \"choices\": [\"Dari\", \"German\", \"Hebrew\", \"Italian\"], \"sample\": \"830854fd9c28424c604eaef2e97e61b3\", \"date\": \"2013-08-19\"}\n",
      "{\"guess\": \"Vietnamese\", \"target\": \"Vietnamese\", \"country\": \"AU\", \"choices\": [\"Bosnian\", \"Gujarati\", \"Spanish\", \"Vietnamese\"], \"sample\": \"3aab36435babaea46064d7f173bb0ba3\", \"date\": \"2013-08-19\"}\n",
      "{\"guess\": \"Russian\", \"target\": \"Russian\", \"country\": \"AU\", \"choices\": [\"Arabic\", \"Estonian\", \"Greek\", \"Russian\"], \"sample\": \"8a59d48e99e8a1df7e366c4648095e27\", \"date\": \"2013-08-19\"}\n",
      "{\"guess\": \"Punjabi\", \"target\": \"Hindi\", \"country\": \"AU\", \"choices\": [\"Amharic\", \"Bangla\", \"Hindi\", \"Punjabi\"], \"sample\": \"9dac641f173f2a225501e8e50fc4e66e\", \"date\": \"2013-08-19\"}\n",
      "{\"guess\": \"Spanish\", \"target\": \"Spanish\", \"country\": \"AU\", \"choices\": [\"Assyrian\", \"Tagalog\", \"Spanish\", \"Swedish\"], \"sample\": \"c8f4f097079404bf9a0e94d604efd1d5\", \"date\": \"2013-08-19\"}\n",
      "{\"guess\": \"Hebrew\", \"target\": \"Hebrew\", \"country\": \"AU\", \"choices\": [\"Estonian\", \"Hebrew\", \"Malayalam\", \"Swahili\"], \"sample\": \"830854fd9c28424c604eaef2e97e61b3\", \"date\": \"2013-08-19\"}\n",
      "{\"guess\": \"Arabic\", \"target\": \"Arabic\", \"country\": \"AU\", \"choices\": [\"Arabic\", \"Croatian\", \"Malay\", \"Serbian\"], \"sample\": \"8903e496bf04c3a85a70e1dc5e0da5f1\", \"date\": \"2013-08-19\"}\n",
      "{\"guess\": \"German\", \"target\": \"German\", \"country\": \"AU\", \"choices\": [\"Dinka\", \"German\", \"Hungarian\", \"Kurdish\"], \"sample\": \"78213fa858b9a45d83121a8bf71712d1\", \"date\": \"2013-08-19\"}\n",
      "{\"guess\": \"Urdu\", \"target\": \"Maltese\", \"country\": \"AU\", \"choices\": [\"Latvian\", \"Maltese\", \"Thai\", \"Urdu\"], \"sample\": \"36d2f4e9173e2d4cad8b8594310c856b\", \"date\": \"2013-08-19\"}\n",
      "{\"guess\": \"Gujarati\", \"target\": \"Gujarati\", \"country\": \"AU\", \"choices\": [\"Gujarati\", \"Sinhalese\", \"Slovenian\", \"Turkish\"], \"sample\": \"16d80eee6659268a90460422dd2a2896\", \"date\": \"2013-08-19\"}\n",
      "{\"guess\": \"Urdu\", \"target\": \"Yiddish\", \"country\": \"AU\", \"choices\": [\"Maori\", \"Finnish\", \"Urdu\", \"Yiddish\"], \"sample\": \"491ce6f2acb4a588a4e6ff3570d429a5\", \"date\": \"2013-08-19\"}\n",
      "{\"guess\": \"Mandarin\", \"target\": \"Mandarin\", \"country\": \"AU\", \"choices\": [\"Assyrian\", \"Bosnian\", \"Mandarin\", \"Yiddish\"], \"sample\": \"fc3712715ddc748286256eb7a64f25ab\", \"date\": \"2013-08-19\"}\n",
      "{\"guess\": \"Spanish\", \"target\": \"Spanish\", \"country\": \"AU\", \"choices\": [\"Italian\", \"Macedonian\", \"Punjabi\", \"Spanish\"], \"sample\": \"d8d9dfa02ff280d107d54fd8f19ab5bb\", \"date\": \"2013-08-19\"}\n",
      "{\"guess\": \"Danish\", \"target\": \"Danish\", \"country\": \"AU\", \"choices\": [\"Maori\", \"Danish\", \"Hebrew\", \"Punjabi\"], \"sample\": \"5fdcb0979e1c546ea05d7bd780bd4bc3\", \"date\": \"2013-08-19\"}\n",
      "{\"guess\": \"Serbian\", \"target\": \"Macedonian\", \"country\": \"AU\", \"choices\": [\"Khmer\", \"Macedonian\", \"Serbian\", \"Ukrainian\"], \"sample\": \"968e9c700742f65c43ad3cb99209e787\", \"date\": \"2013-08-19\"}\n",
      "{\"guess\": \"Greek\", \"target\": \"Greek\", \"country\": \"AU\", \"choices\": [\"Arabic\", \"Bangla\", \"Danish\", \"Greek\"], \"sample\": \"17527de743e8a5b5c339fb8ff117f65b\", \"date\": \"2013-08-19\"}\n",
      "{\"guess\": \"Sinhalese\", \"target\": \"Sinhalese\", \"country\": \"AU\", \"choices\": [\"Maori\", \"Gujarati\", \"Punjabi\", \"Sinhalese\"], \"sample\": \"755de9092b301614712fae5e1d2d47d3\", \"date\": \"2013-08-19\"}\n",
      "{\"guess\": \"Bosnian\", \"target\": \"Maltese\", \"country\": \"AU\", \"choices\": [\"Bosnian\", \"Hungarian\", \"Japanese\", \"Maltese\"], \"sample\": \"589feca2e2009ad2e63458f17568cd13\", \"date\": \"2013-08-19\"}\n",
      "{\"guess\": \"Mandarin\", \"target\": \"Mandarin\", \"country\": \"AU\", \"choices\": [\"Greek\", \"Gujarati\", \"Mandarin\", \"Slovenian\"], \"sample\": \"01f51995ae86ff85e899d40768ab81a8\", \"date\": \"2013-08-19\"}\n",
      "{\"guess\": \"Tamil\", \"target\": \"Tamil\", \"country\": \"AU\", \"choices\": [\"Czech\", \"Somali\", \"Tamil\", \"Turkish\"], \"sample\": \"cc305dcad696147e28c6f36615aa0952\", \"date\": \"2013-08-19\"}\n",
      "{\"guess\": \"Portuguese\", \"target\": \"Portuguese\", \"country\": \"AU\", \"choices\": [\"Bosnian\", \"Latvian\", \"Portuguese\", \"Sinhalese\"], \"sample\": \"439672210d1feb96e012590ff2a73590\", \"date\": \"2013-08-19\"}\n",
      "{\"guess\": \"Tongan\", \"target\": \"Tongan\", \"country\": \"AU\", \"choices\": [\"Italian\", \"Lao\", \"Farsi\", \"Tongan\"], \"sample\": \"838cfe7f928e1a41710e01b3ee12088f\", \"date\": \"2013-08-19\"}\n",
      "{\"guess\": \"Slovenian\", \"target\": \"Albanian\", \"country\": \"AU\", \"choices\": [\"Albanian\", \"German\", \"Slovenian\", \"Swahili\"], \"sample\": \"efcd813daec1c836d9f030b30caa07ce\", \"date\": \"2013-08-19\"}\n",
      "{\"guess\": \"Gujarati\", \"target\": \"Gujarati\", \"country\": \"AU\", \"choices\": [\"Gujarati\", \"Hebrew\", \"Somali\", \"Yiddish\"], \"sample\": \"16d80eee6659268a90460422dd2a2896\", \"date\": \"2013-08-19\"}\n",
      "{\"guess\": \"Czech\", \"target\": \"Swedish\", \"country\": \"AU\", \"choices\": [\"Czech\", \"Farsi\", \"Russian\", \"Swedish\"], \"sample\": \"dfe8192c1bbd80b44ea4409d9889dc90\", \"date\": \"2013-08-19\"}\n",
      "{\"guess\": \"Kannada\", \"target\": \"Farsi\", \"country\": \"AU\", \"choices\": [\"Hindi\", \"Kannada\", \"Farsi\", \"Turkish\"], \"sample\": \"70154ea13cf1c633cfe62d44919a347c\", \"date\": \"2013-08-19\"}\n",
      "{\"guess\": \"Khmer\", \"target\": \"Khmer\", \"country\": \"AU\", \"choices\": [\"Bangla\", \"Estonian\", \"Italian\", \"Khmer\"], \"sample\": \"714795c596ef0639a385fe620d2c42ab\", \"date\": \"2013-08-19\"}\n",
      "{\"guess\": \"German\", \"target\": \"Danish\", \"country\": \"AU\", \"choices\": [\"Danish\", \"German\", \"Russian\", \"Turkish\"], \"sample\": \"5fdcb0979e1c546ea05d7bd780bd4bc3\", \"date\": \"2013-08-19\"}\n",
      "{\"guess\": \"Korean\", \"target\": \"Korean\", \"country\": \"AU\", \"choices\": [\"Assyrian\", \"Korean\", \"Serbian\", \"Somali\"], \"sample\": \"ec371adb75ab6c7431adae3ef8fc9fc9\", \"date\": \"2013-08-19\"}\n",
      "{\"guess\": \"Fijian\", \"target\": \"Fijian\", \"country\": \"AU\", \"choices\": [\"Cantonese\", \"Fijian\", \"Slovak\", \"Somali\"], \"sample\": \"93b8857d01978401e679f0bde0a7b5b0\", \"date\": \"2013-08-19\"}\n",
      "{\"guess\": \"Portuguese\", \"target\": \"Portuguese\", \"country\": \"AU\", \"choices\": [\"Tagalog\", \"Maltese\", \"Portuguese\", \"Sinhalese\"], \"sample\": \"439672210d1feb96e012590ff2a73590\", \"date\": \"2013-08-19\"}\n",
      "{\"guess\": \"Japanese\", \"target\": \"Japanese\", \"country\": \"AU\", \"choices\": [\"Bulgarian\", \"French\", \"Japanese\", \"Punjabi\"], \"sample\": \"3569611136ea04bab18a0cd605ced358\", \"date\": \"2013-08-19\"}\n",
      "{\"guess\": \"Khmer\", \"target\": \"Khmer\", \"country\": \"AU\", \"choices\": [\"Bangla\", \"Khmer\", \"Kurdish\", \"Latvian\"], \"sample\": \"84f7df7508e423234fd1adec4f84e528\", \"date\": \"2013-08-19\"}\n",
      "{\"guess\": \"Estonian\", \"target\": \"Dutch\", \"country\": \"AU\", \"choices\": [\"Dutch\", \"Estonian\", \"Hungarian\", \"Swedish\"], \"sample\": \"bf0f1eec2e9f147aba20ea9b3e9564bb\", \"date\": \"2013-08-19\"}\n",
      "{\"guess\": \"Spanish\", \"target\": \"Spanish\", \"country\": \"AU\", \"choices\": [\"Dinka\", \"Hungarian\", \"Spanish\", \"Thai\"], \"sample\": \"dc3ace49393de518e87d4f8d3ae8d9db\", \"date\": \"2013-08-19\"}\n",
      "{\"guess\": \"Cantonese\", \"target\": \"Cantonese\", \"country\": \"AU\", \"choices\": [\"Bangla\", \"Cantonese\", \"Malay\", \"Somali\"], \"sample\": \"78e21624c41e6efc3ac790735180615d\", \"date\": \"2013-08-19\"}\n",
      "{\"guess\": \"Turkish\", \"target\": \"Latvian\", \"country\": \"AU\", \"choices\": [\"Cantonese\", \"Latvian\", \"Tamil\", \"Turkish\"], \"sample\": \"447bcafdbe5d7d69e0db72ab5bfa043a\", \"date\": \"2013-08-19\"}\n",
      "{\"guess\": \"Bulgarian\", \"target\": \"Bulgarian\", \"country\": \"AU\", \"choices\": [\"Assyrian\", \"Bulgarian\", \"Indonesian\", \"Khmer\"], \"sample\": \"69a5c674fe40942aaae4d10c9df46ee0\", \"date\": \"2013-08-19\"}\n",
      "{\"guess\": \"Polish\", \"target\": \"Polish\", \"country\": \"AU\", \"choices\": [\"Italian\", \"Korean\", \"Latvian\", \"Polish\"], \"sample\": \"98890a26d68bcf75f6087566971f126f\", \"date\": \"2013-08-19\"}\n",
      "{\"guess\": \"Farsi\", \"target\": \"Slovak\", \"country\": \"AU\", \"choices\": [\"Amharic\", \"Maltese\", \"Farsi\", \"Slovak\"], \"sample\": \"2c5efbd7364036976ec403a9ee36f614\", \"date\": \"2013-08-19\"}\n",
      "{\"guess\": \"Latvian\", \"target\": \"Latvian\", \"country\": \"AU\", \"choices\": [\"Bulgarian\", \"Maori\", \"Latvian\", \"Russian\"], \"sample\": \"447bcafdbe5d7d69e0db72ab5bfa043a\", \"date\": \"2013-08-19\"}\n",
      "{\"guess\": \"Malay\", \"target\": \"Malay\", \"country\": \"AU\", \"choices\": [\"Albanian\", \"Amharic\", \"Malay\", \"Tongan\"], \"sample\": \"6650448a5456ba88ea0971f2265f2bc7\", \"date\": \"2013-08-19\"}\n",
      "{\"guess\": \"Khmer\", \"target\": \"Khmer\", \"country\": \"AU\", \"choices\": [\"Dinka\", \"Khmer\", \"Polish\", \"Urdu\"], \"sample\": \"84f7df7508e423234fd1adec4f84e528\", \"date\": \"2013-08-19\"}\n",
      "{\"guess\": \"Farsi\", \"target\": \"Armenian\", \"country\": \"AU\", \"choices\": [\"Armenian\", \"Dinka\", \"Farsi\", \"Portuguese\"], \"sample\": \"e4588d7c735b9a87d93ada6d24a7bd53\", \"date\": \"2013-08-19\"}\n",
      "{\"guess\": \"Romanian\", \"target\": \"Romanian\", \"country\": \"AU\", \"choices\": [\"Tagalog\", \"French\", \"Hebrew\", \"Romanian\"], \"sample\": \"6560ff4ce0b53a1b0bad2e7734f52381\", \"date\": \"2013-08-19\"}\n",
      "{\"guess\": \"Burmese\", \"target\": \"Dinka\", \"country\": \"AU\", \"choices\": [\"Burmese\", \"Dinka\", \"Greek\", \"Indonesian\"], \"sample\": \"192e7c59bb734ee762a323219846295b\", \"date\": \"2013-08-19\"}\n",
      "{\"guess\": \"Gujarati\", \"target\": \"Gujarati\", \"country\": \"AU\", \"choices\": [\"Cantonese\", \"Gujarati\", \"Italian\", \"Sinhalese\"], \"sample\": \"56ecf19cff578aa76b81edb580ff343f\", \"date\": \"2013-08-19\"}\n",
      "{\"guess\": \"Mandarin\", \"target\": \"Mandarin\", \"country\": \"AU\", \"choices\": [\"Armenian\", \"Finnish\", \"Italian\", \"Mandarin\"], \"sample\": \"fc3712715ddc748286256eb7a64f25ab\", \"date\": \"2013-08-19\"}\n",
      "{\"guess\": \"Japanese\", \"target\": \"Japanese\", \"country\": \"AU\", \"choices\": [\"Japanese\", \"Sinhalese\", \"Swahili\", \"Vietnamese\"], \"sample\": \"3569611136ea04bab18a0cd605ced358\", \"date\": \"2013-08-19\"}\n",
      "{\"guess\": \"Tongan\", \"target\": \"Tongan\", \"country\": \"AU\", \"choices\": [\"Dinka\", \"Samoan\", \"Somali\", \"Tongan\"], \"sample\": \"838cfe7f928e1a41710e01b3ee12088f\", \"date\": \"2013-08-19\"}\n",
      "{\"guess\": \"Nepali\", \"target\": \"Nepali\", \"country\": \"AU\", \"choices\": [\"Bulgarian\", \"Mandarin\", \"Nepali\", \"Tamil\"], \"sample\": \"faa86f6efaf2ee67f95239685d26fd88\", \"date\": \"2013-08-19\"}\n",
      "{\"guess\": \"Estonian\", \"target\": \"Maori\", \"country\": \"AU\", \"choices\": [\"Maori\", \"Estonian\", \"Nepali\", \"Portuguese\"], \"sample\": \"1e94210c21a6af48b9c418a7d6380a1c\", \"date\": \"2013-08-19\"}\n",
      "{\"guess\": \"Latvian\", \"target\": \"Sinhalese\", \"country\": \"AU\", \"choices\": [\"Danish\", \"Latvian\", \"Norwegian\", \"Sinhalese\"], \"sample\": \"c4d4db8bf910cf4350fc87b3f3667976\", \"date\": \"2013-08-19\"}\n",
      "{\"guess\": \"Nepali\", \"target\": \"Nepali\", \"country\": \"AU\", \"choices\": [\"Indonesian\", \"Nepali\", \"Sinhalese\", \"Turkish\"], \"sample\": \"e178a0abbbb171d9b785d8350a45f203\", \"date\": \"2013-08-19\"}\n",
      "{\"guess\": \"Norwegian\", \"target\": \"Norwegian\", \"country\": \"AU\", \"choices\": [\"Dutch\", \"Hindi\", \"Lao\", \"Norwegian\"], \"sample\": \"48f9c924e0d98c959d8a6f1862b3ce9a\", \"date\": \"2013-08-20\"}\n",
      "{\"guess\": \"Hebrew\", \"target\": \"Hebrew\", \"country\": \"AU\", \"choices\": [\"Finnish\", \"Hebrew\", \"Malay\", \"Urdu\"], \"sample\": \"1dc9a1bf90e4e788906dc716dc18d878\", \"date\": \"2013-08-20\"}\n",
      "{\"guess\": \"Ukrainian\", \"target\": \"Ukrainian\", \"country\": \"AU\", \"choices\": [\"Dutch\", \"Finnish\", \"Ukrainian\", \"Yiddish\"], \"sample\": \"064ca74dff16ce8dade4a7acdc0def8a\", \"date\": \"2013-08-20\"}\n",
      "{\"guess\": \"Vietnamese\", \"target\": \"Vietnamese\", \"country\": \"AU\", \"choices\": [\"Arabic\", \"Korean\", \"Punjabi\", \"Vietnamese\"], \"sample\": \"8ea6892d1ddca321adc07b05176e3605\", \"date\": \"2013-08-20\"}\n",
      "{\"guess\": \"Dutch\", \"target\": \"Dutch\", \"country\": \"AU\", \"choices\": [\"Dutch\", \"French\", \"Kannada\", \"Serbian\"], \"sample\": \"bf0f1eec2e9f147aba20ea9b3e9564bb\", \"date\": \"2013-08-20\"}\n",
      "{\"guess\": \"Portuguese\", \"target\": \"Portuguese\", \"country\": \"AU\", \"choices\": [\"Cantonese\", \"Polish\", \"Portuguese\", \"Punjabi\"], \"sample\": \"5fd851c9e87a6b9b9da9eb2ab0de6686\", \"date\": \"2013-08-20\"}\n",
      "{\"guess\": \"Dari\", \"target\": \"Serbian\", \"country\": \"AU\", \"choices\": [\"Dari\", \"Serbian\", \"Sinhalese\", \"Vietnamese\"], \"sample\": \"0d5b697ebb326b5043ce7fa60a7b968d\", \"date\": \"2013-08-20\"}\n",
      "{\"guess\": \"Nepali\", \"target\": \"Nepali\", \"country\": \"AU\", \"choices\": [\"French\", \"Kannada\", \"Nepali\", \"Sinhalese\"], \"sample\": \"e178a0abbbb171d9b785d8350a45f203\", \"date\": \"2013-08-20\"}\n",
      "{\"guess\": \"Czech\", \"target\": \"Czech\", \"country\": \"AU\", \"choices\": [\"Amharic\", \"Czech\", \"Korean\", \"Macedonian\"], \"sample\": \"9769bab1b0b25eb730c704ef42a3e7a6\", \"date\": \"2013-08-20\"}\n",
      "{\"guess\": \"Kurdish\", \"target\": \"Kurdish\", \"country\": \"AU\", \"choices\": [\"Kannada\", \"Kurdish\", \"Latvian\", \"Tongan\"], \"sample\": \"8df0a7cae5bb52d889fdbab7def4b5aa\", \"date\": \"2013-08-20\"}\n",
      "{\"guess\": \"Czech\", \"target\": \"Czech\", \"country\": \"AU\", \"choices\": [\"Maori\", \"Czech\", \"Kurdish\", \"Tongan\"], \"sample\": \"1787b5c79a00b3513ce76847bc1f5b75\", \"date\": \"2013-08-20\"}\n",
      "{\"guess\": \"Latvian\", \"target\": \"Latvian\", \"country\": \"AU\", \"choices\": [\"Tagalog\", \"French\", \"Latvian\", \"Slovenian\"], \"sample\": \"447bcafdbe5d7d69e0db72ab5bfa043a\", \"date\": \"2013-08-20\"}\n",
      "{\"guess\": \"Swedish\", \"target\": \"Swedish\", \"country\": \"AU\", \"choices\": [\"Lao\", \"Maltese\", \"Swedish\", \"Ukrainian\"], \"sample\": \"dfe8192c1bbd80b44ea4409d9889dc90\", \"date\": \"2013-08-20\"}\n",
      "{\"guess\": \"Khmer\", \"target\": \"Burmese\", \"country\": \"AU\", \"choices\": [\"Assyrian\", \"Burmese\", \"Khmer\", \"Russian\"], \"sample\": \"31cba304794d1828c93d7b3c63aa840a\", \"date\": \"2013-08-20\"}\n",
      "{\"guess\": \"Malay\", \"target\": \"Japanese\", \"country\": \"AU\", \"choices\": [\"Japanese\", \"Malay\", \"Maltese\", \"Ukrainian\"], \"sample\": \"3569611136ea04bab18a0cd605ced358\", \"date\": \"2013-08-20\"}\n",
      "{\"guess\": \"Amharic\", \"target\": \"Maori\", \"country\": \"AU\", \"choices\": [\"Amharic\", \"Maori\", \"German\", \"Kannada\"], \"sample\": \"1e94210c21a6af48b9c418a7d6380a1c\", \"date\": \"2013-08-20\"}\n",
      "{\"guess\": \"Turkish\", \"target\": \"Turkish\", \"country\": \"AU\", \"choices\": [\"Finnish\", \"Somali\", \"Turkish\", \"Urdu\"], \"sample\": \"752c4c30d475748a342c68ebfba24d1e\", \"date\": \"2013-08-20\"}\n",
      "{\"guess\": \"Somali\", \"target\": \"Fijian\", \"country\": \"AU\", \"choices\": [\"Burmese\", \"Czech\", \"Fijian\", \"Somali\"], \"sample\": \"93b8857d01978401e679f0bde0a7b5b0\", \"date\": \"2013-08-20\"}\n",
      "{\"guess\": \"Tamil\", \"target\": \"Sinhalese\", \"country\": \"AU\", \"choices\": [\"Gujarati\", \"Norwegian\", \"Sinhalese\", \"Tamil\"], \"sample\": \"755de9092b301614712fae5e1d2d47d3\", \"date\": \"2013-08-20\"}\n",
      "{\"guess\": \"Nepali\", \"target\": \"Cantonese\", \"country\": \"AU\", \"choices\": [\"Cantonese\", \"Dari\", \"Nepali\", \"Spanish\"], \"sample\": \"da6ed723fe60684a231c3e22a42610a7\", \"date\": \"2013-08-20\"}\n",
      "{\"guess\": \"Arabic\", \"target\": \"Arabic\", \"country\": \"AU\", \"choices\": [\"Arabic\", \"Cantonese\", \"Maltese\", \"Samoan\"], \"sample\": \"83c6ffcb085ce9c18c0e2aff00dda865\", \"date\": \"2013-08-20\"}\n",
      "{\"guess\": \"Amharic\", \"target\": \"Amharic\", \"country\": \"AU\", \"choices\": [\"Amharic\", \"Cantonese\", \"Fijian\", \"Kurdish\"], \"sample\": \"50a52cc16828c9cd27b9c26c75974e6d\", \"date\": \"2013-08-20\"}\n",
      "{\"guess\": \"Hungarian\", \"target\": \"Latvian\", \"country\": \"AU\", \"choices\": [\"Tagalog\", \"Hebrew\", \"Hungarian\", \"Latvian\"], \"sample\": \"5e609abac81edbf76a58bc1d2a850f12\", \"date\": \"2013-08-20\"}\n",
      "{\"guess\": \"Gujarati\", \"target\": \"Sinhalese\", \"country\": \"AU\", \"choices\": [\"Tagalog\", \"Gujarati\", \"Portuguese\", \"Sinhalese\"], \"sample\": \"650061b92e1bf9fc20bc9757f333ddbb\", \"date\": \"2013-08-20\"}\n",
      "{\"guess\": \"Gujarati\", \"target\": \"Latvian\", \"country\": \"AU\", \"choices\": [\"Gujarati\", \"Latvian\", \"Russian\", \"Tamil\"], \"sample\": \"447bcafdbe5d7d69e0db72ab5bfa043a\", \"date\": \"2013-08-20\"}\n",
      "{\"guess\": \"Spanish\", \"target\": \"Spanish\", \"country\": \"AU\", \"choices\": [\"Dari\", \"Tagalog\", \"Slovenian\", \"Spanish\"], \"sample\": \"dc3ace49393de518e87d4f8d3ae8d9db\", \"date\": \"2013-08-20\"}\n",
      "{\"guess\": \"Farsi\", \"target\": \"Farsi\", \"country\": \"AU\", \"choices\": [\"Czech\", \"Dinka\", \"Farsi\", \"Somali\"], \"sample\": \"c73ee42a45debb00fbcc86eb29682757\", \"date\": \"2013-08-20\"}\n",
      "{\"guess\": \"Nepali\", \"target\": \"Nepali\", \"country\": \"AU\", \"choices\": [\"Bosnian\", \"Estonian\", \"Kurdish\", \"Nepali\"], \"sample\": \"faa86f6efaf2ee67f95239685d26fd88\", \"date\": \"2013-08-20\"}\n",
      "{\"guess\": \"Tamil\", \"target\": \"Tamil\", \"country\": \"AU\", \"choices\": [\"Assyrian\", \"Bangla\", \"Nepali\", \"Tamil\"], \"sample\": \"cc305dcad696147e28c6f36615aa0952\", \"date\": \"2013-08-20\"}\n",
      "{\"guess\": \"Estonian\", \"target\": \"Ukrainian\", \"country\": \"AU\", \"choices\": [\"Armenian\", \"Dutch\", \"Estonian\", \"Ukrainian\"], \"sample\": \"064ca74dff16ce8dade4a7acdc0def8a\", \"date\": \"2013-08-20\"}\n",
      "{\"guess\": \"Khmer\", \"target\": \"Khmer\", \"country\": \"AU\", \"choices\": [\"Estonian\", \"Khmer\", \"Latvian\", \"Thai\"], \"sample\": \"714795c596ef0639a385fe620d2c42ab\", \"date\": \"2013-08-20\"}\n",
      "{\"guess\": \"Portuguese\", \"target\": \"Romanian\", \"country\": \"AU\", \"choices\": [\"Mandarin\", \"Polish\", \"Portuguese\", \"Romanian\"], \"sample\": \"6560ff4ce0b53a1b0bad2e7734f52381\", \"date\": \"2013-08-20\"}\n",
      "{\"guess\": \"French\", \"target\": \"French\", \"country\": \"AU\", \"choices\": [\"Croatian\", \"Dinka\", \"French\", \"Hungarian\"], \"sample\": \"92f9e1c17e6df988780527341fdb471d\", \"date\": \"2013-08-20\"}\n",
      "{\"guess\": \"Maltese\", \"target\": \"Maltese\", \"country\": \"AU\", \"choices\": [\"Khmer\", \"Maltese\", \"Norwegian\", \"Swedish\"], \"sample\": \"589feca2e2009ad2e63458f17568cd13\", \"date\": \"2013-08-20\"}\n",
      "{\"guess\": \"Hebrew\", \"target\": \"Hebrew\", \"country\": \"AU\", \"choices\": [\"Fijian\", \"Hebrew\", \"Samoan\", \"Ukrainian\"], \"sample\": \"1dc9a1bf90e4e788906dc716dc18d878\", \"date\": \"2013-08-20\"}\n",
      "{\"guess\": \"Sinhalese\", \"target\": \"Dinka\", \"country\": \"AU\", \"choices\": [\"Dinka\", \"Norwegian\", \"Sinhalese\", \"Urdu\"], \"sample\": \"192e7c59bb734ee762a323219846295b\", \"date\": \"2013-08-20\"}\n",
      "{\"guess\": \"Spanish\", \"target\": \"Bosnian\", \"country\": \"AU\", \"choices\": [\"Bosnian\", \"Latvian\", \"Spanish\", \"Vietnamese\"], \"sample\": \"421df072ac5abde4883d50b1fc789b14\", \"date\": \"2013-08-20\"}\n"
     ]
    }
   ],
   "source": [
    "%%rumble\n",
    "for $i in json-file(\"confusion-2014-03-02/confusion-2014-03-02.json\")\n",
    "return $i"
   ]
  },
  {
   "cell_type": "markdown",
   "metadata": {
    "id": "a1ovg4Ga9xVp"
   },
   "source": [
    "After the results of your query are printed, Rumble will report the execution runtime in milliseconds:\n",
    "```\n",
    "Took: 62.02618598937988 ms\n",
    "```\n",
    "\n",
    "In the `json-file` method you can optionally specify the number of partitions, which may allow your query to be parallelized and executed faster. This offers great advantage on cluster, but is not much faster locally. For example:\n"
   ]
  },
  {
   "cell_type": "code",
   "execution_count": 71,
   "metadata": {
    "colab": {
     "base_uri": "https://localhost:8080/"
    },
    "id": "8G7eI0UE93BH",
    "outputId": "ae02d63f-9909-47e7-e5a9-de54ea7fac1f"
   },
   "outputs": [
    {
     "name": "stdout",
     "output_type": "stream",
     "text": [
      "Took: 57.696205139160156 s\n",
      "\"Warning! The output sequence contains 16511224 items but its materialization was capped at 200 items. This value can be configured with the result-size parameter in the query string of the HTTP request.\"\n",
      "{\"guess\": \"Norwegian\", \"target\": \"Norwegian\", \"country\": \"AU\", \"choices\": [\"Maori\", \"Mandarin\", \"Norwegian\", \"Tongan\"], \"sample\": \"48f9c924e0d98c959d8a6f1862b3ce9a\", \"date\": \"2013-08-19\"}\n",
      "{\"guess\": \"Dinka\", \"target\": \"Dinka\", \"country\": \"AU\", \"choices\": [\"Danish\", \"Dinka\", \"Khmer\", \"Lao\"], \"sample\": \"af5e8f27cef9e689a070b8814dcc02c3\", \"date\": \"2013-08-19\"}\n",
      "{\"guess\": \"Turkish\", \"target\": \"Samoan\", \"country\": \"AU\", \"choices\": [\"German\", \"Hungarian\", \"Samoan\", \"Turkish\"], \"sample\": \"509c36eb58dbce009ccf93f375358d53\", \"date\": \"2013-08-19\"}\n",
      "{\"guess\": \"Latvian\", \"target\": \"Somali\", \"country\": \"AU\", \"choices\": [\"Danish\", \"Korean\", \"Latvian\", \"Somali\"], \"sample\": \"a505ab771ae7c32744ad31b3051b8ee9\", \"date\": \"2013-08-19\"}\n",
      "{\"guess\": \"Japanese\", \"target\": \"Japanese\", \"country\": \"AU\", \"choices\": [\"Bangla\", \"Dinka\", \"Italian\", \"Japanese\"], \"sample\": \"3569611136ea04bab18a0cd605ced358\", \"date\": \"2013-08-19\"}\n",
      "{\"guess\": \"Maltese\", \"target\": \"Turkish\", \"country\": \"AU\", \"choices\": [\"Hindi\", \"Lao\", \"Maltese\", \"Turkish\"], \"sample\": \"af0e25c7637fb0dcdc56fac6d49aa55e\", \"date\": \"2013-08-19\"}\n",
      "{\"guess\": \"French\", \"target\": \"French\", \"country\": \"AU\", \"choices\": [\"Burmese\", \"Danish\", \"French\", \"Swedish\"], \"sample\": \"92f9e1c17e6df988780527341fdb471d\", \"date\": \"2013-08-19\"}\n",
      "{\"guess\": \"German\", \"target\": \"German\", \"country\": \"AU\", \"choices\": [\"German\", \"Serbian\", \"Swedish\", \"Vietnamese\"], \"sample\": \"e77d97b712adffc39e531e20237a5589\", \"date\": \"2013-08-19\"}\n",
      "{\"guess\": \"Spanish\", \"target\": \"Spanish\", \"country\": \"AU\", \"choices\": [\"Amharic\", \"Czech\", \"Sinhalese\", \"Spanish\"], \"sample\": \"dc3ace49393de518e87d4f8d3ae8d9db\", \"date\": \"2013-08-19\"}\n",
      "{\"guess\": \"Romanian\", \"target\": \"Romanian\", \"country\": \"AU\", \"choices\": [\"Estonian\", \"Japanese\", \"Lao\", \"Romanian\"], \"sample\": \"903fc45cba5245f21deaaca3966f825b\", \"date\": \"2013-08-19\"}\n",
      "{\"guess\": \"Cantonese\", \"target\": \"Cantonese\", \"country\": \"AU\", \"choices\": [\"Burmese\", \"Cantonese\", \"Serbian\", \"Ukrainian\"], \"sample\": \"203628f42619d301e642b3553b7a684a\", \"date\": \"2013-08-19\"}\n",
      "{\"guess\": \"Amharic\", \"target\": \"Dinka\", \"country\": \"AU\", \"choices\": [\"Amharic\", \"Dinka\", \"Indonesian\", \"Thai\"], \"sample\": \"cd3dffdb83f221e09710cbfbcaffdb31\", \"date\": \"2013-08-19\"}\n",
      "{\"guess\": \"Assyrian\", \"target\": \"Assyrian\", \"country\": \"AU\", \"choices\": [\"Assyrian\", \"Finnish\", \"Norwegian\", \"Turkish\"], \"sample\": \"16ac545260ae198b7a3d882e06e5f261\", \"date\": \"2013-08-19\"}\n",
      "{\"guess\": \"Hebrew\", \"target\": \"Hebrew\", \"country\": \"AU\", \"choices\": [\"Hebrew\", \"Hindi\", \"Ukrainian\", \"Yiddish\"], \"sample\": \"1dc9a1bf90e4e788906dc716dc18d878\", \"date\": \"2013-08-19\"}\n",
      "{\"guess\": \"Kurdish\", \"target\": \"Kurdish\", \"country\": \"AU\", \"choices\": [\"Cantonese\", \"Kurdish\", \"Maltese\", \"Somali\"], \"sample\": \"9f849ff225f0d94a52c186924e225231\", \"date\": \"2013-08-19\"}\n",
      "{\"guess\": \"Italian\", \"target\": \"Italian\", \"country\": \"AU\", \"choices\": [\"Assyrian\", \"Dari\", \"Italian\", \"Khmer\"], \"sample\": \"88f3e5120091cffdf8abeb92b5da90a2\", \"date\": \"2013-08-19\"}\n",
      "{\"guess\": \"Maltese\", \"target\": \"Maltese\", \"country\": \"AU\", \"choices\": [\"Tagalog\", \"Japanese\", \"Maltese\", \"Tamil\"], \"sample\": \"589feca2e2009ad2e63458f17568cd13\", \"date\": \"2013-08-19\"}\n",
      "{\"guess\": \"Kannada\", \"target\": \"Kannada\", \"country\": \"AU\", \"choices\": [\"Italian\", \"Kannada\", \"Mandarin\", \"Serbian\"], \"sample\": \"c11a7723bd3fcd00e33e90c90a3492e5\", \"date\": \"2013-08-19\"}\n",
      "{\"guess\": \"Dinka\", \"target\": \"Dinka\", \"country\": \"AU\", \"choices\": [\"Amharic\", \"Dinka\", \"Mandarin\", \"Yiddish\"], \"sample\": \"cd3dffdb83f221e09710cbfbcaffdb31\", \"date\": \"2013-08-19\"}\n",
      "{\"guess\": \"German\", \"target\": \"German\", \"country\": \"AU\", \"choices\": [\"Assyrian\", \"Dinka\", \"Estonian\", \"German\"], \"sample\": \"78213fa858b9a45d83121a8bf71712d1\", \"date\": \"2013-08-19\"}\n",
      "{\"guess\": \"Hebrew\", \"target\": \"Hebrew\", \"country\": \"AU\", \"choices\": [\"Arabic\", \"Hebrew\", \"Hungarian\", \"Lao\"], \"sample\": \"1dc9a1bf90e4e788906dc716dc18d878\", \"date\": \"2013-08-19\"}\n",
      "{\"guess\": \"Croatian\", \"target\": \"Albanian\", \"country\": \"AU\", \"choices\": [\"Albanian\", \"Maori\", \"Croatian\", \"Indonesian\"], \"sample\": \"00b85faa8b878a14f8781be334deb137\", \"date\": \"2013-08-19\"}\n",
      "{\"guess\": \"Lao\", \"target\": \"Lao\", \"country\": \"AU\", \"choices\": [\"Assyrian\", \"Tagalog\", \"Lao\", \"Tongan\"], \"sample\": \"4cf041f244960196b98c7d6ae8c79ed3\", \"date\": \"2013-08-19\"}\n",
      "{\"guess\": \"Hungarian\", \"target\": \"Turkish\", \"country\": \"AU\", \"choices\": [\"Hungarian\", \"Swedish\", \"Thai\", \"Turkish\"], \"sample\": \"af0e25c7637fb0dcdc56fac6d49aa55e\", \"date\": \"2013-08-19\"}\n",
      "{\"guess\": \"Khmer\", \"target\": \"Swahili\", \"country\": \"AU\", \"choices\": [\"Bosnian\", \"Khmer\", \"Swahili\", \"Turkish\"], \"sample\": \"ac1275769d8aaf8758f95409271f8a2f\", \"date\": \"2013-08-19\"}\n",
      "{\"guess\": \"Vietnamese\", \"target\": \"Vietnamese\", \"country\": \"AU\", \"choices\": [\"Czech\", \"Japanese\", \"Tamil\", \"Vietnamese\"], \"sample\": \"8ea6892d1ddca321adc07b05176e3605\", \"date\": \"2013-08-19\"}\n",
      "{\"guess\": \"Portuguese\", \"target\": \"Portuguese\", \"country\": \"AU\", \"choices\": [\"Dari\", \"Hebrew\", \"Kurdish\", \"Portuguese\"], \"sample\": \"5fd851c9e87a6b9b9da9eb2ab0de6686\", \"date\": \"2013-08-19\"}\n",
      "{\"guess\": \"Nepali\", \"target\": \"Nepali\", \"country\": \"AU\", \"choices\": [\"Amharic\", \"Greek\", \"Nepali\", \"Ukrainian\"], \"sample\": \"faa86f6efaf2ee67f95239685d26fd88\", \"date\": \"2013-08-19\"}\n",
      "{\"guess\": \"Malayalam\", \"target\": \"Indonesian\", \"country\": \"AU\", \"choices\": [\"Bulgarian\", \"Indonesian\", \"Malayalam\", \"Russian\"], \"sample\": \"ff8fcb796b7fdc540dd567c144024f82\", \"date\": \"2013-08-19\"}\n",
      "{\"guess\": \"Finnish\", \"target\": \"Finnish\", \"country\": \"AU\", \"choices\": [\"Finnish\", \"Kurdish\", \"Turkish\", \"Yiddish\"], \"sample\": \"4a3dfa40ed621940a0a38408956b86e0\", \"date\": \"2013-08-19\"}\n",
      "{\"guess\": \"German\", \"target\": \"German\", \"country\": \"AU\", \"choices\": [\"German\", \"Hindi\", \"Somali\", \"Tamil\"], \"sample\": \"78213fa858b9a45d83121a8bf71712d1\", \"date\": \"2013-08-19\"}\n",
      "{\"guess\": \"Greek\", \"target\": \"Fijian\", \"country\": \"AU\", \"choices\": [\"Fijian\", \"Greek\", \"Mandarin\", \"Vietnamese\"], \"sample\": \"f53c7596c141ee6d5d2b3ab90361f802\", \"date\": \"2013-08-19\"}\n",
      "{\"guess\": \"Burmese\", \"target\": \"Burmese\", \"country\": \"AU\", \"choices\": [\"Burmese\", \"Danish\", \"French\", \"Kurdish\"], \"sample\": \"878d3d845ccb0859aa05e80e1d35730f\", \"date\": \"2013-08-19\"}\n",
      "{\"guess\": \"Turkish\", \"target\": \"Khmer\", \"country\": \"AU\", \"choices\": [\"Khmer\", \"Sinhalese\", \"Swahili\", \"Turkish\"], \"sample\": \"714795c596ef0639a385fe620d2c42ab\", \"date\": \"2013-08-19\"}\n",
      "{\"guess\": \"Fijian\", \"target\": \"Dinka\", \"country\": \"AU\", \"choices\": [\"Arabic\", \"Dinka\", \"Fijian\", \"Thai\"], \"sample\": \"192e7c59bb734ee762a323219846295b\", \"date\": \"2013-08-19\"}\n",
      "{\"guess\": \"Swahili\", \"target\": \"Swahili\", \"country\": \"AU\", \"choices\": [\"Hebrew\", \"Malay\", \"Swahili\", \"Swedish\"], \"sample\": \"1b959fe55794f6d4e1ea038bfe336759\", \"date\": \"2013-08-19\"}\n",
      "{\"guess\": \"Norwegian\", \"target\": \"Polish\", \"country\": \"AU\", \"choices\": [\"Indonesian\", \"Kannada\", \"Norwegian\", \"Polish\"], \"sample\": \"f1aac78bec424c4d6c716553719b0b70\", \"date\": \"2013-08-19\"}\n",
      "{\"guess\": \"Swedish\", \"target\": \"Dutch\", \"country\": \"AU\", \"choices\": [\"Burmese\", \"Cantonese\", \"Dutch\", \"Swedish\"], \"sample\": \"5cd22cbf16be1a93d304d589431c3ec3\", \"date\": \"2013-08-19\"}\n",
      "{\"guess\": \"Ukrainian\", \"target\": \"Albanian\", \"country\": \"AU\", \"choices\": [\"Albanian\", \"Bulgarian\", \"Japanese\", \"Ukrainian\"], \"sample\": \"efcd813daec1c836d9f030b30caa07ce\", \"date\": \"2013-08-19\"}\n",
      "{\"guess\": \"Hebrew\", \"target\": \"Hebrew\", \"country\": \"AU\", \"choices\": [\"Dinka\", \"Hebrew\", \"Hindi\", \"Vietnamese\"], \"sample\": \"157085744728e35079622c71804cf722\", \"date\": \"2013-08-19\"}\n",
      "{\"guess\": \"Slovenian\", \"target\": \"Norwegian\", \"country\": \"AU\", \"choices\": [\"Dinka\", \"Nepali\", \"Norwegian\", \"Slovenian\"], \"sample\": \"208e1606aa365f3ed573adc7111f58e9\", \"date\": \"2013-08-19\"}\n",
      "{\"guess\": \"Russian\", \"target\": \"Russian\", \"country\": \"AU\", \"choices\": [\"Lao\", \"Nepali\", \"Russian\", \"Tongan\"], \"sample\": \"8a59d48e99e8a1df7e366c4648095e27\", \"date\": \"2013-08-19\"}\n",
      "{\"guess\": \"Bulgarian\", \"target\": \"Albanian\", \"country\": \"AU\", \"choices\": [\"Albanian\", \"Bulgarian\", \"Russian\", \"Ukrainian\"], \"sample\": \"00b85faa8b878a14f8781be334deb137\", \"date\": \"2013-08-19\"}\n",
      "{\"guess\": \"Turkish\", \"target\": \"Dinka\", \"country\": \"AU\", \"choices\": [\"Dinka\", \"Mandarin\", \"Slovenian\", \"Turkish\"], \"sample\": \"cd3dffdb83f221e09710cbfbcaffdb31\", \"date\": \"2013-08-19\"}\n",
      "{\"guess\": \"Maltese\", \"target\": \"Maltese\", \"country\": \"AU\", \"choices\": [\"Maori\", \"French\", \"Maltese\", \"Vietnamese\"], \"sample\": \"36d2f4e9173e2d4cad8b8594310c856b\", \"date\": \"2013-08-19\"}\n",
      "{\"guess\": \"Urdu\", \"target\": \"Estonian\", \"country\": \"AU\", \"choices\": [\"Amharic\", \"Estonian\", \"Hebrew\", \"Urdu\"], \"sample\": \"5af9790de5ecef3853d6d89f8e75916c\", \"date\": \"2013-08-19\"}\n",
      "{\"guess\": \"Portuguese\", \"target\": \"Portuguese\", \"country\": \"AU\", \"choices\": [\"Dinka\", \"Finnish\", \"Gujarati\", \"Portuguese\"], \"sample\": \"5fd851c9e87a6b9b9da9eb2ab0de6686\", \"date\": \"2013-08-19\"}\n",
      "{\"guess\": \"Serbian\", \"target\": \"Serbian\", \"country\": \"AU\", \"choices\": [\"Bosnian\", \"Indonesian\", \"Romanian\", \"Serbian\"], \"sample\": \"ec4d6dad1be487091ec2b1b63820e329\", \"date\": \"2013-08-19\"}\n",
      "{\"guess\": \"Dinka\", \"target\": \"Samoan\", \"country\": \"AU\", \"choices\": [\"Amharic\", \"Arabic\", \"Dinka\", \"Samoan\"], \"sample\": \"509c36eb58dbce009ccf93f375358d53\", \"date\": \"2013-08-19\"}\n",
      "{\"guess\": \"Japanese\", \"target\": \"Japanese\", \"country\": \"AU\", \"choices\": [\"French\", \"Japanese\", \"Russian\", \"Ukrainian\"], \"sample\": \"3569611136ea04bab18a0cd605ced358\", \"date\": \"2013-08-19\"}\n",
      "{\"guess\": \"Tagalog\", \"target\": \"Tagalog\", \"country\": \"AU\", \"choices\": [\"Bulgarian\", \"Tagalog\", \"Greek\", \"Turkish\"], \"sample\": \"34df5eca0db3967da23f8a210337c9d6\", \"date\": \"2013-08-19\"}\n",
      "{\"guess\": \"Serbian\", \"target\": \"Serbian\", \"country\": \"AU\", \"choices\": [\"Khmer\", \"Latvian\", \"Serbian\", \"Vietnamese\"], \"sample\": \"ec4d6dad1be487091ec2b1b63820e329\", \"date\": \"2013-08-19\"}\n",
      "{\"guess\": \"Bulgarian\", \"target\": \"Russian\", \"country\": \"AU\", \"choices\": [\"Bulgarian\", \"Macedonian\", \"Russian\", \"Samoan\"], \"sample\": \"ff5b5a0d34c77d2e2027dad7e4deb094\", \"date\": \"2013-08-19\"}\n",
      "{\"guess\": \"Polish\", \"target\": \"Slovenian\", \"country\": \"AU\", \"choices\": [\"Bosnian\", \"Polish\", \"Sinhalese\", \"Slovenian\"], \"sample\": \"f2f07eb5c50e64c627f66566b3c7cc4a\", \"date\": \"2013-08-19\"}\n",
      "{\"guess\": \"Nepali\", \"target\": \"Dinka\", \"country\": \"AU\", \"choices\": [\"Danish\", \"Dinka\", \"Hebrew\", \"Nepali\"], \"sample\": \"192e7c59bb734ee762a323219846295b\", \"date\": \"2013-08-19\"}\n",
      "{\"guess\": \"Latvian\", \"target\": \"Latvian\", \"country\": \"AU\", \"choices\": [\"Dutch\", \"Italian\", \"Latvian\", \"Portuguese\"], \"sample\": \"5aea2b93784263ae4b5a2524ddebebb2\", \"date\": \"2013-08-19\"}\n",
      "{\"guess\": \"Hungarian\", \"target\": \"Czech\", \"country\": \"AU\", \"choices\": [\"Czech\", \"Estonian\", \"Hungarian\", \"Slovak\"], \"sample\": \"56626a14b479e47d5eb9568161dad285\", \"date\": \"2013-08-19\"}\n",
      "{\"guess\": \"Nepali\", \"target\": \"Nepali\", \"country\": \"AU\", \"choices\": [\"Croatian\", \"Hebrew\", \"Malay\", \"Nepali\"], \"sample\": \"faa86f6efaf2ee67f95239685d26fd88\", \"date\": \"2013-08-19\"}\n",
      "{\"guess\": \"Urdu\", \"target\": \"Urdu\", \"country\": \"AU\", \"choices\": [\"Kannada\", \"Korean\", \"Nepali\", \"Urdu\"], \"sample\": \"3520fdcdf2658685928fc37e72ab2134\", \"date\": \"2013-08-19\"}\n",
      "{\"guess\": \"Assyrian\", \"target\": \"Assyrian\", \"country\": \"AU\", \"choices\": [\"Assyrian\", \"Czech\", \"German\", \"Hungarian\"], \"sample\": \"a7d34c215264677c8385e90fa5363ec1\", \"date\": \"2013-08-19\"}\n",
      "{\"guess\": \"Swahili\", \"target\": \"Tigrinya\", \"country\": \"AU\", \"choices\": [\"Tagalog\", \"Greek\", \"Swahili\", \"Tigrinya\"], \"sample\": \"3ec316c78773bb826dd924926f5c0d07\", \"date\": \"2013-08-19\"}\n",
      "{\"guess\": \"Tamil\", \"target\": \"Tamil\", \"country\": \"AU\", \"choices\": [\"Estonian\", \"Malay\", \"Russian\", \"Tamil\"], \"sample\": \"cc305dcad696147e28c6f36615aa0952\", \"date\": \"2013-08-19\"}\n",
      "{\"guess\": \"Danish\", \"target\": \"Danish\", \"country\": \"AU\", \"choices\": [\"Danish\", \"Hebrew\", \"Korean\", \"Kurdish\"], \"sample\": \"5fdcb0979e1c546ea05d7bd780bd4bc3\", \"date\": \"2013-08-19\"}\n",
      "{\"guess\": \"Burmese\", \"target\": \"Burmese\", \"country\": \"AU\", \"choices\": [\"Burmese\", \"Danish\", \"Romanian\", \"Ukrainian\"], \"sample\": \"31cba304794d1828c93d7b3c63aa840a\", \"date\": \"2013-08-19\"}\n",
      "{\"guess\": \"Maltese\", \"target\": \"Maltese\", \"country\": \"AU\", \"choices\": [\"German\", \"Maltese\", \"Polish\", \"Sinhalese\"], \"sample\": \"36d2f4e9173e2d4cad8b8594310c856b\", \"date\": \"2013-08-19\"}\n",
      "{\"guess\": \"Maltese\", \"target\": \"Maltese\", \"country\": \"AU\", \"choices\": [\"Burmese\", \"Czech\", \"French\", \"Maltese\"], \"sample\": \"589feca2e2009ad2e63458f17568cd13\", \"date\": \"2013-08-19\"}\n",
      "{\"guess\": \"Dutch\", \"target\": \"Dutch\", \"country\": \"AU\", \"choices\": [\"Albanian\", \"Bangla\", \"Dutch\", \"Mandarin\"], \"sample\": \"bf0f1eec2e9f147aba20ea9b3e9564bb\", \"date\": \"2013-08-19\"}\n",
      "{\"guess\": \"Mandarin\", \"target\": \"Mandarin\", \"country\": \"AU\", \"choices\": [\"Czech\", \"Estonian\", \"Maltese\", \"Mandarin\"], \"sample\": \"01f51995ae86ff85e899d40768ab81a8\", \"date\": \"2013-08-19\"}\n",
      "{\"guess\": \"Estonian\", \"target\": \"Estonian\", \"country\": \"AU\", \"choices\": [\"Estonian\", \"Fijian\", \"Khmer\", \"Urdu\"], \"sample\": \"b7e986bd3a0d5fd1db661e3bedf36111\", \"date\": \"2013-08-19\"}\n",
      "{\"guess\": \"Serbian\", \"target\": \"Armenian\", \"country\": \"AU\", \"choices\": [\"Armenian\", \"Dutch\", \"Serbian\", \"Yiddish\"], \"sample\": \"d34689ff8c3532426256b0963d7df2bb\", \"date\": \"2013-08-19\"}\n",
      "{\"guess\": \"Indonesian\", \"target\": \"Indonesian\", \"country\": \"AU\", \"choices\": [\"French\", \"Indonesian\", \"Macedonian\", \"Romanian\"], \"sample\": \"ff8fcb796b7fdc540dd567c144024f82\", \"date\": \"2013-08-19\"}\n",
      "{\"guess\": \"Sinhalese\", \"target\": \"Sinhalese\", \"country\": \"AU\", \"choices\": [\"Latvian\", \"Mandarin\", \"Sinhalese\", \"Urdu\"], \"sample\": \"755de9092b301614712fae5e1d2d47d3\", \"date\": \"2013-08-19\"}\n",
      "{\"guess\": \"Bangla\", \"target\": \"Bangla\", \"country\": \"AU\", \"choices\": [\"Assyrian\", \"Bangla\", \"Danish\", \"Yiddish\"], \"sample\": \"b2132278200e1e601b6814a15fdabcc1\", \"date\": \"2013-08-19\"}\n",
      "{\"guess\": \"Spanish\", \"target\": \"Spanish\", \"country\": \"AU\", \"choices\": [\"Albanian\", \"Dinka\", \"Spanish\", \"Thai\"], \"sample\": \"c8f4f097079404bf9a0e94d604efd1d5\", \"date\": \"2013-08-19\"}\n",
      "{\"guess\": \"Italian\", \"target\": \"Italian\", \"country\": \"AU\", \"choices\": [\"Estonian\", \"Tagalog\", \"Italian\", \"Malayalam\"], \"sample\": \"88f3e5120091cffdf8abeb92b5da90a2\", \"date\": \"2013-08-19\"}\n",
      "{\"guess\": \"Arabic\", \"target\": \"Arabic\", \"country\": \"AU\", \"choices\": [\"Arabic\", \"Bulgarian\", \"Latvian\", \"Urdu\"], \"sample\": \"8903e496bf04c3a85a70e1dc5e0da5f1\", \"date\": \"2013-08-19\"}\n",
      "{\"guess\": \"Punjabi\", \"target\": \"Punjabi\", \"country\": \"AU\", \"choices\": [\"Armenian\", \"Punjabi\", \"Serbian\", \"Tongan\"], \"sample\": \"10ff356faf50696b30f8a58b9dd919b2\", \"date\": \"2013-08-19\"}\n",
      "{\"guess\": \"Hindi\", \"target\": \"Hindi\", \"country\": \"AU\", \"choices\": [\"Arabic\", \"Bulgarian\", \"Hindi\", \"Spanish\"], \"sample\": \"568bfed6715c43735f95faef578d7cd5\", \"date\": \"2013-08-19\"}\n",
      "{\"guess\": \"Dari\", \"target\": \"Dari\", \"country\": \"AU\", \"choices\": [\"Assyrian\", \"Dari\", \"Kannada\", \"Tamil\"], \"sample\": \"cad47cd466a2d8c25fa7a21c15cbb3cf\", \"date\": \"2013-08-19\"}\n",
      "{\"guess\": \"Tongan\", \"target\": \"Tongan\", \"country\": \"AU\", \"choices\": [\"Armenian\", \"Danish\", \"Khmer\", \"Tongan\"], \"sample\": \"838cfe7f928e1a41710e01b3ee12088f\", \"date\": \"2013-08-19\"}\n",
      "{\"guess\": \"Khmer\", \"target\": \"Khmer\", \"country\": \"AU\", \"choices\": [\"Dinka\", \"Italian\", \"Khmer\", \"Samoan\"], \"sample\": \"714795c596ef0639a385fe620d2c42ab\", \"date\": \"2013-08-19\"}\n",
      "{\"guess\": \"Romanian\", \"target\": \"Romanian\", \"country\": \"AU\", \"choices\": [\"Amharic\", \"Fijian\", \"Hindi\", \"Romanian\"], \"sample\": \"903fc45cba5245f21deaaca3966f825b\", \"date\": \"2013-08-19\"}\n",
      "{\"guess\": \"Malay\", \"target\": \"Malay\", \"country\": \"AU\", \"choices\": [\"Bosnian\", \"Cantonese\", \"Greek\", \"Malay\"], \"sample\": \"610d45322ed5aa122cf9b4a79d603781\", \"date\": \"2013-08-19\"}\n",
      "{\"guess\": \"Bangla\", \"target\": \"Bangla\", \"country\": \"AU\", \"choices\": [\"Bangla\", \"Burmese\", \"Dari\", \"Portuguese\"], \"sample\": \"b2132278200e1e601b6814a15fdabcc1\", \"date\": \"2013-08-19\"}\n",
      "{\"guess\": \"Hindi\", \"target\": \"Hindi\", \"country\": \"AU\", \"choices\": [\"Albanian\", \"Croatian\", \"Hindi\", \"Maltese\"], \"sample\": \"9dac641f173f2a225501e8e50fc4e66e\", \"date\": \"2013-08-19\"}\n",
      "{\"guess\": \"Romanian\", \"target\": \"Romanian\", \"country\": \"AU\", \"choices\": [\"Romanian\", \"Tamil\", \"Tongan\", \"Turkish\"], \"sample\": \"6560ff4ce0b53a1b0bad2e7734f52381\", \"date\": \"2013-08-19\"}\n",
      "{\"guess\": \"Lao\", \"target\": \"Lao\", \"country\": \"AU\", \"choices\": [\"French\", \"Lao\", \"Malay\", \"Portuguese\"], \"sample\": \"4cf041f244960196b98c7d6ae8c79ed3\", \"date\": \"2013-08-19\"}\n",
      "{\"guess\": \"Vietnamese\", \"target\": \"Vietnamese\", \"country\": \"AU\", \"choices\": [\"Hungarian\", \"Japanese\", \"Slovenian\", \"Vietnamese\"], \"sample\": \"8ea6892d1ddca321adc07b05176e3605\", \"date\": \"2013-08-19\"}\n",
      "{\"guess\": \"Tagalog\", \"target\": \"Tagalog\", \"country\": \"AU\", \"choices\": [\"Tagalog\", \"Lao\", \"Slovak\", \"Ukrainian\"], \"sample\": \"34df5eca0db3967da23f8a210337c9d6\", \"date\": \"2013-08-19\"}\n",
      "{\"guess\": \"Hungarian\", \"target\": \"Danish\", \"country\": \"AU\", \"choices\": [\"Danish\", \"Hungarian\", \"Korean\", \"Samoan\"], \"sample\": \"5fdcb0979e1c546ea05d7bd780bd4bc3\", \"date\": \"2013-08-19\"}\n",
      "{\"guess\": \"Polish\", \"target\": \"Slovenian\", \"country\": \"AU\", \"choices\": [\"Greek\", \"Korean\", \"Polish\", \"Slovenian\"], \"sample\": \"f2f07eb5c50e64c627f66566b3c7cc4a\", \"date\": \"2013-08-19\"}\n",
      "{\"guess\": \"Kannada\", \"target\": \"Kannada\", \"country\": \"AU\", \"choices\": [\"Arabic\", \"Bosnian\", \"Kannada\", \"Thai\"], \"sample\": \"cf08af2ccb8382aa6c624095ec4f93fb\", \"date\": \"2013-08-19\"}\n",
      "{\"guess\": \"Spanish\", \"target\": \"Spanish\", \"country\": \"AU\", \"choices\": [\"Maori\", \"Dari\", \"Korean\", \"Spanish\"], \"sample\": \"c8f4f097079404bf9a0e94d604efd1d5\", \"date\": \"2013-08-19\"}\n",
      "{\"guess\": \"Urdu\", \"target\": \"Armenian\", \"country\": \"AU\", \"choices\": [\"Armenian\", \"Hebrew\", \"Italian\", \"Urdu\"], \"sample\": \"b46fa4a310d337db8f055083c68ba863\", \"date\": \"2013-08-19\"}\n",
      "{\"guess\": \"Tagalog\", \"target\": \"Tongan\", \"country\": \"AU\", \"choices\": [\"Assyrian\", \"Tagalog\", \"Tongan\", \"Urdu\"], \"sample\": \"6ba74243165c6e7fb5255890b18f8807\", \"date\": \"2013-08-19\"}\n",
      "{\"guess\": \"Farsi\", \"target\": \"Farsi\", \"country\": \"AU\", \"choices\": [\"Korean\", \"Nepali\", \"Farsi\", \"Tongan\"], \"sample\": \"d7a4029f42521d56af05c9f947a516c1\", \"date\": \"2013-08-19\"}\n",
      "{\"guess\": \"Indonesian\", \"target\": \"Indonesian\", \"country\": \"AU\", \"choices\": [\"Croatian\", \"Indonesian\", \"Italian\", \"Japanese\"], \"sample\": \"ff8fcb796b7fdc540dd567c144024f82\", \"date\": \"2013-08-19\"}\n",
      "{\"guess\": \"Japanese\", \"target\": \"Japanese\", \"country\": \"AU\", \"choices\": [\"Japanese\", \"Malayalam\", \"Slovak\", \"Vietnamese\"], \"sample\": \"3569611136ea04bab18a0cd605ced358\", \"date\": \"2013-08-19\"}\n",
      "{\"guess\": \"Spanish\", \"target\": \"Spanish\", \"country\": \"AU\", \"choices\": [\"Arabic\", \"Dutch\", \"Spanish\", \"Yiddish\"], \"sample\": \"dc3ace49393de518e87d4f8d3ae8d9db\", \"date\": \"2013-08-19\"}\n",
      "{\"guess\": \"Khmer\", \"target\": \"Lao\", \"country\": \"AU\", \"choices\": [\"Assyrian\", \"Khmer\", \"Lao\", \"Punjabi\"], \"sample\": \"b5aa4ea31e44899dc4d58d4a35e05504\", \"date\": \"2013-08-19\"}\n",
      "{\"guess\": \"Spanish\", \"target\": \"Spanish\", \"country\": \"AU\", \"choices\": [\"Czech\", \"Indonesian\", \"Kurdish\", \"Spanish\"], \"sample\": \"dc3ace49393de518e87d4f8d3ae8d9db\", \"date\": \"2013-08-19\"}\n",
      "{\"guess\": \"Burmese\", \"target\": \"Fijian\", \"country\": \"AU\", \"choices\": [\"Burmese\", \"Fijian\", \"Kurdish\", \"Maltese\"], \"sample\": \"f53c7596c141ee6d5d2b3ab90361f802\", \"date\": \"2013-08-19\"}\n",
      "{\"guess\": \"Ukrainian\", \"target\": \"Ukrainian\", \"country\": \"AU\", \"choices\": [\"Czech\", \"Korean\", \"Lao\", \"Ukrainian\"], \"sample\": \"6d86f6da48a5d151593317f64da0421f\", \"date\": \"2013-08-19\"}\n",
      "{\"guess\": \"Indonesian\", \"target\": \"Indonesian\", \"country\": \"AU\", \"choices\": [\"Indonesian\", \"Macedonian\", \"Swedish\", \"Vietnamese\"], \"sample\": \"ff8fcb796b7fdc540dd567c144024f82\", \"date\": \"2013-08-19\"}\n",
      "{\"guess\": \"Farsi\", \"target\": \"Urdu\", \"country\": \"AU\", \"choices\": [\"Korean\", \"Latvian\", \"Farsi\", \"Urdu\"], \"sample\": \"3520fdcdf2658685928fc37e72ab2134\", \"date\": \"2013-08-19\"}\n",
      "{\"guess\": \"Italian\", \"target\": \"Greek\", \"country\": \"AU\", \"choices\": [\"Greek\", \"Italian\", \"Samoan\", \"Slovenian\"], \"sample\": \"0f43daadf6a1ce6d769fa0daa630b5f6\", \"date\": \"2013-08-19\"}\n",
      "{\"guess\": \"Mandarin\", \"target\": \"Mandarin\", \"country\": \"AU\", \"choices\": [\"Kannada\", \"Mandarin\", \"Somali\", \"Spanish\"], \"sample\": \"01f51995ae86ff85e899d40768ab81a8\", \"date\": \"2013-08-19\"}\n",
      "{\"guess\": \"Vietnamese\", \"target\": \"Vietnamese\", \"country\": \"AU\", \"choices\": [\"Hindi\", \"Romanian\", \"Tigrinya\", \"Vietnamese\"], \"sample\": \"3aab36435babaea46064d7f173bb0ba3\", \"date\": \"2013-08-19\"}\n",
      "{\"guess\": \"Polish\", \"target\": \"Maori\", \"country\": \"AU\", \"choices\": [\"Bangla\", \"Maori\", \"Indonesian\", \"Polish\"], \"sample\": \"1e94210c21a6af48b9c418a7d6380a1c\", \"date\": \"2013-08-19\"}\n",
      "{\"guess\": \"Hebrew\", \"target\": \"Hebrew\", \"country\": \"AU\", \"choices\": [\"Dari\", \"German\", \"Hebrew\", \"Italian\"], \"sample\": \"830854fd9c28424c604eaef2e97e61b3\", \"date\": \"2013-08-19\"}\n",
      "{\"guess\": \"Vietnamese\", \"target\": \"Vietnamese\", \"country\": \"AU\", \"choices\": [\"Bosnian\", \"Gujarati\", \"Spanish\", \"Vietnamese\"], \"sample\": \"3aab36435babaea46064d7f173bb0ba3\", \"date\": \"2013-08-19\"}\n",
      "{\"guess\": \"Russian\", \"target\": \"Russian\", \"country\": \"AU\", \"choices\": [\"Arabic\", \"Estonian\", \"Greek\", \"Russian\"], \"sample\": \"8a59d48e99e8a1df7e366c4648095e27\", \"date\": \"2013-08-19\"}\n",
      "{\"guess\": \"Punjabi\", \"target\": \"Hindi\", \"country\": \"AU\", \"choices\": [\"Amharic\", \"Bangla\", \"Hindi\", \"Punjabi\"], \"sample\": \"9dac641f173f2a225501e8e50fc4e66e\", \"date\": \"2013-08-19\"}\n",
      "{\"guess\": \"Spanish\", \"target\": \"Spanish\", \"country\": \"AU\", \"choices\": [\"Assyrian\", \"Tagalog\", \"Spanish\", \"Swedish\"], \"sample\": \"c8f4f097079404bf9a0e94d604efd1d5\", \"date\": \"2013-08-19\"}\n",
      "{\"guess\": \"Hebrew\", \"target\": \"Hebrew\", \"country\": \"AU\", \"choices\": [\"Estonian\", \"Hebrew\", \"Malayalam\", \"Swahili\"], \"sample\": \"830854fd9c28424c604eaef2e97e61b3\", \"date\": \"2013-08-19\"}\n",
      "{\"guess\": \"Arabic\", \"target\": \"Arabic\", \"country\": \"AU\", \"choices\": [\"Arabic\", \"Croatian\", \"Malay\", \"Serbian\"], \"sample\": \"8903e496bf04c3a85a70e1dc5e0da5f1\", \"date\": \"2013-08-19\"}\n",
      "{\"guess\": \"German\", \"target\": \"German\", \"country\": \"AU\", \"choices\": [\"Dinka\", \"German\", \"Hungarian\", \"Kurdish\"], \"sample\": \"78213fa858b9a45d83121a8bf71712d1\", \"date\": \"2013-08-19\"}\n",
      "{\"guess\": \"Urdu\", \"target\": \"Maltese\", \"country\": \"AU\", \"choices\": [\"Latvian\", \"Maltese\", \"Thai\", \"Urdu\"], \"sample\": \"36d2f4e9173e2d4cad8b8594310c856b\", \"date\": \"2013-08-19\"}\n",
      "{\"guess\": \"Gujarati\", \"target\": \"Gujarati\", \"country\": \"AU\", \"choices\": [\"Gujarati\", \"Sinhalese\", \"Slovenian\", \"Turkish\"], \"sample\": \"16d80eee6659268a90460422dd2a2896\", \"date\": \"2013-08-19\"}\n",
      "{\"guess\": \"Urdu\", \"target\": \"Yiddish\", \"country\": \"AU\", \"choices\": [\"Maori\", \"Finnish\", \"Urdu\", \"Yiddish\"], \"sample\": \"491ce6f2acb4a588a4e6ff3570d429a5\", \"date\": \"2013-08-19\"}\n",
      "{\"guess\": \"Mandarin\", \"target\": \"Mandarin\", \"country\": \"AU\", \"choices\": [\"Assyrian\", \"Bosnian\", \"Mandarin\", \"Yiddish\"], \"sample\": \"fc3712715ddc748286256eb7a64f25ab\", \"date\": \"2013-08-19\"}\n",
      "{\"guess\": \"Spanish\", \"target\": \"Spanish\", \"country\": \"AU\", \"choices\": [\"Italian\", \"Macedonian\", \"Punjabi\", \"Spanish\"], \"sample\": \"d8d9dfa02ff280d107d54fd8f19ab5bb\", \"date\": \"2013-08-19\"}\n",
      "{\"guess\": \"Danish\", \"target\": \"Danish\", \"country\": \"AU\", \"choices\": [\"Maori\", \"Danish\", \"Hebrew\", \"Punjabi\"], \"sample\": \"5fdcb0979e1c546ea05d7bd780bd4bc3\", \"date\": \"2013-08-19\"}\n",
      "{\"guess\": \"Serbian\", \"target\": \"Macedonian\", \"country\": \"AU\", \"choices\": [\"Khmer\", \"Macedonian\", \"Serbian\", \"Ukrainian\"], \"sample\": \"968e9c700742f65c43ad3cb99209e787\", \"date\": \"2013-08-19\"}\n",
      "{\"guess\": \"Greek\", \"target\": \"Greek\", \"country\": \"AU\", \"choices\": [\"Arabic\", \"Bangla\", \"Danish\", \"Greek\"], \"sample\": \"17527de743e8a5b5c339fb8ff117f65b\", \"date\": \"2013-08-19\"}\n",
      "{\"guess\": \"Sinhalese\", \"target\": \"Sinhalese\", \"country\": \"AU\", \"choices\": [\"Maori\", \"Gujarati\", \"Punjabi\", \"Sinhalese\"], \"sample\": \"755de9092b301614712fae5e1d2d47d3\", \"date\": \"2013-08-19\"}\n",
      "{\"guess\": \"Bosnian\", \"target\": \"Maltese\", \"country\": \"AU\", \"choices\": [\"Bosnian\", \"Hungarian\", \"Japanese\", \"Maltese\"], \"sample\": \"589feca2e2009ad2e63458f17568cd13\", \"date\": \"2013-08-19\"}\n",
      "{\"guess\": \"Mandarin\", \"target\": \"Mandarin\", \"country\": \"AU\", \"choices\": [\"Greek\", \"Gujarati\", \"Mandarin\", \"Slovenian\"], \"sample\": \"01f51995ae86ff85e899d40768ab81a8\", \"date\": \"2013-08-19\"}\n",
      "{\"guess\": \"Tamil\", \"target\": \"Tamil\", \"country\": \"AU\", \"choices\": [\"Czech\", \"Somali\", \"Tamil\", \"Turkish\"], \"sample\": \"cc305dcad696147e28c6f36615aa0952\", \"date\": \"2013-08-19\"}\n",
      "{\"guess\": \"Portuguese\", \"target\": \"Portuguese\", \"country\": \"AU\", \"choices\": [\"Bosnian\", \"Latvian\", \"Portuguese\", \"Sinhalese\"], \"sample\": \"439672210d1feb96e012590ff2a73590\", \"date\": \"2013-08-19\"}\n",
      "{\"guess\": \"Tongan\", \"target\": \"Tongan\", \"country\": \"AU\", \"choices\": [\"Italian\", \"Lao\", \"Farsi\", \"Tongan\"], \"sample\": \"838cfe7f928e1a41710e01b3ee12088f\", \"date\": \"2013-08-19\"}\n",
      "{\"guess\": \"Slovenian\", \"target\": \"Albanian\", \"country\": \"AU\", \"choices\": [\"Albanian\", \"German\", \"Slovenian\", \"Swahili\"], \"sample\": \"efcd813daec1c836d9f030b30caa07ce\", \"date\": \"2013-08-19\"}\n",
      "{\"guess\": \"Gujarati\", \"target\": \"Gujarati\", \"country\": \"AU\", \"choices\": [\"Gujarati\", \"Hebrew\", \"Somali\", \"Yiddish\"], \"sample\": \"16d80eee6659268a90460422dd2a2896\", \"date\": \"2013-08-19\"}\n",
      "{\"guess\": \"Czech\", \"target\": \"Swedish\", \"country\": \"AU\", \"choices\": [\"Czech\", \"Farsi\", \"Russian\", \"Swedish\"], \"sample\": \"dfe8192c1bbd80b44ea4409d9889dc90\", \"date\": \"2013-08-19\"}\n",
      "{\"guess\": \"Kannada\", \"target\": \"Farsi\", \"country\": \"AU\", \"choices\": [\"Hindi\", \"Kannada\", \"Farsi\", \"Turkish\"], \"sample\": \"70154ea13cf1c633cfe62d44919a347c\", \"date\": \"2013-08-19\"}\n",
      "{\"guess\": \"Khmer\", \"target\": \"Khmer\", \"country\": \"AU\", \"choices\": [\"Bangla\", \"Estonian\", \"Italian\", \"Khmer\"], \"sample\": \"714795c596ef0639a385fe620d2c42ab\", \"date\": \"2013-08-19\"}\n",
      "{\"guess\": \"German\", \"target\": \"Danish\", \"country\": \"AU\", \"choices\": [\"Danish\", \"German\", \"Russian\", \"Turkish\"], \"sample\": \"5fdcb0979e1c546ea05d7bd780bd4bc3\", \"date\": \"2013-08-19\"}\n",
      "{\"guess\": \"Korean\", \"target\": \"Korean\", \"country\": \"AU\", \"choices\": [\"Assyrian\", \"Korean\", \"Serbian\", \"Somali\"], \"sample\": \"ec371adb75ab6c7431adae3ef8fc9fc9\", \"date\": \"2013-08-19\"}\n",
      "{\"guess\": \"Fijian\", \"target\": \"Fijian\", \"country\": \"AU\", \"choices\": [\"Cantonese\", \"Fijian\", \"Slovak\", \"Somali\"], \"sample\": \"93b8857d01978401e679f0bde0a7b5b0\", \"date\": \"2013-08-19\"}\n",
      "{\"guess\": \"Portuguese\", \"target\": \"Portuguese\", \"country\": \"AU\", \"choices\": [\"Tagalog\", \"Maltese\", \"Portuguese\", \"Sinhalese\"], \"sample\": \"439672210d1feb96e012590ff2a73590\", \"date\": \"2013-08-19\"}\n",
      "{\"guess\": \"Japanese\", \"target\": \"Japanese\", \"country\": \"AU\", \"choices\": [\"Bulgarian\", \"French\", \"Japanese\", \"Punjabi\"], \"sample\": \"3569611136ea04bab18a0cd605ced358\", \"date\": \"2013-08-19\"}\n",
      "{\"guess\": \"Khmer\", \"target\": \"Khmer\", \"country\": \"AU\", \"choices\": [\"Bangla\", \"Khmer\", \"Kurdish\", \"Latvian\"], \"sample\": \"84f7df7508e423234fd1adec4f84e528\", \"date\": \"2013-08-19\"}\n",
      "{\"guess\": \"Estonian\", \"target\": \"Dutch\", \"country\": \"AU\", \"choices\": [\"Dutch\", \"Estonian\", \"Hungarian\", \"Swedish\"], \"sample\": \"bf0f1eec2e9f147aba20ea9b3e9564bb\", \"date\": \"2013-08-19\"}\n",
      "{\"guess\": \"Spanish\", \"target\": \"Spanish\", \"country\": \"AU\", \"choices\": [\"Dinka\", \"Hungarian\", \"Spanish\", \"Thai\"], \"sample\": \"dc3ace49393de518e87d4f8d3ae8d9db\", \"date\": \"2013-08-19\"}\n",
      "{\"guess\": \"Cantonese\", \"target\": \"Cantonese\", \"country\": \"AU\", \"choices\": [\"Bangla\", \"Cantonese\", \"Malay\", \"Somali\"], \"sample\": \"78e21624c41e6efc3ac790735180615d\", \"date\": \"2013-08-19\"}\n",
      "{\"guess\": \"Turkish\", \"target\": \"Latvian\", \"country\": \"AU\", \"choices\": [\"Cantonese\", \"Latvian\", \"Tamil\", \"Turkish\"], \"sample\": \"447bcafdbe5d7d69e0db72ab5bfa043a\", \"date\": \"2013-08-19\"}\n",
      "{\"guess\": \"Bulgarian\", \"target\": \"Bulgarian\", \"country\": \"AU\", \"choices\": [\"Assyrian\", \"Bulgarian\", \"Indonesian\", \"Khmer\"], \"sample\": \"69a5c674fe40942aaae4d10c9df46ee0\", \"date\": \"2013-08-19\"}\n",
      "{\"guess\": \"Polish\", \"target\": \"Polish\", \"country\": \"AU\", \"choices\": [\"Italian\", \"Korean\", \"Latvian\", \"Polish\"], \"sample\": \"98890a26d68bcf75f6087566971f126f\", \"date\": \"2013-08-19\"}\n",
      "{\"guess\": \"Farsi\", \"target\": \"Slovak\", \"country\": \"AU\", \"choices\": [\"Amharic\", \"Maltese\", \"Farsi\", \"Slovak\"], \"sample\": \"2c5efbd7364036976ec403a9ee36f614\", \"date\": \"2013-08-19\"}\n",
      "{\"guess\": \"Latvian\", \"target\": \"Latvian\", \"country\": \"AU\", \"choices\": [\"Bulgarian\", \"Maori\", \"Latvian\", \"Russian\"], \"sample\": \"447bcafdbe5d7d69e0db72ab5bfa043a\", \"date\": \"2013-08-19\"}\n",
      "{\"guess\": \"Malay\", \"target\": \"Malay\", \"country\": \"AU\", \"choices\": [\"Albanian\", \"Amharic\", \"Malay\", \"Tongan\"], \"sample\": \"6650448a5456ba88ea0971f2265f2bc7\", \"date\": \"2013-08-19\"}\n",
      "{\"guess\": \"Khmer\", \"target\": \"Khmer\", \"country\": \"AU\", \"choices\": [\"Dinka\", \"Khmer\", \"Polish\", \"Urdu\"], \"sample\": \"84f7df7508e423234fd1adec4f84e528\", \"date\": \"2013-08-19\"}\n",
      "{\"guess\": \"Farsi\", \"target\": \"Armenian\", \"country\": \"AU\", \"choices\": [\"Armenian\", \"Dinka\", \"Farsi\", \"Portuguese\"], \"sample\": \"e4588d7c735b9a87d93ada6d24a7bd53\", \"date\": \"2013-08-19\"}\n",
      "{\"guess\": \"Romanian\", \"target\": \"Romanian\", \"country\": \"AU\", \"choices\": [\"Tagalog\", \"French\", \"Hebrew\", \"Romanian\"], \"sample\": \"6560ff4ce0b53a1b0bad2e7734f52381\", \"date\": \"2013-08-19\"}\n",
      "{\"guess\": \"Burmese\", \"target\": \"Dinka\", \"country\": \"AU\", \"choices\": [\"Burmese\", \"Dinka\", \"Greek\", \"Indonesian\"], \"sample\": \"192e7c59bb734ee762a323219846295b\", \"date\": \"2013-08-19\"}\n",
      "{\"guess\": \"Gujarati\", \"target\": \"Gujarati\", \"country\": \"AU\", \"choices\": [\"Cantonese\", \"Gujarati\", \"Italian\", \"Sinhalese\"], \"sample\": \"56ecf19cff578aa76b81edb580ff343f\", \"date\": \"2013-08-19\"}\n",
      "{\"guess\": \"Mandarin\", \"target\": \"Mandarin\", \"country\": \"AU\", \"choices\": [\"Armenian\", \"Finnish\", \"Italian\", \"Mandarin\"], \"sample\": \"fc3712715ddc748286256eb7a64f25ab\", \"date\": \"2013-08-19\"}\n",
      "{\"guess\": \"Japanese\", \"target\": \"Japanese\", \"country\": \"AU\", \"choices\": [\"Japanese\", \"Sinhalese\", \"Swahili\", \"Vietnamese\"], \"sample\": \"3569611136ea04bab18a0cd605ced358\", \"date\": \"2013-08-19\"}\n",
      "{\"guess\": \"Tongan\", \"target\": \"Tongan\", \"country\": \"AU\", \"choices\": [\"Dinka\", \"Samoan\", \"Somali\", \"Tongan\"], \"sample\": \"838cfe7f928e1a41710e01b3ee12088f\", \"date\": \"2013-08-19\"}\n",
      "{\"guess\": \"Nepali\", \"target\": \"Nepali\", \"country\": \"AU\", \"choices\": [\"Bulgarian\", \"Mandarin\", \"Nepali\", \"Tamil\"], \"sample\": \"faa86f6efaf2ee67f95239685d26fd88\", \"date\": \"2013-08-19\"}\n",
      "{\"guess\": \"Estonian\", \"target\": \"Maori\", \"country\": \"AU\", \"choices\": [\"Maori\", \"Estonian\", \"Nepali\", \"Portuguese\"], \"sample\": \"1e94210c21a6af48b9c418a7d6380a1c\", \"date\": \"2013-08-19\"}\n",
      "{\"guess\": \"Latvian\", \"target\": \"Sinhalese\", \"country\": \"AU\", \"choices\": [\"Danish\", \"Latvian\", \"Norwegian\", \"Sinhalese\"], \"sample\": \"c4d4db8bf910cf4350fc87b3f3667976\", \"date\": \"2013-08-19\"}\n",
      "{\"guess\": \"Nepali\", \"target\": \"Nepali\", \"country\": \"AU\", \"choices\": [\"Indonesian\", \"Nepali\", \"Sinhalese\", \"Turkish\"], \"sample\": \"e178a0abbbb171d9b785d8350a45f203\", \"date\": \"2013-08-19\"}\n",
      "{\"guess\": \"Norwegian\", \"target\": \"Norwegian\", \"country\": \"AU\", \"choices\": [\"Dutch\", \"Hindi\", \"Lao\", \"Norwegian\"], \"sample\": \"48f9c924e0d98c959d8a6f1862b3ce9a\", \"date\": \"2013-08-20\"}\n",
      "{\"guess\": \"Hebrew\", \"target\": \"Hebrew\", \"country\": \"AU\", \"choices\": [\"Finnish\", \"Hebrew\", \"Malay\", \"Urdu\"], \"sample\": \"1dc9a1bf90e4e788906dc716dc18d878\", \"date\": \"2013-08-20\"}\n",
      "{\"guess\": \"Ukrainian\", \"target\": \"Ukrainian\", \"country\": \"AU\", \"choices\": [\"Dutch\", \"Finnish\", \"Ukrainian\", \"Yiddish\"], \"sample\": \"064ca74dff16ce8dade4a7acdc0def8a\", \"date\": \"2013-08-20\"}\n",
      "{\"guess\": \"Vietnamese\", \"target\": \"Vietnamese\", \"country\": \"AU\", \"choices\": [\"Arabic\", \"Korean\", \"Punjabi\", \"Vietnamese\"], \"sample\": \"8ea6892d1ddca321adc07b05176e3605\", \"date\": \"2013-08-20\"}\n",
      "{\"guess\": \"Dutch\", \"target\": \"Dutch\", \"country\": \"AU\", \"choices\": [\"Dutch\", \"French\", \"Kannada\", \"Serbian\"], \"sample\": \"bf0f1eec2e9f147aba20ea9b3e9564bb\", \"date\": \"2013-08-20\"}\n",
      "{\"guess\": \"Portuguese\", \"target\": \"Portuguese\", \"country\": \"AU\", \"choices\": [\"Cantonese\", \"Polish\", \"Portuguese\", \"Punjabi\"], \"sample\": \"5fd851c9e87a6b9b9da9eb2ab0de6686\", \"date\": \"2013-08-20\"}\n",
      "{\"guess\": \"Dari\", \"target\": \"Serbian\", \"country\": \"AU\", \"choices\": [\"Dari\", \"Serbian\", \"Sinhalese\", \"Vietnamese\"], \"sample\": \"0d5b697ebb326b5043ce7fa60a7b968d\", \"date\": \"2013-08-20\"}\n",
      "{\"guess\": \"Nepali\", \"target\": \"Nepali\", \"country\": \"AU\", \"choices\": [\"French\", \"Kannada\", \"Nepali\", \"Sinhalese\"], \"sample\": \"e178a0abbbb171d9b785d8350a45f203\", \"date\": \"2013-08-20\"}\n",
      "{\"guess\": \"Czech\", \"target\": \"Czech\", \"country\": \"AU\", \"choices\": [\"Amharic\", \"Czech\", \"Korean\", \"Macedonian\"], \"sample\": \"9769bab1b0b25eb730c704ef42a3e7a6\", \"date\": \"2013-08-20\"}\n",
      "{\"guess\": \"Kurdish\", \"target\": \"Kurdish\", \"country\": \"AU\", \"choices\": [\"Kannada\", \"Kurdish\", \"Latvian\", \"Tongan\"], \"sample\": \"8df0a7cae5bb52d889fdbab7def4b5aa\", \"date\": \"2013-08-20\"}\n",
      "{\"guess\": \"Czech\", \"target\": \"Czech\", \"country\": \"AU\", \"choices\": [\"Maori\", \"Czech\", \"Kurdish\", \"Tongan\"], \"sample\": \"1787b5c79a00b3513ce76847bc1f5b75\", \"date\": \"2013-08-20\"}\n",
      "{\"guess\": \"Latvian\", \"target\": \"Latvian\", \"country\": \"AU\", \"choices\": [\"Tagalog\", \"French\", \"Latvian\", \"Slovenian\"], \"sample\": \"447bcafdbe5d7d69e0db72ab5bfa043a\", \"date\": \"2013-08-20\"}\n",
      "{\"guess\": \"Swedish\", \"target\": \"Swedish\", \"country\": \"AU\", \"choices\": [\"Lao\", \"Maltese\", \"Swedish\", \"Ukrainian\"], \"sample\": \"dfe8192c1bbd80b44ea4409d9889dc90\", \"date\": \"2013-08-20\"}\n",
      "{\"guess\": \"Khmer\", \"target\": \"Burmese\", \"country\": \"AU\", \"choices\": [\"Assyrian\", \"Burmese\", \"Khmer\", \"Russian\"], \"sample\": \"31cba304794d1828c93d7b3c63aa840a\", \"date\": \"2013-08-20\"}\n",
      "{\"guess\": \"Malay\", \"target\": \"Japanese\", \"country\": \"AU\", \"choices\": [\"Japanese\", \"Malay\", \"Maltese\", \"Ukrainian\"], \"sample\": \"3569611136ea04bab18a0cd605ced358\", \"date\": \"2013-08-20\"}\n",
      "{\"guess\": \"Amharic\", \"target\": \"Maori\", \"country\": \"AU\", \"choices\": [\"Amharic\", \"Maori\", \"German\", \"Kannada\"], \"sample\": \"1e94210c21a6af48b9c418a7d6380a1c\", \"date\": \"2013-08-20\"}\n",
      "{\"guess\": \"Turkish\", \"target\": \"Turkish\", \"country\": \"AU\", \"choices\": [\"Finnish\", \"Somali\", \"Turkish\", \"Urdu\"], \"sample\": \"752c4c30d475748a342c68ebfba24d1e\", \"date\": \"2013-08-20\"}\n",
      "{\"guess\": \"Somali\", \"target\": \"Fijian\", \"country\": \"AU\", \"choices\": [\"Burmese\", \"Czech\", \"Fijian\", \"Somali\"], \"sample\": \"93b8857d01978401e679f0bde0a7b5b0\", \"date\": \"2013-08-20\"}\n",
      "{\"guess\": \"Tamil\", \"target\": \"Sinhalese\", \"country\": \"AU\", \"choices\": [\"Gujarati\", \"Norwegian\", \"Sinhalese\", \"Tamil\"], \"sample\": \"755de9092b301614712fae5e1d2d47d3\", \"date\": \"2013-08-20\"}\n",
      "{\"guess\": \"Nepali\", \"target\": \"Cantonese\", \"country\": \"AU\", \"choices\": [\"Cantonese\", \"Dari\", \"Nepali\", \"Spanish\"], \"sample\": \"da6ed723fe60684a231c3e22a42610a7\", \"date\": \"2013-08-20\"}\n",
      "{\"guess\": \"Arabic\", \"target\": \"Arabic\", \"country\": \"AU\", \"choices\": [\"Arabic\", \"Cantonese\", \"Maltese\", \"Samoan\"], \"sample\": \"83c6ffcb085ce9c18c0e2aff00dda865\", \"date\": \"2013-08-20\"}\n",
      "{\"guess\": \"Amharic\", \"target\": \"Amharic\", \"country\": \"AU\", \"choices\": [\"Amharic\", \"Cantonese\", \"Fijian\", \"Kurdish\"], \"sample\": \"50a52cc16828c9cd27b9c26c75974e6d\", \"date\": \"2013-08-20\"}\n",
      "{\"guess\": \"Hungarian\", \"target\": \"Latvian\", \"country\": \"AU\", \"choices\": [\"Tagalog\", \"Hebrew\", \"Hungarian\", \"Latvian\"], \"sample\": \"5e609abac81edbf76a58bc1d2a850f12\", \"date\": \"2013-08-20\"}\n",
      "{\"guess\": \"Gujarati\", \"target\": \"Sinhalese\", \"country\": \"AU\", \"choices\": [\"Tagalog\", \"Gujarati\", \"Portuguese\", \"Sinhalese\"], \"sample\": \"650061b92e1bf9fc20bc9757f333ddbb\", \"date\": \"2013-08-20\"}\n",
      "{\"guess\": \"Gujarati\", \"target\": \"Latvian\", \"country\": \"AU\", \"choices\": [\"Gujarati\", \"Latvian\", \"Russian\", \"Tamil\"], \"sample\": \"447bcafdbe5d7d69e0db72ab5bfa043a\", \"date\": \"2013-08-20\"}\n",
      "{\"guess\": \"Spanish\", \"target\": \"Spanish\", \"country\": \"AU\", \"choices\": [\"Dari\", \"Tagalog\", \"Slovenian\", \"Spanish\"], \"sample\": \"dc3ace49393de518e87d4f8d3ae8d9db\", \"date\": \"2013-08-20\"}\n",
      "{\"guess\": \"Farsi\", \"target\": \"Farsi\", \"country\": \"AU\", \"choices\": [\"Czech\", \"Dinka\", \"Farsi\", \"Somali\"], \"sample\": \"c73ee42a45debb00fbcc86eb29682757\", \"date\": \"2013-08-20\"}\n",
      "{\"guess\": \"Nepali\", \"target\": \"Nepali\", \"country\": \"AU\", \"choices\": [\"Bosnian\", \"Estonian\", \"Kurdish\", \"Nepali\"], \"sample\": \"faa86f6efaf2ee67f95239685d26fd88\", \"date\": \"2013-08-20\"}\n",
      "{\"guess\": \"Tamil\", \"target\": \"Tamil\", \"country\": \"AU\", \"choices\": [\"Assyrian\", \"Bangla\", \"Nepali\", \"Tamil\"], \"sample\": \"cc305dcad696147e28c6f36615aa0952\", \"date\": \"2013-08-20\"}\n",
      "{\"guess\": \"Estonian\", \"target\": \"Ukrainian\", \"country\": \"AU\", \"choices\": [\"Armenian\", \"Dutch\", \"Estonian\", \"Ukrainian\"], \"sample\": \"064ca74dff16ce8dade4a7acdc0def8a\", \"date\": \"2013-08-20\"}\n",
      "{\"guess\": \"Khmer\", \"target\": \"Khmer\", \"country\": \"AU\", \"choices\": [\"Estonian\", \"Khmer\", \"Latvian\", \"Thai\"], \"sample\": \"714795c596ef0639a385fe620d2c42ab\", \"date\": \"2013-08-20\"}\n",
      "{\"guess\": \"Portuguese\", \"target\": \"Romanian\", \"country\": \"AU\", \"choices\": [\"Mandarin\", \"Polish\", \"Portuguese\", \"Romanian\"], \"sample\": \"6560ff4ce0b53a1b0bad2e7734f52381\", \"date\": \"2013-08-20\"}\n",
      "{\"guess\": \"French\", \"target\": \"French\", \"country\": \"AU\", \"choices\": [\"Croatian\", \"Dinka\", \"French\", \"Hungarian\"], \"sample\": \"92f9e1c17e6df988780527341fdb471d\", \"date\": \"2013-08-20\"}\n",
      "{\"guess\": \"Maltese\", \"target\": \"Maltese\", \"country\": \"AU\", \"choices\": [\"Khmer\", \"Maltese\", \"Norwegian\", \"Swedish\"], \"sample\": \"589feca2e2009ad2e63458f17568cd13\", \"date\": \"2013-08-20\"}\n",
      "{\"guess\": \"Hebrew\", \"target\": \"Hebrew\", \"country\": \"AU\", \"choices\": [\"Fijian\", \"Hebrew\", \"Samoan\", \"Ukrainian\"], \"sample\": \"1dc9a1bf90e4e788906dc716dc18d878\", \"date\": \"2013-08-20\"}\n",
      "{\"guess\": \"Sinhalese\", \"target\": \"Dinka\", \"country\": \"AU\", \"choices\": [\"Dinka\", \"Norwegian\", \"Sinhalese\", \"Urdu\"], \"sample\": \"192e7c59bb734ee762a323219846295b\", \"date\": \"2013-08-20\"}\n",
      "{\"guess\": \"Spanish\", \"target\": \"Bosnian\", \"country\": \"AU\", \"choices\": [\"Bosnian\", \"Latvian\", \"Spanish\", \"Vietnamese\"], \"sample\": \"421df072ac5abde4883d50b1fc789b14\", \"date\": \"2013-08-20\"}\n"
     ]
    }
   ],
   "source": [
    "%%rumble\n",
    "for $i in json-file(\"confusion-2014-03-02/confusion-2014-03-02.json\", 10)\n",
    "return $i"
   ]
  },
  {
   "cell_type": "markdown",
   "metadata": {
    "id": "oDF2EAwwAwTM"
   },
   "source": [
    "## 4.2 SQL to Rumble"
   ]
  },
  {
   "cell_type": "markdown",
   "metadata": {
    "id": "W2ppgHl4d-kt"
   },
   "source": [
    "The following examples, show how SQL queries can be converted to JSONiq queries. Assume that the dataset is accessible with SQL through the table \"entries\".\n",
    "\n",
    "\n",
    "\n"
   ]
  },
  {
   "cell_type": "markdown",
   "metadata": {
    "id": "P8q9Rwq8IzPn"
   },
   "source": [
    "### 4.2.1 Get all games played from Switzerland\n",
    "\n",
    "\n",
    "```sql\n",
    "SELECT *\n",
    "FROM entries\n",
    "WHERE country == \"CH\"\n",
    "```\n"
   ]
  },
  {
   "cell_type": "code",
   "execution_count": 47,
   "metadata": {
    "id": "A3ZQK0gVHkoI"
   },
   "outputs": [
    {
     "name": "stdout",
     "output_type": "stream",
     "text": [
      "Took: 67.26994919776917 s\n",
      "\"Warning! The output sequence contains 135347 items but its materialization was capped at 200 items. This value can be configured with the result-size parameter in the query string of the HTTP request.\"\n",
      "{\"guess\": \"Amharic\", \"target\": \"Amharic\", \"country\": \"CH\", \"choices\": [\"Amharic\", \"Dari\"], \"sample\": \"9b1340b8343bb267783e1bfb2dc55bf1\", \"date\": \"2013-09-01\"}\n",
      "{\"guess\": \"Korean\", \"target\": \"Korean\", \"country\": \"CH\", \"choices\": [\"Burmese\", \"Korean\"], \"sample\": \"0f8e6818d2be77b75712bc9ea4e87171\", \"date\": \"2013-09-01\"}\n",
      "{\"guess\": \"Thai\", \"target\": \"Thai\", \"country\": \"CH\", \"choices\": [\"Farsi\", \"Thai\"], \"sample\": \"74b5340a230b1e0c1d45787bc4280b05\", \"date\": \"2013-09-01\"}\n",
      "{\"guess\": \"Finnish\", \"target\": \"Hungarian\", \"country\": \"CH\", \"choices\": [\"Finnish\", \"German\", \"Hungarian\"], \"sample\": \"cb1a1c1c93ab6e802560855ca5f015f7\", \"date\": \"2013-09-01\"}\n",
      "{\"guess\": \"Russian\", \"target\": \"Russian\", \"country\": \"CH\", \"choices\": [\"Czech\", \"Japanese\", \"Russian\"], \"sample\": \"b7df3f9d67cef259fbcaa5abcad9d774\", \"date\": \"2013-09-01\"}\n",
      "{\"guess\": \"Punjabi\", \"target\": \"Swahili\", \"country\": \"CH\", \"choices\": [\"Albanian\", \"Punjabi\", \"Swahili\"], \"sample\": \"d720bf82f29b3f6d835a4f7dcb9c2dcb\", \"date\": \"2013-09-01\"}\n",
      "{\"guess\": \"Swedish\", \"target\": \"Danish\", \"country\": \"CH\", \"choices\": [\"Croatian\", \"Danish\", \"Swedish\"], \"sample\": \"2ca0534b652c09262b71bced44b4afd7\", \"date\": \"2013-09-01\"}\n",
      "{\"guess\": \"Cantonese\", \"target\": \"Cantonese\", \"country\": \"CH\", \"choices\": [\"Cantonese\", \"Italian\"], \"sample\": \"203628f42619d301e642b3553b7a684a\", \"date\": \"2013-09-02\"}\n",
      "{\"guess\": \"Danish\", \"target\": \"Danish\", \"country\": \"CH\", \"choices\": [\"Burmese\", \"Danish\"], \"sample\": \"2a7c43c1d50df8ab3d92f0bcacc637f9\", \"date\": \"2013-09-02\"}\n",
      "{\"guess\": \"Lao\", \"target\": \"Lao\", \"country\": \"CH\", \"choices\": [\"Lao\", \"Spanish\"], \"sample\": \"b5aa4ea31e44899dc4d58d4a35e05504\", \"date\": \"2013-09-02\"}\n",
      "{\"guess\": \"Arabic\", \"target\": \"Sinhalese\", \"country\": \"CH\", \"choices\": [\"Arabic\", \"Punjabi\", \"Sinhalese\"], \"sample\": \"755de9092b301614712fae5e1d2d47d3\", \"date\": \"2013-09-02\"}\n",
      "{\"guess\": \"Ukrainian\", \"target\": \"Ukrainian\", \"country\": \"CH\", \"choices\": [\"Gujarati\", \"Swahili\", \"Ukrainian\"], \"sample\": \"064ca74dff16ce8dade4a7acdc0def8a\", \"date\": \"2013-09-02\"}\n",
      "{\"guess\": \"Bangla\", \"target\": \"Bangla\", \"country\": \"CH\", \"choices\": [\"Bangla\", \"Italian\", \"Tagalog\"], \"sample\": \"2097edfb7d3a9b59fffad5ddc8aea4d4\", \"date\": \"2013-09-02\"}\n",
      "{\"guess\": \"Hebrew\", \"target\": \"Hebrew\", \"country\": \"CH\", \"choices\": [\"Amharic\", \"Hebrew\", \"Tigrinya\"], \"sample\": \"1dc9a1bf90e4e788906dc716dc18d878\", \"date\": \"2013-09-02\"}\n",
      "{\"guess\": \"Dutch\", \"target\": \"Dutch\", \"country\": \"CH\", \"choices\": [\"Armenian\", \"Burmese\", \"Dinka\", \"Dutch\"], \"sample\": \"65bf2aceadf2520f36a5e548a0471fcf\", \"date\": \"2013-09-02\"}\n",
      "{\"guess\": \"Italian\", \"target\": \"Albanian\", \"country\": \"CH\", \"choices\": [\"Albanian\", \"Dinka\", \"Italian\", \"Kannada\"], \"sample\": \"efcd813daec1c836d9f030b30caa07ce\", \"date\": \"2013-09-02\"}\n",
      "{\"guess\": \"Norwegian\", \"target\": \"Serbian\", \"country\": \"CH\", \"choices\": [\"Dari\", \"Norwegian\", \"Serbian\", \"Urdu\"], \"sample\": \"ac81d9c1d39252811bf5d9fcfddc2231\", \"date\": \"2013-09-02\"}\n",
      "{\"guess\": \"Turkish\", \"target\": \"Nepali\", \"country\": \"CH\", \"choices\": [\"Nepali\", \"Turkish\"], \"sample\": \"d8a4ee3f4b430af016b2dc5902fccd75\", \"date\": \"2013-09-02\"}\n",
      "{\"guess\": \"Lao\", \"target\": \"Lao\", \"country\": \"CH\", \"choices\": [\"Lao\", \"Tamil\"], \"sample\": \"4cf041f244960196b98c7d6ae8c79ed3\", \"date\": \"2013-09-02\"}\n",
      "{\"guess\": \"Finnish\", \"target\": \"Finnish\", \"country\": \"CH\", \"choices\": [\"Burmese\", \"Finnish\"], \"sample\": \"65b5bf9df0f8ec61111d20c6b48db671\", \"date\": \"2013-09-02\"}\n",
      "{\"guess\": \"Greek\", \"target\": \"Amharic\", \"country\": \"CH\", \"choices\": [\"Amharic\", \"Greek\"], \"sample\": \"4d83917583d5f4b47486f508bb2b8e7e\", \"date\": \"2013-09-02\"}\n",
      "{\"guess\": \"Mandarin\", \"target\": \"Mandarin\", \"country\": \"CH\", \"choices\": [\"Hindi\", \"Mandarin\"], \"sample\": \"d741b71a302261bdd5571023ee8e5131\", \"date\": \"2013-09-02\"}\n",
      "{\"guess\": \"Maltese\", \"target\": \"Cantonese\", \"country\": \"CH\", \"choices\": [\"Cantonese\", \"Maltese\"], \"sample\": \"da6ed723fe60684a231c3e22a42610a7\", \"date\": \"2013-09-02\"}\n",
      "{\"guess\": \"Bulgarian\", \"target\": \"Bulgarian\", \"country\": \"CH\", \"choices\": [\"Bulgarian\", \"Indonesian\"], \"sample\": \"69a5c674fe40942aaae4d10c9df46ee0\", \"date\": \"2013-09-02\"}\n",
      "{\"guess\": \"Lao\", \"target\": \"Lao\", \"country\": \"CH\", \"choices\": [\"Bosnian\", \"Dutch\", \"Lao\"], \"sample\": \"4cf041f244960196b98c7d6ae8c79ed3\", \"date\": \"2013-09-02\"}\n",
      "{\"guess\": \"Malay\", \"target\": \"Fijian\", \"country\": \"CH\", \"choices\": [\"Fijian\", \"Malay\"], \"sample\": \"f53c7596c141ee6d5d2b3ab90361f802\", \"date\": \"2013-09-02\"}\n",
      "{\"guess\": \"Korean\", \"target\": \"Korean\", \"country\": \"CH\", \"choices\": [\"Korean\", \"Maltese\", \"Sinhalese\"], \"sample\": \"ec371adb75ab6c7431adae3ef8fc9fc9\", \"date\": \"2013-09-02\"}\n",
      "{\"guess\": \"Ukrainian\", \"target\": \"Ukrainian\", \"country\": \"CH\", \"choices\": [\"Arabic\", \"Dutch\", \"Ukrainian\"], \"sample\": \"590cc524a179707e101ac84848523c4a\", \"date\": \"2013-09-02\"}\n",
      "{\"guess\": \"French\", \"target\": \"French\", \"country\": \"CH\", \"choices\": [\"Farsi\", \"French\", \"Tagalog\", \"Turkish\"], \"sample\": \"a892b7fd27c34fc81b65c0bb93113846\", \"date\": \"2013-09-02\"}\n",
      "{\"guess\": \"Maori\", \"target\": \"Maori\", \"country\": \"CH\", \"choices\": [\"Indonesian\", \"Maori\", \"Serbian\", \"Swahili\"], \"sample\": \"90ae678a85eac78bc4b4f52809a7c09d\", \"date\": \"2013-09-02\"}\n",
      "{\"guess\": \"Samoan\", \"target\": \"Samoan\", \"country\": \"CH\", \"choices\": [\"Italian\", \"Mandarin\", \"Samoan\", \"Tamil\"], \"sample\": \"cd9592f5c1899461ee5defa7423458b6\", \"date\": \"2013-09-02\"}\n",
      "{\"guess\": \"Hungarian\", \"target\": \"Slovenian\", \"country\": \"CH\", \"choices\": [\"Danish\", \"Hungarian\", \"Norwegian\", \"Slovenian\", \"Swedish\"], \"sample\": \"f2f07eb5c50e64c627f66566b3c7cc4a\", \"date\": \"2013-09-02\"}\n",
      "{\"guess\": \"French\", \"target\": \"French\", \"country\": \"CH\", \"choices\": [\"Czech\", \"French\"], \"sample\": \"9b2e27d1ff24961daaa87fa439a00c06\", \"date\": \"2013-09-02\"}\n",
      "{\"guess\": \"Korean\", \"target\": \"Korean\", \"country\": \"CH\", \"choices\": [\"Amharic\", \"Korean\"], \"sample\": \"871c938ad3b1243f42eec04057930d7e\", \"date\": \"2013-09-02\"}\n",
      "{\"guess\": \"Khmer\", \"target\": \"Khmer\", \"country\": \"CH\", \"choices\": [\"Fijian\", \"Khmer\"], \"sample\": \"714795c596ef0639a385fe620d2c42ab\", \"date\": \"2013-09-02\"}\n",
      "{\"guess\": \"Turkish\", \"target\": \"Turkish\", \"country\": \"CH\", \"choices\": [\"Croatian\", \"Turkish\"], \"sample\": \"ee702400fc1f020752ba3381a1b3cf9b\", \"date\": \"2013-09-02\"}\n",
      "{\"guess\": \"Czech\", \"target\": \"Czech\", \"country\": \"CH\", \"choices\": [\"Amharic\", \"Czech\"], \"sample\": \"9769bab1b0b25eb730c704ef42a3e7a6\", \"date\": \"2013-09-02\"}\n",
      "{\"guess\": \"Slovak\", \"target\": \"Slovak\", \"country\": \"CH\", \"choices\": [\"Croatian\", \"Slovak\", \"Thai\"], \"sample\": \"2c5efbd7364036976ec403a9ee36f614\", \"date\": \"2013-09-02\"}\n",
      "{\"guess\": \"Latvian\", \"target\": \"Slovenian\", \"country\": \"CH\", \"choices\": [\"French\", \"Latvian\", \"Slovenian\"], \"sample\": \"539d72aa7f2e6971b2e927c5816cd7a7\", \"date\": \"2013-09-02\"}\n",
      "{\"guess\": \"Somali\", \"target\": \"Maori\", \"country\": \"CH\", \"choices\": [\"Korean\", \"Maori\", \"Somali\"], \"sample\": \"e0d71c2632a4fe69b42a49c8aeeec811\", \"date\": \"2013-09-02\"}\n",
      "{\"guess\": \"Estonian\", \"target\": \"Estonian\", \"country\": \"CH\", \"choices\": [\"Bangla\", \"Estonian\", \"Hindi\"], \"sample\": \"b7e986bd3a0d5fd1db661e3bedf36111\", \"date\": \"2013-09-02\"}\n",
      "{\"guess\": \"Indonesian\", \"target\": \"Maltese\", \"country\": \"CH\", \"choices\": [\"Indonesian\", \"Maltese\"], \"sample\": \"36d2f4e9173e2d4cad8b8594310c856b\", \"date\": \"2013-09-02\"}\n",
      "{\"guess\": \"Assyrian\", \"target\": \"Assyrian\", \"country\": \"CH\", \"choices\": [\"Assyrian\", \"Italian\", \"Malayalam\"], \"sample\": \"ccebbc271377f7173e39564c74901f7c\", \"date\": \"2013-09-02\"}\n",
      "{\"guess\": \"Arabic\", \"target\": \"Assyrian\", \"country\": \"CH\", \"choices\": [\"Arabic\", \"Assyrian\", \"Khmer\", \"Yiddish\"], \"sample\": \"16ac545260ae198b7a3d882e06e5f261\", \"date\": \"2013-09-02\"}\n",
      "{\"guess\": \"Kannada\", \"target\": \"Portuguese\", \"country\": \"CH\", \"choices\": [\"Kannada\", \"Portuguese\"], \"sample\": \"1d7fea3522c8607f5ec4168b2a5cd206\", \"date\": \"2013-09-02\"}\n",
      "{\"guess\": \"Serbian\", \"target\": \"Serbian\", \"country\": \"CH\", \"choices\": [\"Finnish\", \"Serbian\", \"Tagalog\", \"Vietnamese\"], \"sample\": \"ac81d9c1d39252811bf5d9fcfddc2231\", \"date\": \"2013-09-02\"}\n",
      "{\"guess\": \"Khmer\", \"target\": \"Somali\", \"country\": \"CH\", \"choices\": [\"Khmer\", \"Somali\"], \"sample\": \"ee5ffba9c5cf1d6a1e2d95b0220c06d4\", \"date\": \"2013-09-02\"}\n",
      "{\"guess\": \"Latvian\", \"target\": \"Latvian\", \"country\": \"CH\", \"choices\": [\"Kurdish\", \"Latvian\", \"Malayalam\", \"Slovak\"], \"sample\": \"447bcafdbe5d7d69e0db72ab5bfa043a\", \"date\": \"2013-09-02\"}\n",
      "{\"guess\": \"Spanish\", \"target\": \"Spanish\", \"country\": \"CH\", \"choices\": [\"Norwegian\", \"Spanish\"], \"sample\": \"dc3ace49393de518e87d4f8d3ae8d9db\", \"date\": \"2013-09-02\"}\n",
      "{\"guess\": \"Danish\", \"target\": \"Danish\", \"country\": \"CH\", \"choices\": [\"Danish\", \"Russian\"], \"sample\": \"2ca0534b652c09262b71bced44b4afd7\", \"date\": \"2013-09-02\"}\n",
      "{\"guess\": \"Russian\", \"target\": \"Russian\", \"country\": \"CH\", \"choices\": [\"Albanian\", \"Latvian\", \"Russian\", \"Turkish\"], \"sample\": \"b7df3f9d67cef259fbcaa5abcad9d774\", \"date\": \"2013-09-02\"}\n",
      "{\"guess\": \"Portuguese\", \"target\": \"Portuguese\", \"country\": \"CH\", \"choices\": [\"Farsi\", \"Portuguese\"], \"sample\": \"1d7fea3522c8607f5ec4168b2a5cd206\", \"date\": \"2013-09-02\"}\n",
      "{\"guess\": \"Czech\", \"target\": \"Czech\", \"country\": \"CH\", \"choices\": [\"Burmese\", \"Czech\", \"Finnish\", \"Somali\", \"Tagalog\"], \"sample\": \"1787b5c79a00b3513ce76847bc1f5b75\", \"date\": \"2013-09-02\"}\n",
      "{\"guess\": \"Russian\", \"target\": \"Russian\", \"country\": \"CH\", \"choices\": [\"Dari\", \"Russian\", \"Serbian\"], \"sample\": \"b7df3f9d67cef259fbcaa5abcad9d774\", \"date\": \"2013-09-02\"}\n",
      "{\"guess\": \"Burmese\", \"target\": \"Burmese\", \"country\": \"CH\", \"choices\": [\"Albanian\", \"Burmese\", \"Czech\", \"French\", \"Malayalam\"], \"sample\": \"30839a9f51bf6fb209b527cc42a35899\", \"date\": \"2013-09-02\"}\n",
      "{\"guess\": \"Dari\", \"target\": \"Dari\", \"country\": \"CH\", \"choices\": [\"Dari\", \"Slovenian\", \"Yiddish\"], \"sample\": \"33f2084165c0cca6303b45440623c88c\", \"date\": \"2013-09-02\"}\n",
      "{\"guess\": \"Khmer\", \"target\": \"Khmer\", \"country\": \"CH\", \"choices\": [\"Burmese\", \"Farsi\", \"Khmer\"], \"sample\": \"84f7df7508e423234fd1adec4f84e528\", \"date\": \"2013-09-02\"}\n",
      "{\"guess\": \"Assyrian\", \"target\": \"Tigrinya\", \"country\": \"CH\", \"choices\": [\"Assyrian\", \"Estonian\", \"Norwegian\", \"Tigrinya\", \"Ukrainian\"], \"sample\": \"3ec316c78773bb826dd924926f5c0d07\", \"date\": \"2013-09-02\"}\n",
      "{\"guess\": \"Spanish\", \"target\": \"Spanish\", \"country\": \"CH\", \"choices\": [\"Croatian\", \"Hindi\", \"Spanish\", \"Tagalog\"], \"sample\": \"c57afc7ca3b4a454bf53dbca84bb4523\", \"date\": \"2013-09-02\"}\n",
      "{\"guess\": \"Polish\", \"target\": \"Polish\", \"country\": \"CH\", \"choices\": [\"Macedonian\", \"Maltese\", \"Polish\", \"Swahili\"], \"sample\": \"98890a26d68bcf75f6087566971f126f\", \"date\": \"2013-09-02\"}\n",
      "{\"guess\": \"Estonian\", \"target\": \"Estonian\", \"country\": \"CH\", \"choices\": [\"Estonian\", \"Kurdish\", \"Maltese\", \"Nepali\"], \"sample\": \"b8e22e10dbc944d7aaa9c00414c70be8\", \"date\": \"2013-09-02\"}\n",
      "{\"guess\": \"Italian\", \"target\": \"Italian\", \"country\": \"CH\", \"choices\": [\"Finnish\", \"Italian\"], \"sample\": \"88f3e5120091cffdf8abeb92b5da90a2\", \"date\": \"2013-09-02\"}\n",
      "{\"guess\": \"Hebrew\", \"target\": \"Hebrew\", \"country\": \"CH\", \"choices\": [\"Arabic\", \"Hebrew\", \"Russian\", \"Slovenian\", \"Swedish\"], \"sample\": \"157085744728e35079622c71804cf722\", \"date\": \"2013-09-02\"}\n",
      "{\"guess\": \"Czech\", \"target\": \"Czech\", \"country\": \"CH\", \"choices\": [\"Czech\", \"Tagalog\"], \"sample\": \"56626a14b479e47d5eb9568161dad285\", \"date\": \"2013-09-02\"}\n",
      "{\"guess\": \"Finnish\", \"target\": \"Finnish\", \"country\": \"CH\", \"choices\": [\"Bosnian\", \"Finnish\", \"Japanese\", \"Korean\", \"Tamil\"], \"sample\": \"4a3dfa40ed621940a0a38408956b86e0\", \"date\": \"2013-09-02\"}\n",
      "{\"guess\": \"Portuguese\", \"target\": \"Portuguese\", \"country\": \"CH\", \"choices\": [\"Portuguese\", \"Vietnamese\"], \"sample\": \"439672210d1feb96e012590ff2a73590\", \"date\": \"2013-09-02\"}\n",
      "{\"guess\": \"Estonian\", \"target\": \"Croatian\", \"country\": \"CH\", \"choices\": [\"Croatian\", \"Estonian\", \"Indonesian\", \"Malay\", \"Spanish\"], \"sample\": \"bd3eefed0e12797c6e2b45b8db8d88d9\", \"date\": \"2013-09-02\"}\n",
      "{\"guess\": \"Danish\", \"target\": \"Danish\", \"country\": \"CH\", \"choices\": [\"Danish\", \"Hungarian\", \"Indonesian\"], \"sample\": \"2a7c43c1d50df8ab3d92f0bcacc637f9\", \"date\": \"2013-09-02\"}\n",
      "{\"guess\": \"Thai\", \"target\": \"Tigrinya\", \"country\": \"CH\", \"choices\": [\"Bangla\", \"Hungarian\", \"Norwegian\", \"Thai\", \"Tigrinya\"], \"sample\": \"a1fcc86068b72ed9d9f1c0b291d7819d\", \"date\": \"2013-09-02\"}\n",
      "{\"guess\": \"Portuguese\", \"target\": \"Portuguese\", \"country\": \"CH\", \"choices\": [\"Bangla\", \"Kannada\", \"Portuguese\"], \"sample\": \"5fd851c9e87a6b9b9da9eb2ab0de6686\", \"date\": \"2013-09-02\"}\n",
      "{\"guess\": \"Khmer\", \"target\": \"Indonesian\", \"country\": \"CH\", \"choices\": [\"Indonesian\", \"Khmer\", \"Malayalam\"], \"sample\": \"96c0ad21acaedd52f652903794afb6f4\", \"date\": \"2013-09-02\"}\n",
      "{\"guess\": \"Macedonian\", \"target\": \"Bosnian\", \"country\": \"CH\", \"choices\": [\"Bosnian\", \"Macedonian\", \"Swahili\", \"Tamil\", \"Tongan\"], \"sample\": \"421df072ac5abde4883d50b1fc789b14\", \"date\": \"2013-09-02\"}\n",
      "{\"guess\": \"Danish\", \"target\": \"Danish\", \"country\": \"CH\", \"choices\": [\"Danish\", \"Spanish\", \"Tigrinya\"], \"sample\": \"2ca0534b652c09262b71bced44b4afd7\", \"date\": \"2013-09-02\"}\n",
      "{\"guess\": \"Hindi\", \"target\": \"Hindi\", \"country\": \"CH\", \"choices\": [\"Hindi\", \"Khmer\"], \"sample\": \"9dac641f173f2a225501e8e50fc4e66e\", \"date\": \"2013-09-02\"}\n",
      "{\"guess\": \"Dinka\", \"target\": \"Dinka\", \"country\": \"CH\", \"choices\": [\"Czech\", \"Danish\", \"Dinka\", \"Thai\"], \"sample\": \"cd3dffdb83f221e09710cbfbcaffdb31\", \"date\": \"2013-09-02\"}\n",
      "{\"guess\": \"German\", \"target\": \"German\", \"country\": \"CH\", \"choices\": [\"German\", \"Spanish\"], \"sample\": \"1f8b9a59cd75fc429db54dceb6e0594b\", \"date\": \"2013-09-02\"}\n",
      "{\"guess\": \"Tamil\", \"target\": \"Tamil\", \"country\": \"CH\", \"choices\": [\"Czech\", \"Tamil\"], \"sample\": \"cc305dcad696147e28c6f36615aa0952\", \"date\": \"2013-09-02\"}\n",
      "{\"guess\": \"Tongan\", \"target\": \"Hungarian\", \"country\": \"CH\", \"choices\": [\"Hungarian\", \"Kurdish\", \"Tongan\"], \"sample\": \"7efab6f0c61694ba6e8aa72843d1bf15\", \"date\": \"2013-09-02\"}\n",
      "{\"guess\": \"Latvian\", \"target\": \"Latvian\", \"country\": \"CH\", \"choices\": [\"Korean\", \"Latvian\", \"Russian\", \"Tamil\"], \"sample\": \"5aea2b93784263ae4b5a2524ddebebb2\", \"date\": \"2013-09-02\"}\n",
      "{\"guess\": \"Korean\", \"target\": \"Korean\", \"country\": \"CH\", \"choices\": [\"Korean\", \"Sinhalese\", \"Somali\"], \"sample\": \"871c938ad3b1243f42eec04057930d7e\", \"date\": \"2013-09-02\"}\n",
      "{\"guess\": \"Yiddish\", \"target\": \"Yiddish\", \"country\": \"CH\", \"choices\": [\"Kannada\", \"Nepali\", \"Swedish\", \"Yiddish\"], \"sample\": \"07468dc58acd4228a618bcdafed773f9\", \"date\": \"2013-09-02\"}\n",
      "{\"guess\": \"Korean\", \"target\": \"Korean\", \"country\": \"CH\", \"choices\": [\"Assyrian\", \"Kannada\", \"Korean\", \"Malayalam\", \"Spanish\"], \"sample\": \"0f8e6818d2be77b75712bc9ea4e87171\", \"date\": \"2013-09-02\"}\n",
      "{\"guess\": \"Gujarati\", \"target\": \"Lao\", \"country\": \"CH\", \"choices\": [\"Gujarati\", \"Lao\", \"Portuguese\"], \"sample\": \"b5aa4ea31e44899dc4d58d4a35e05504\", \"date\": \"2013-09-02\"}\n",
      "{\"guess\": \"Bangla\", \"target\": \"Bangla\", \"country\": \"CH\", \"choices\": [\"Bangla\", \"Dutch\", \"Macedonian\"], \"sample\": \"ca0d5c366b1eeb2115054e6a8518f778\", \"date\": \"2013-09-02\"}\n",
      "{\"guess\": \"Malay\", \"target\": \"Malay\", \"country\": \"CH\", \"choices\": [\"Bulgarian\", \"Korean\", \"Kurdish\", \"Malay\", \"Swedish\"], \"sample\": \"610d45322ed5aa122cf9b4a79d603781\", \"date\": \"2013-09-02\"}\n",
      "{\"guess\": \"Swedish\", \"target\": \"Swedish\", \"country\": \"CH\", \"choices\": [\"Spanish\", \"Swedish\", \"Tongan\"], \"sample\": \"bd17f93a45c823198b790b7ba99975dd\", \"date\": \"2013-09-02\"}\n",
      "{\"guess\": \"Tagalog\", \"target\": \"Farsi\", \"country\": \"CH\", \"choices\": [\"Farsi\", \"Khmer\", \"Slovenian\", \"Tagalog\"], \"sample\": \"70154ea13cf1c633cfe62d44919a347c\", \"date\": \"2013-09-02\"}\n",
      "{\"guess\": \"Tagalog\", \"target\": \"Tagalog\", \"country\": \"CH\", \"choices\": [\"Dari\", \"Kannada\", \"Serbian\", \"Tagalog\", \"Tongan\"], \"sample\": \"0c951f12af48b7ead6a3549707695906\", \"date\": \"2013-09-02\"}\n",
      "{\"guess\": \"Bulgarian\", \"target\": \"Bulgarian\", \"country\": \"CH\", \"choices\": [\"Bulgarian\", \"Cantonese\"], \"sample\": \"8102c4494405873dd7b8258a97396351\", \"date\": \"2013-09-02\"}\n",
      "{\"guess\": \"Finnish\", \"target\": \"Finnish\", \"country\": \"CH\", \"choices\": [\"Arabic\", \"Estonian\", \"Finnish\", \"Maltese\", \"Ukrainian\", \"Yiddish\"], \"sample\": \"76e16d2ed298968ff397294b18f04831\", \"date\": \"2013-09-02\"}\n",
      "{\"guess\": \"Urdu\", \"target\": \"Urdu\", \"country\": \"CH\", \"choices\": [\"Mandarin\", \"Urdu\"], \"sample\": \"b01dde8ca2fcec5196a9b37d656d6e74\", \"date\": \"2013-09-02\"}\n",
      "{\"guess\": \"Vietnamese\", \"target\": \"Vietnamese\", \"country\": \"CH\", \"choices\": [\"Japanese\", \"Vietnamese\"], \"sample\": \"8ea6892d1ddca321adc07b05176e3605\", \"date\": \"2013-09-02\"}\n",
      "{\"guess\": \"Hebrew\", \"target\": \"Hebrew\", \"country\": \"CH\", \"choices\": [\"Burmese\", \"Hebrew\", \"Punjabi\"], \"sample\": \"1dc9a1bf90e4e788906dc716dc18d878\", \"date\": \"2013-09-02\"}\n",
      "{\"guess\": \"Slovenian\", \"target\": \"Slovenian\", \"country\": \"CH\", \"choices\": [\"Dutch\", \"Slovenian\", \"Urdu\"], \"sample\": \"4a691f8bf52b406ccc65a95899de7bd2\", \"date\": \"2013-09-02\"}\n",
      "{\"guess\": \"Romanian\", \"target\": \"Romanian\", \"country\": \"CH\", \"choices\": [\"Assyrian\", \"Romanian\", \"Vietnamese\"], \"sample\": \"903fc45cba5245f21deaaca3966f825b\", \"date\": \"2013-09-02\"}\n",
      "{\"guess\": \"Croatian\", \"target\": \"Croatian\", \"country\": \"CH\", \"choices\": [\"Croatian\", \"Danish\", \"German\", \"Lao\"], \"sample\": \"a0d2070edd63b46a3e71b4fb7ffe5375\", \"date\": \"2013-09-02\"}\n",
      "{\"guess\": \"Latvian\", \"target\": \"Latvian\", \"country\": \"CH\", \"choices\": [\"Hebrew\", \"Latvian\", \"Maori\", \"Portuguese\", \"Swedish\", \"Urdu\"], \"sample\": \"447bcafdbe5d7d69e0db72ab5bfa043a\", \"date\": \"2013-09-02\"}\n",
      "{\"guess\": \"Yiddish\", \"target\": \"Yiddish\", \"country\": \"CH\", \"choices\": [\"Burmese\", \"Estonian\", \"Swedish\", \"Yiddish\"], \"sample\": \"491ce6f2acb4a588a4e6ff3570d429a5\", \"date\": \"2013-09-02\"}\n",
      "{\"guess\": \"Tigrinya\", \"target\": \"Tigrinya\", \"country\": \"CH\", \"choices\": [\"Arabic\", \"Croatian\", \"Khmer\", \"Macedonian\", \"Samoan\", \"Tigrinya\"], \"sample\": \"a1fcc86068b72ed9d9f1c0b291d7819d\", \"date\": \"2013-09-02\"}\n",
      "{\"guess\": \"Kurdish\", \"target\": \"Sinhalese\", \"country\": \"CH\", \"choices\": [\"Korean\", \"Kurdish\", \"Sinhalese\", \"Slovenian\"], \"sample\": \"755de9092b301614712fae5e1d2d47d3\", \"date\": \"2013-09-02\"}\n",
      "{\"guess\": \"Dinka\", \"target\": \"Dinka\", \"country\": \"CH\", \"choices\": [\"Bangla\", \"Dinka\", \"Fijian\", \"Indonesian\", \"Maltese\", \"Portuguese\", \"Punjabi\"], \"sample\": \"192e7c59bb734ee762a323219846295b\", \"date\": \"2013-09-02\"}\n",
      "{\"guess\": \"Kurdish\", \"target\": \"Nepali\", \"country\": \"CH\", \"choices\": [\"Hebrew\", \"Kurdish\", \"Nepali\", \"Vietnamese\"], \"sample\": \"d8a4ee3f4b430af016b2dc5902fccd75\", \"date\": \"2013-09-02\"}\n",
      "{\"guess\": \"Bosnian\", \"target\": \"Bosnian\", \"country\": \"CH\", \"choices\": [\"Bosnian\", \"Hindi\", \"Serbian\", \"Slovenian\"], \"sample\": \"08d1b7f052aa2014d54d699b2466910f\", \"date\": \"2013-09-02\"}\n",
      "{\"guess\": \"Somali\", \"target\": \"Somali\", \"country\": \"CH\", \"choices\": [\"Bangla\", \"Finnish\", \"Gujarati\", \"Lao\", \"Somali\", \"Thai\", \"Vietnamese\"], \"sample\": \"a505ab771ae7c32744ad31b3051b8ee9\", \"date\": \"2013-09-02\"}\n",
      "{\"guess\": \"Greek\", \"target\": \"Greek\", \"country\": \"CH\", \"choices\": [\"Albanian\", \"Amharic\", \"French\", \"Greek\", \"Korean\"], \"sample\": \"0f43daadf6a1ce6d769fa0daa630b5f6\", \"date\": \"2013-09-02\"}\n",
      "{\"guess\": \"Korean\", \"target\": \"Korean\", \"country\": \"CH\", \"choices\": [\"Greek\", \"Japanese\", \"Korean\", \"Turkish\", \"Yiddish\"], \"sample\": \"0f8e6818d2be77b75712bc9ea4e87171\", \"date\": \"2013-09-02\"}\n",
      "{\"guess\": \"Tagalog\", \"target\": \"Tagalog\", \"country\": \"CH\", \"choices\": [\"Japanese\", \"Khmer\", \"Korean\", \"Portuguese\", \"Swahili\", \"Tagalog\", \"Vietnamese\"], \"sample\": \"34df5eca0db3967da23f8a210337c9d6\", \"date\": \"2013-09-02\"}\n",
      "{\"guess\": \"Bangla\", \"target\": \"Arabic\", \"country\": \"CH\", \"choices\": [\"Arabic\", \"Bangla\", \"Korean\", \"Kurdish\", \"Yiddish\"], \"sample\": \"83c6ffcb085ce9c18c0e2aff00dda865\", \"date\": \"2013-09-02\"}\n",
      "{\"guess\": \"Tongan\", \"target\": \"Tongan\", \"country\": \"CH\", \"choices\": [\"Albanian\", \"Bangla\", \"Greek\", \"Mandarin\", \"Spanish\", \"Swedish\", \"Thai\", \"Tongan\"], \"sample\": \"5a16cc76dc960f980d030d7b3e9f052b\", \"date\": \"2013-09-02\"}\n",
      "{\"guess\": \"Greek\", \"target\": \"Greek\", \"country\": \"CH\", \"choices\": [\"Burmese\", \"Dari\", \"Finnish\", \"Greek\", \"Malayalam\", \"Maltese\", \"Sinhalese\", \"Turkish\"], \"sample\": \"0f43daadf6a1ce6d769fa0daa630b5f6\", \"date\": \"2013-09-02\"}\n",
      "{\"guess\": \"Gujarati\", \"target\": \"Indonesian\", \"country\": \"CH\", \"choices\": [\"Fijian\", \"Gujarati\", \"Indonesian\", \"Khmer\", \"Maltese\", \"Portuguese\", \"Romanian\", \"Slovenian\"], \"sample\": \"b8d5d0e85e06b3abe3fe32b6f3f59e50\", \"date\": \"2013-09-02\"}\n",
      "{\"guess\": \"Danish\", \"target\": \"Danish\", \"country\": \"CH\", \"choices\": [\"Burmese\", \"Danish\", \"Dinka\", \"Farsi\", \"French\", \"Mandarin\", \"Serbian\", \"Spanish\"], \"sample\": \"2a7c43c1d50df8ab3d92f0bcacc637f9\", \"date\": \"2013-09-02\"}\n",
      "{\"guess\": \"Finnish\", \"target\": \"Finnish\", \"country\": \"CH\", \"choices\": [\"Albanian\", \"Farsi\", \"Finnish\", \"Greek\", \"Hindi\", \"Italian\", \"Romanian\", \"Russian\", \"Swedish\"], \"sample\": \"76e16d2ed298968ff397294b18f04831\", \"date\": \"2013-09-02\"}\n",
      "{\"guess\": \"Amharic\", \"target\": \"Dari\", \"country\": \"CH\", \"choices\": [\"Amharic\", \"Bosnian\", \"Croatian\", \"Dari\", \"Greek\", \"Japanese\", \"Korean\", \"Maori\", \"Tagalog\"], \"sample\": \"cad47cd466a2d8c25fa7a21c15cbb3cf\", \"date\": \"2013-09-02\"}\n",
      "{\"guess\": \"Thai\", \"target\": \"Thai\", \"country\": \"CH\", \"choices\": [\"Korean\", \"Thai\"], \"sample\": \"ec09e573de88d0ace4c1ddd9cb531e90\", \"date\": \"2013-09-02\"}\n",
      "{\"guess\": \"Dutch\", \"target\": \"Dutch\", \"country\": \"CH\", \"choices\": [\"Bangla\", \"Dutch\"], \"sample\": \"5cd22cbf16be1a93d304d589431c3ec3\", \"date\": \"2013-09-02\"}\n",
      "{\"guess\": \"Gujarati\", \"target\": \"Gujarati\", \"country\": \"CH\", \"choices\": [\"Gujarati\", \"Japanese\"], \"sample\": \"56ecf19cff578aa76b81edb580ff343f\", \"date\": \"2013-09-02\"}\n",
      "{\"guess\": \"Latvian\", \"target\": \"Latvian\", \"country\": \"CH\", \"choices\": [\"Dinka\", \"Latvian\", \"Malayalam\"], \"sample\": \"5aea2b93784263ae4b5a2524ddebebb2\", \"date\": \"2013-09-02\"}\n",
      "{\"guess\": \"French\", \"target\": \"French\", \"country\": \"CH\", \"choices\": [\"French\", \"Hebrew\", \"Hindi\"], \"sample\": \"a892b7fd27c34fc81b65c0bb93113846\", \"date\": \"2013-09-02\"}\n",
      "{\"guess\": \"Lao\", \"target\": \"Lao\", \"country\": \"CH\", \"choices\": [\"Dutch\", \"Lao\", \"Thai\"], \"sample\": \"b5aa4ea31e44899dc4d58d4a35e05504\", \"date\": \"2013-09-02\"}\n",
      "{\"guess\": \"Indonesian\", \"target\": \"Indonesian\", \"country\": \"CH\", \"choices\": [\"Albanian\", \"Indonesian\", \"Portuguese\", \"Tigrinya\"], \"sample\": \"ff8fcb796b7fdc540dd567c144024f82\", \"date\": \"2013-09-02\"}\n",
      "{\"guess\": \"Italian\", \"target\": \"Italian\", \"country\": \"CH\", \"choices\": [\"Czech\", \"Italian\", \"Portuguese\", \"Vietnamese\"], \"sample\": \"b64869a674fbf588fa2ace46d717bed6\", \"date\": \"2013-09-02\"}\n",
      "{\"guess\": \"Finnish\", \"target\": \"Tongan\", \"country\": \"CH\", \"choices\": [\"Finnish\", \"Korean\", \"Tamil\", \"Tongan\"], \"sample\": \"fba08911805472f37575d2cece186654\", \"date\": \"2013-09-02\"}\n",
      "{\"guess\": \"Tagalog\", \"target\": \"Tagalog\", \"country\": \"CH\", \"choices\": [\"Finnish\", \"Sinhalese\", \"Tagalog\", \"Tongan\"], \"sample\": \"34df5eca0db3967da23f8a210337c9d6\", \"date\": \"2013-09-02\"}\n",
      "{\"guess\": \"Hungarian\", \"target\": \"Hungarian\", \"country\": \"CH\", \"choices\": [\"Danish\", \"Farsi\", \"Hungarian\", \"Latvian\", \"Tagalog\"], \"sample\": \"cb1a1c1c93ab6e802560855ca5f015f7\", \"date\": \"2013-09-02\"}\n",
      "{\"guess\": \"Romanian\", \"target\": \"Romanian\", \"country\": \"CH\", \"choices\": [\"Danish\", \"Italian\", \"Japanese\", \"Malay\", \"Romanian\"], \"sample\": \"0b4ddbcac7e75c14f25fabeaff89a787\", \"date\": \"2013-09-02\"}\n",
      "{\"guess\": \"Italian\", \"target\": \"Italian\", \"country\": \"CH\", \"choices\": [\"Greek\", \"Hindi\", \"Italian\", \"Malay\", \"Slovenian\"], \"sample\": \"b64869a674fbf588fa2ace46d717bed6\", \"date\": \"2013-09-02\"}\n",
      "{\"guess\": \"Spanish\", \"target\": \"Spanish\", \"country\": \"CH\", \"choices\": [\"Bosnian\", \"Czech\", \"Finnish\", \"Hebrew\", \"Hungarian\", \"Spanish\"], \"sample\": \"c8f4f097079404bf9a0e94d604efd1d5\", \"date\": \"2013-09-02\"}\n",
      "{\"guess\": \"Farsi\", \"target\": \"Malay\", \"country\": \"CH\", \"choices\": [\"Bulgarian\", \"Czech\", \"Farsi\", \"Malay\", \"Samoan\", \"Somali\"], \"sample\": \"610d45322ed5aa122cf9b4a79d603781\", \"date\": \"2013-09-02\"}\n",
      "{\"guess\": \"Slovenian\", \"target\": \"Slovenian\", \"country\": \"CH\", \"choices\": [\"Arabic\", \"Assyrian\", \"Farsi\", \"Sinhalese\", \"Slovenian\", \"Thai\"], \"sample\": \"f2f07eb5c50e64c627f66566b3c7cc4a\", \"date\": \"2013-09-02\"}\n",
      "{\"guess\": \"Kannada\", \"target\": \"Kannada\", \"country\": \"CH\", \"choices\": [\"Amharic\", \"Danish\", \"Hungarian\", \"Kannada\", \"Serbian\", \"Ukrainian\"], \"sample\": \"c11a7723bd3fcd00e33e90c90a3492e5\", \"date\": \"2013-09-02\"}\n",
      "{\"guess\": \"Cantonese\", \"target\": \"Vietnamese\", \"country\": \"CH\", \"choices\": [\"Cantonese\", \"Czech\", \"Korean\", \"Latvian\", \"Maltese\", \"Mandarin\", \"Vietnamese\"], \"sample\": \"3aab36435babaea46064d7f173bb0ba3\", \"date\": \"2013-09-02\"}\n",
      "{\"guess\": \"Burmese\", \"target\": \"Dinka\", \"country\": \"CH\", \"choices\": [\"Burmese\", \"Dinka\"], \"sample\": \"cd3dffdb83f221e09710cbfbcaffdb31\", \"date\": \"2013-09-02\"}\n",
      "{\"guess\": \"Hebrew\", \"target\": \"Hebrew\", \"country\": \"CH\", \"choices\": [\"Hebrew\", \"Maori\"], \"sample\": \"157085744728e35079622c71804cf722\", \"date\": \"2013-09-02\"}\n",
      "{\"guess\": \"Japanese\", \"target\": \"Japanese\", \"country\": \"CH\", \"choices\": [\"Japanese\", \"Tagalog\"], \"sample\": \"bae93d7864edf7c70ca869113e45433c\", \"date\": \"2013-09-02\"}\n",
      "{\"guess\": \"Czech\", \"target\": \"Czech\", \"country\": \"CH\", \"choices\": [\"Czech\", \"Mandarin\"], \"sample\": \"1787b5c79a00b3513ce76847bc1f5b75\", \"date\": \"2013-09-02\"}\n",
      "{\"guess\": \"Polish\", \"target\": \"Latvian\", \"country\": \"CH\", \"choices\": [\"Croatian\", \"Latvian\", \"Polish\"], \"sample\": \"5e609abac81edbf76a58bc1d2a850f12\", \"date\": \"2013-09-02\"}\n",
      "{\"guess\": \"Cantonese\", \"target\": \"Cantonese\", \"country\": \"CH\", \"choices\": [\"Albanian\", \"Cantonese\", \"Thai\"], \"sample\": \"203628f42619d301e642b3553b7a684a\", \"date\": \"2013-09-02\"}\n",
      "{\"guess\": \"Somali\", \"target\": \"Somali\", \"country\": \"CH\", \"choices\": [\"Somali\", \"Swedish\", \"Yiddish\"], \"sample\": \"ee5ffba9c5cf1d6a1e2d95b0220c06d4\", \"date\": \"2013-09-02\"}\n",
      "{\"guess\": \"Assyrian\", \"target\": \"Assyrian\", \"country\": \"CH\", \"choices\": [\"Assyrian\", \"Nepali\", \"Samoan\"], \"sample\": \"16ac545260ae198b7a3d882e06e5f261\", \"date\": \"2013-09-02\"}\n",
      "{\"guess\": \"Tigrinya\", \"target\": \"Nepali\", \"country\": \"CH\", \"choices\": [\"Nepali\", \"Punjabi\", \"Tigrinya\", \"Vietnamese\"], \"sample\": \"d8a4ee3f4b430af016b2dc5902fccd75\", \"date\": \"2013-09-02\"}\n",
      "{\"guess\": \"Kurdish\", \"target\": \"Kurdish\", \"country\": \"CH\", \"choices\": [\"Bangla\", \"Burmese\", \"Kurdish\", \"Vietnamese\"], \"sample\": \"f54dad4973f899ba8e9e26dcca58d625\", \"date\": \"2013-09-02\"}\n",
      "{\"guess\": \"Malay\", \"target\": \"Tongan\", \"country\": \"CH\", \"choices\": [\"Indonesian\", \"Malay\", \"Tongan\", \"Urdu\"], \"sample\": \"fba08911805472f37575d2cece186654\", \"date\": \"2013-09-02\"}\n",
      "{\"guess\": \"Russian\", \"target\": \"Russian\", \"country\": \"CH\", \"choices\": [\"Albanian\", \"Russian\"], \"sample\": \"ff5b5a0d34c77d2e2027dad7e4deb094\", \"date\": \"2013-09-02\"}\n",
      "{\"guess\": \"Kurdish\", \"target\": \"Kurdish\", \"country\": \"CH\", \"choices\": [\"Greek\", \"Kurdish\"], \"sample\": \"6c50f5972917a1ab11328233ef50db72\", \"date\": \"2013-09-02\"}\n",
      "{\"guess\": \"Hindi\", \"target\": \"Hindi\", \"country\": \"CH\", \"choices\": [\"Hindi\", \"Portuguese\"], \"sample\": \"9dac641f173f2a225501e8e50fc4e66e\", \"date\": \"2013-09-02\"}\n",
      "{\"guess\": \"Italian\", \"target\": \"Italian\", \"country\": \"CH\", \"choices\": [\"Assyrian\", \"Italian\", \"Slovenian\"], \"sample\": \"88f3e5120091cffdf8abeb92b5da90a2\", \"date\": \"2013-09-02\"}\n",
      "{\"guess\": \"Danish\", \"target\": \"Danish\", \"country\": \"CH\", \"choices\": [\"Amharic\", \"Danish\", \"Tongan\"], \"sample\": \"2ca0534b652c09262b71bced44b4afd7\", \"date\": \"2013-09-02\"}\n",
      "{\"guess\": \"Dinka\", \"target\": \"Dinka\", \"country\": \"CH\", \"choices\": [\"Dinka\", \"Hungarian\", \"Macedonian\"], \"sample\": \"af5e8f27cef9e689a070b8814dcc02c3\", \"date\": \"2013-09-02\"}\n",
      "{\"guess\": \"Maltese\", \"target\": \"Maltese\", \"country\": \"CH\", \"choices\": [\"Kurdish\", \"Maltese\", \"Mandarin\", \"Swahili\"], \"sample\": \"36d2f4e9173e2d4cad8b8594310c856b\", \"date\": \"2013-09-02\"}\n",
      "{\"guess\": \"Malayalam\", \"target\": \"Lao\", \"country\": \"CH\", \"choices\": [\"German\", \"Lao\", \"Malayalam\", \"Swedish\"], \"sample\": \"b5aa4ea31e44899dc4d58d4a35e05504\", \"date\": \"2013-09-02\"}\n",
      "{\"guess\": \"Vietnamese\", \"target\": \"Vietnamese\", \"country\": \"CH\", \"choices\": [\"Bangla\", \"Estonian\", \"Turkish\", \"Vietnamese\"], \"sample\": \"3aab36435babaea46064d7f173bb0ba3\", \"date\": \"2013-09-02\"}\n",
      "{\"guess\": \"Swedish\", \"target\": \"Swedish\", \"country\": \"CH\", \"choices\": [\"Dutch\", \"Russian\", \"Swedish\", \"Turkish\"], \"sample\": \"dfe8192c1bbd80b44ea4409d9889dc90\", \"date\": \"2013-09-02\"}\n",
      "{\"guess\": \"Turkish\", \"target\": \"Turkish\", \"country\": \"CH\", \"choices\": [\"Assyrian\", \"Macedonian\", \"Malay\", \"Turkish\", \"Urdu\"], \"sample\": \"752c4c30d475748a342c68ebfba24d1e\", \"date\": \"2013-09-02\"}\n",
      "{\"guess\": \"Punjabi\", \"target\": \"Hindi\", \"country\": \"CH\", \"choices\": [\"Bosnian\", \"Cantonese\", \"Hindi\", \"Maori\", \"Punjabi\"], \"sample\": \"568bfed6715c43735f95faef578d7cd5\", \"date\": \"2013-09-02\"}\n",
      "{\"guess\": \"Gujarati\", \"target\": \"Gujarati\", \"country\": \"CH\", \"choices\": [\"Dutch\", \"Farsi\", \"Gujarati\", \"Khmer\", \"Yiddish\"], \"sample\": \"56ecf19cff578aa76b81edb580ff343f\", \"date\": \"2013-09-02\"}\n",
      "{\"guess\": \"Hebrew\", \"target\": \"Hebrew\", \"country\": \"CH\", \"choices\": [\"Bangla\", \"Hebrew\", \"Italian\", \"Mandarin\", \"Norwegian\"], \"sample\": \"1dc9a1bf90e4e788906dc716dc18d878\", \"date\": \"2013-09-02\"}\n",
      "{\"guess\": \"Dutch\", \"target\": \"Dutch\", \"country\": \"CH\", \"choices\": [\"Arabic\", \"Croatian\", \"Danish\", \"Dutch\", \"French\", \"Slovenian\"], \"sample\": \"65bf2aceadf2520f36a5e548a0471fcf\", \"date\": \"2013-09-02\"}\n",
      "{\"guess\": \"Urdu\", \"target\": \"Gujarati\", \"country\": \"CH\", \"choices\": [\"Gujarati\", \"Macedonian\", \"Mandarin\", \"Swedish\", \"Tamil\", \"Urdu\"], \"sample\": \"16d80eee6659268a90460422dd2a2896\", \"date\": \"2013-09-02\"}\n",
      "{\"guess\": \"Macedonian\", \"target\": \"Macedonian\", \"country\": \"CH\", \"choices\": [\"Macedonian\", \"Maori\"], \"sample\": \"f2b6086f0918df15f3c6a457ce8cc8d4\", \"date\": \"2013-09-02\"}\n",
      "{\"guess\": \"Serbian\", \"target\": \"Serbian\", \"country\": \"CH\", \"choices\": [\"Japanese\", \"Serbian\"], \"sample\": \"ec4d6dad1be487091ec2b1b63820e329\", \"date\": \"2013-09-02\"}\n",
      "{\"guess\": \"Hungarian\", \"target\": \"Serbian\", \"country\": \"CH\", \"choices\": [\"Hungarian\", \"Serbian\"], \"sample\": \"0d5b697ebb326b5043ce7fa60a7b968d\", \"date\": \"2013-09-02\"}\n",
      "{\"guess\": \"Maltese\", \"target\": \"Maltese\", \"country\": \"CH\", \"choices\": [\"Maltese\", \"Spanish\"], \"sample\": \"589feca2e2009ad2e63458f17568cd13\", \"date\": \"2013-09-02\"}\n",
      "{\"guess\": \"Estonian\", \"target\": \"Estonian\", \"country\": \"CH\", \"choices\": [\"Estonian\", \"Indonesian\", \"Tongan\"], \"sample\": \"b7e986bd3a0d5fd1db661e3bedf36111\", \"date\": \"2013-09-02\"}\n",
      "{\"guess\": \"Serbian\", \"target\": \"Serbian\", \"country\": \"CH\", \"choices\": [\"Gujarati\", \"Lao\", \"Serbian\"], \"sample\": \"ac81d9c1d39252811bf5d9fcfddc2231\", \"date\": \"2013-09-02\"}\n",
      "{\"guess\": \"Amharic\", \"target\": \"Amharic\", \"country\": \"CH\", \"choices\": [\"Amharic\", \"Polish\", \"Slovenian\"], \"sample\": \"5c6664317cc1cc256f11b722835396b7\", \"date\": \"2013-09-02\"}\n",
      "{\"guess\": \"Vietnamese\", \"target\": \"Vietnamese\", \"country\": \"CH\", \"choices\": [\"Armenian\", \"Latvian\", \"Swedish\", \"Vietnamese\"], \"sample\": \"3aab36435babaea46064d7f173bb0ba3\", \"date\": \"2013-09-02\"}\n",
      "{\"guess\": \"Assyrian\", \"target\": \"Assyrian\", \"country\": \"CH\", \"choices\": [\"Assyrian\", \"Danish\", \"Dari\", \"Malayalam\"], \"sample\": \"16ac545260ae198b7a3d882e06e5f261\", \"date\": \"2013-09-02\"}\n",
      "{\"guess\": \"Romanian\", \"target\": \"Slovenian\", \"country\": \"CH\", \"choices\": [\"Punjabi\", \"Romanian\", \"Serbian\", \"Slovenian\"], \"sample\": \"4a691f8bf52b406ccc65a95899de7bd2\", \"date\": \"2013-09-02\"}\n",
      "{\"guess\": \"Maori\", \"target\": \"Maori\", \"country\": \"CH\", \"choices\": [\"Assyrian\", \"Danish\", \"Maori\", \"Punjabi\"], \"sample\": \"90ae678a85eac78bc4b4f52809a7c09d\", \"date\": \"2013-09-02\"}\n",
      "{\"guess\": \"Samoan\", \"target\": \"Tigrinya\", \"country\": \"CH\", \"choices\": [\"Czech\", \"Gujarati\", \"Punjabi\", \"Samoan\", \"Tigrinya\"], \"sample\": \"05c96880846c583b0dc6e5043eab938d\", \"date\": \"2013-09-02\"}\n",
      "{\"guess\": \"Polish\", \"target\": \"Polish\", \"country\": \"CH\", \"choices\": [\"Croatian\", \"Polish\"], \"sample\": \"f1aac78bec424c4d6c716553719b0b70\", \"date\": \"2013-09-02\"}\n",
      "{\"guess\": \"Slovak\", \"target\": \"Slovak\", \"country\": \"CH\", \"choices\": [\"Gujarati\", \"Slovak\"], \"sample\": \"78fbc62aeae4bc4188d2d6a64805d6df\", \"date\": \"2013-09-03\"}\n",
      "{\"guess\": \"Maori\", \"target\": \"Fijian\", \"country\": \"CH\", \"choices\": [\"Fijian\", \"Maori\"], \"sample\": \"aaa12425808ac9d4ce184c453bfc0502\", \"date\": \"2013-09-03\"}\n",
      "{\"guess\": \"Thai\", \"target\": \"Thai\", \"country\": \"CH\", \"choices\": [\"Bulgarian\", \"Thai\"], \"sample\": \"ec09e573de88d0ace4c1ddd9cb531e90\", \"date\": \"2013-09-03\"}\n",
      "{\"guess\": \"Vietnamese\", \"target\": \"Vietnamese\", \"country\": \"CH\", \"choices\": [\"Bangla\", \"Vietnamese\"], \"sample\": \"a3c1b5cff1d3a77feae50573b7d81881\", \"date\": \"2013-09-03\"}\n",
      "{\"guess\": \"Estonian\", \"target\": \"Punjabi\", \"country\": \"CH\", \"choices\": [\"Estonian\", \"Punjabi\"], \"sample\": \"10ff356faf50696b30f8a58b9dd919b2\", \"date\": \"2013-09-03\"}\n",
      "{\"guess\": \"Italian\", \"target\": \"Italian\", \"country\": \"CH\", \"choices\": [\"Italian\", \"Tagalog\"], \"sample\": \"b64869a674fbf588fa2ace46d717bed6\", \"date\": \"2013-09-03\"}\n",
      "{\"guess\": \"Polish\", \"target\": \"Polish\", \"country\": \"CH\", \"choices\": [\"Polish\", \"Somali\"], \"sample\": \"2268bc4db45078e37d0fd1b2c53eb9c9\", \"date\": \"2013-09-03\"}\n",
      "{\"guess\": \"Arabic\", \"target\": \"Arabic\", \"country\": \"CH\", \"choices\": [\"Arabic\", \"Dinka\"], \"sample\": \"8903e496bf04c3a85a70e1dc5e0da5f1\", \"date\": \"2013-09-03\"}\n",
      "{\"guess\": \"Punjabi\", \"target\": \"Punjabi\", \"country\": \"CH\", \"choices\": [\"Greek\", \"Punjabi\", \"Tigrinya\"], \"sample\": \"d14f8f8b6933e7d9d68104ec7860db77\", \"date\": \"2013-09-03\"}\n",
      "{\"guess\": \"Maltese\", \"target\": \"Bosnian\", \"country\": \"CH\", \"choices\": [\"Bosnian\", \"Dinka\", \"Maltese\"], \"sample\": \"e36a808605adbe2dbdca9c76e5cbfe7c\", \"date\": \"2013-09-03\"}\n",
      "{\"guess\": \"Serbian\", \"target\": \"Serbian\", \"country\": \"CH\", \"choices\": [\"French\", \"Malay\", \"Serbian\"], \"sample\": \"ec4d6dad1be487091ec2b1b63820e329\", \"date\": \"2013-09-03\"}\n",
      "{\"guess\": \"Vietnamese\", \"target\": \"Korean\", \"country\": \"CH\", \"choices\": [\"Korean\", \"Romanian\", \"Vietnamese\"], \"sample\": \"ec371adb75ab6c7431adae3ef8fc9fc9\", \"date\": \"2013-09-03\"}\n",
      "{\"guess\": \"Tongan\", \"target\": \"Vietnamese\", \"country\": \"CH\", \"choices\": [\"Tongan\", \"Vietnamese\"], \"sample\": \"a3c1b5cff1d3a77feae50573b7d81881\", \"date\": \"2013-09-03\"}\n",
      "{\"guess\": \"Hebrew\", \"target\": \"Hebrew\", \"country\": \"CH\", \"choices\": [\"Hebrew\", \"Mandarin\"], \"sample\": \"1dc9a1bf90e4e788906dc716dc18d878\", \"date\": \"2013-09-03\"}\n",
      "{\"guess\": \"Norwegian\", \"target\": \"Norwegian\", \"country\": \"CH\", \"choices\": [\"Mandarin\", \"Norwegian\"], \"sample\": \"4383d59a89ffd10b8e86d93233e01b5f\", \"date\": \"2013-09-03\"}\n",
      "{\"guess\": \"Albanian\", \"target\": \"Bulgarian\", \"country\": \"CH\", \"choices\": [\"Albanian\", \"Bulgarian\"], \"sample\": \"8102c4494405873dd7b8258a97396351\", \"date\": \"2013-09-03\"}\n",
      "{\"guess\": \"German\", \"target\": \"German\", \"country\": \"CH\", \"choices\": [\"Dari\", \"German\"], \"sample\": \"e77d97b712adffc39e531e20237a5589\", \"date\": \"2013-09-03\"}\n",
      "{\"guess\": \"Danish\", \"target\": \"Danish\", \"country\": \"CH\", \"choices\": [\"Danish\", \"Latvian\", \"Urdu\"], \"sample\": \"2ca0534b652c09262b71bced44b4afd7\", \"date\": \"2013-09-03\"}\n",
      "{\"guess\": \"Serbian\", \"target\": \"Serbian\", \"country\": \"CH\", \"choices\": [\"Dinka\", \"Mandarin\", \"Serbian\"], \"sample\": \"ec4d6dad1be487091ec2b1b63820e329\", \"date\": \"2013-09-03\"}\n",
      "{\"guess\": \"Slovak\", \"target\": \"Portuguese\", \"country\": \"CH\", \"choices\": [\"Italian\", \"Portuguese\", \"Slovak\"], \"sample\": \"1d7fea3522c8607f5ec4168b2a5cd206\", \"date\": \"2013-09-03\"}\n",
      "{\"guess\": \"Russian\", \"target\": \"Russian\", \"country\": \"CH\", \"choices\": [\"Russian\", \"Swahili\"], \"sample\": \"8a59d48e99e8a1df7e366c4648095e27\", \"date\": \"2013-09-03\"}\n",
      "{\"guess\": \"Slovak\", \"target\": \"Slovak\", \"country\": \"CH\", \"choices\": [\"Malay\", \"Slovak\"], \"sample\": \"78fbc62aeae4bc4188d2d6a64805d6df\", \"date\": \"2013-09-03\"}\n",
      "{\"guess\": \"Tamil\", \"target\": \"Tamil\", \"country\": \"CH\", \"choices\": [\"Hebrew\", \"Tamil\"], \"sample\": \"7c3fca32ce40e9b07e7b69a7d7191d4d\", \"date\": \"2013-09-03\"}\n",
      "{\"guess\": \"Slovak\", \"target\": \"Slovak\", \"country\": \"CH\", \"choices\": [\"Maori\", \"Russian\", \"Slovak\"], \"sample\": \"2c5efbd7364036976ec403a9ee36f614\", \"date\": \"2013-09-03\"}\n",
      "{\"guess\": \"Polish\", \"target\": \"Polish\", \"country\": \"CH\", \"choices\": [\"Dinka\", \"Polish\", \"Russian\"], \"sample\": \"f1aac78bec424c4d6c716553719b0b70\", \"date\": \"2013-09-03\"}\n",
      "{\"guess\": \"Hebrew\", \"target\": \"Hebrew\", \"country\": \"CH\", \"choices\": [\"Hebrew\", \"Nepali\", \"Slovak\"], \"sample\": \"1dc9a1bf90e4e788906dc716dc18d878\", \"date\": \"2013-09-03\"}\n",
      "{\"guess\": \"Farsi\", \"target\": \"Portuguese\", \"country\": \"CH\", \"choices\": [\"Dinka\", \"Farsi\", \"Portuguese\", \"Urdu\"], \"sample\": \"439672210d1feb96e012590ff2a73590\", \"date\": \"2013-09-03\"}\n",
      "{\"guess\": \"Tagalog\", \"target\": \"Punjabi\", \"country\": \"CH\", \"choices\": [\"Bulgarian\", \"Punjabi\", \"Tagalog\"], \"sample\": \"10ff356faf50696b30f8a58b9dd919b2\", \"date\": \"2013-09-03\"}\n"
     ]
    }
   ],
   "source": [
    "%%rumble\n",
    "for $i in json-file(\"confusion-2014-03-02/confusion-2014-03-02.json\", 10)\n",
    "where $i.country eq \"CH\"\n",
    "return $i"
   ]
  },
  {
   "cell_type": "markdown",
   "metadata": {
    "id": "OG0xJS2KHEF3"
   },
   "source": [
    "### 4.2.2 Get all games played from Switzerland, where the correct answer (target) was \"German\"\n",
    "```sql\n",
    "SELECT *\n",
    "FROM entries\n",
    "WHERE country == \"CH\" AND target == \"German\"\n",
    "```\n",
    "\n",
    "\n"
   ]
  },
  {
   "cell_type": "code",
   "execution_count": 48,
   "metadata": {
    "id": "EuN0WVltHrXl"
   },
   "outputs": [
    {
     "name": "stdout",
     "output_type": "stream",
     "text": [
      "Took: 72.98781085014343 s\n",
      "\"Warning! The output sequence contains 2684 items but its materialization was capped at 200 items. This value can be configured with the result-size parameter in the query string of the HTTP request.\"\n",
      "{\"guess\": \"German\", \"target\": \"German\", \"country\": \"CH\", \"choices\": [\"German\", \"Spanish\"], \"sample\": \"1f8b9a59cd75fc429db54dceb6e0594b\", \"date\": \"2013-09-02\"}\n",
      "{\"guess\": \"German\", \"target\": \"German\", \"country\": \"CH\", \"choices\": [\"Dari\", \"German\"], \"sample\": \"e77d97b712adffc39e531e20237a5589\", \"date\": \"2013-09-03\"}\n",
      "{\"guess\": \"German\", \"target\": \"German\", \"country\": \"CH\", \"choices\": [\"Dari\", \"German\", \"Vietnamese\"], \"sample\": \"78213fa858b9a45d83121a8bf71712d1\", \"date\": \"2013-09-03\"}\n",
      "{\"guess\": \"German\", \"target\": \"German\", \"country\": \"CH\", \"choices\": [\"French\", \"German\", \"Norwegian\", \"Thai\"], \"sample\": \"e77d97b712adffc39e531e20237a5589\", \"date\": \"2013-09-03\"}\n",
      "{\"guess\": \"German\", \"target\": \"German\", \"country\": \"CH\", \"choices\": [\"German\", \"Lao\"], \"sample\": \"e77d97b712adffc39e531e20237a5589\", \"date\": \"2013-09-03\"}\n",
      "{\"guess\": \"German\", \"target\": \"German\", \"country\": \"CH\", \"choices\": [\"German\", \"Kannada\"], \"sample\": \"1f8b9a59cd75fc429db54dceb6e0594b\", \"date\": \"2013-09-03\"}\n",
      "{\"guess\": \"German\", \"target\": \"German\", \"country\": \"CH\", \"choices\": [\"Amharic\", \"German\", \"Mandarin\"], \"sample\": \"78213fa858b9a45d83121a8bf71712d1\", \"date\": \"2013-09-03\"}\n",
      "{\"guess\": \"German\", \"target\": \"German\", \"country\": \"CH\", \"choices\": [\"German\", \"Portuguese\", \"Swedish\"], \"sample\": \"78213fa858b9a45d83121a8bf71712d1\", \"date\": \"2013-09-03\"}\n",
      "{\"guess\": \"Serbian\", \"target\": \"German\", \"country\": \"CH\", \"choices\": [\"German\", \"Serbian\"], \"sample\": \"1f8b9a59cd75fc429db54dceb6e0594b\", \"date\": \"2013-09-03\"}\n",
      "{\"guess\": \"German\", \"target\": \"German\", \"country\": \"CH\", \"choices\": [\"Bosnian\", \"Dinka\", \"German\"], \"sample\": \"78213fa858b9a45d83121a8bf71712d1\", \"date\": \"2013-09-03\"}\n",
      "{\"guess\": \"German\", \"target\": \"German\", \"country\": \"CH\", \"choices\": [\"German\", \"Maltese\"], \"sample\": \"78213fa858b9a45d83121a8bf71712d1\", \"date\": \"2013-09-03\"}\n",
      "{\"guess\": \"German\", \"target\": \"German\", \"country\": \"CH\", \"choices\": [\"German\", \"Serbian\"], \"sample\": \"e77d97b712adffc39e531e20237a5589\", \"date\": \"2013-09-03\"}\n",
      "{\"guess\": \"German\", \"target\": \"German\", \"country\": \"CH\", \"choices\": [\"Amharic\", \"Bulgarian\", \"German\"], \"sample\": \"e77d97b712adffc39e531e20237a5589\", \"date\": \"2013-09-03\"}\n",
      "{\"guess\": \"German\", \"target\": \"German\", \"country\": \"CH\", \"choices\": [\"Burmese\", \"German\", \"Kannada\", \"Slovenian\"], \"sample\": \"78213fa858b9a45d83121a8bf71712d1\", \"date\": \"2013-09-03\"}\n",
      "{\"guess\": \"German\", \"target\": \"German\", \"country\": \"CH\", \"choices\": [\"Armenian\", \"Estonian\", \"German\", \"Kannada\", \"Turkish\"], \"sample\": \"1f8b9a59cd75fc429db54dceb6e0594b\", \"date\": \"2013-09-03\"}\n",
      "{\"guess\": \"German\", \"target\": \"German\", \"country\": \"CH\", \"choices\": [\"Armenian\", \"German\"], \"sample\": \"78213fa858b9a45d83121a8bf71712d1\", \"date\": \"2013-09-03\"}\n",
      "{\"guess\": \"German\", \"target\": \"German\", \"country\": \"CH\", \"choices\": [\"German\", \"Romanian\"], \"sample\": \"78213fa858b9a45d83121a8bf71712d1\", \"date\": \"2013-09-03\"}\n",
      "{\"guess\": \"German\", \"target\": \"German\", \"country\": \"CH\", \"choices\": [\"German\", \"Malayalam\", \"Maori\"], \"sample\": \"78213fa858b9a45d83121a8bf71712d1\", \"date\": \"2013-09-03\"}\n",
      "{\"guess\": \"German\", \"target\": \"German\", \"country\": \"CH\", \"choices\": [\"Armenian\", \"Fijian\", \"German\", \"Indonesian\", \"Tigrinya\"], \"sample\": \"78213fa858b9a45d83121a8bf71712d1\", \"date\": \"2013-09-03\"}\n",
      "{\"guess\": \"German\", \"target\": \"German\", \"country\": \"CH\", \"choices\": [\"Bulgarian\", \"Czech\", \"German\", \"Hungarian\", \"Sinhalese\"], \"sample\": \"78213fa858b9a45d83121a8bf71712d1\", \"date\": \"2013-09-03\"}\n",
      "{\"guess\": \"German\", \"target\": \"German\", \"country\": \"CH\", \"choices\": [\"Fijian\", \"French\", \"German\", \"Indonesian\", \"Serbian\", \"Urdu\", \"Yiddish\"], \"sample\": \"1f8b9a59cd75fc429db54dceb6e0594b\", \"date\": \"2013-09-03\"}\n",
      "{\"guess\": \"German\", \"target\": \"German\", \"country\": \"CH\", \"choices\": [\"German\", \"Macedonian\"], \"sample\": \"78213fa858b9a45d83121a8bf71712d1\", \"date\": \"2013-09-03\"}\n",
      "{\"guess\": \"German\", \"target\": \"German\", \"country\": \"CH\", \"choices\": [\"Czech\", \"German\", \"Tagalog\"], \"sample\": \"e77d97b712adffc39e531e20237a5589\", \"date\": \"2013-09-03\"}\n",
      "{\"guess\": \"German\", \"target\": \"German\", \"country\": \"CH\", \"choices\": [\"German\", \"Hindi\"], \"sample\": \"78213fa858b9a45d83121a8bf71712d1\", \"date\": \"2013-09-03\"}\n",
      "{\"guess\": \"German\", \"target\": \"German\", \"country\": \"CH\", \"choices\": [\"German\", \"Tagalog\"], \"sample\": \"1f8b9a59cd75fc429db54dceb6e0594b\", \"date\": \"2013-09-03\"}\n",
      "{\"guess\": \"German\", \"target\": \"German\", \"country\": \"CH\", \"choices\": [\"German\", \"Thai\", \"Urdu\"], \"sample\": \"e77d97b712adffc39e531e20237a5589\", \"date\": \"2013-09-03\"}\n",
      "{\"guess\": \"German\", \"target\": \"German\", \"country\": \"CH\", \"choices\": [\"Finnish\", \"German\", \"Swahili\"], \"sample\": \"78213fa858b9a45d83121a8bf71712d1\", \"date\": \"2013-09-03\"}\n",
      "{\"guess\": \"German\", \"target\": \"German\", \"country\": \"CH\", \"choices\": [\"Bulgarian\", \"German\", \"Malay\", \"Malayalam\", \"Polish\"], \"sample\": \"e77d97b712adffc39e531e20237a5589\", \"date\": \"2013-09-03\"}\n",
      "{\"guess\": \"German\", \"target\": \"German\", \"country\": \"CH\", \"choices\": [\"Amharic\", \"German\"], \"sample\": \"e77d97b712adffc39e531e20237a5589\", \"date\": \"2013-09-03\"}\n",
      "{\"guess\": \"German\", \"target\": \"German\", \"country\": \"CH\", \"choices\": [\"German\", \"Japanese\", \"Thai\"], \"sample\": \"1f8b9a59cd75fc429db54dceb6e0594b\", \"date\": \"2013-09-03\"}\n",
      "{\"guess\": \"German\", \"target\": \"German\", \"country\": \"CH\", \"choices\": [\"Farsi\", \"German\"], \"sample\": \"1f8b9a59cd75fc429db54dceb6e0594b\", \"date\": \"2013-09-03\"}\n",
      "{\"guess\": \"German\", \"target\": \"German\", \"country\": \"CH\", \"choices\": [\"German\", \"Khmer\", \"Russian\"], \"sample\": \"78213fa858b9a45d83121a8bf71712d1\", \"date\": \"2013-09-03\"}\n",
      "{\"guess\": \"German\", \"target\": \"German\", \"country\": \"CH\", \"choices\": [\"German\", \"Maltese\"], \"sample\": \"e77d97b712adffc39e531e20237a5589\", \"date\": \"2013-09-03\"}\n",
      "{\"guess\": \"German\", \"target\": \"German\", \"country\": \"CH\", \"choices\": [\"German\", \"Swahili\"], \"sample\": \"1f8b9a59cd75fc429db54dceb6e0594b\", \"date\": \"2013-09-03\"}\n",
      "{\"guess\": \"German\", \"target\": \"German\", \"country\": \"CH\", \"choices\": [\"Bulgarian\", \"German\", \"Hungarian\", \"Sinhalese\"], \"sample\": \"78213fa858b9a45d83121a8bf71712d1\", \"date\": \"2013-09-03\"}\n",
      "{\"guess\": \"German\", \"target\": \"German\", \"country\": \"CH\", \"choices\": [\"Czech\", \"German\", \"Indonesian\"], \"sample\": \"78213fa858b9a45d83121a8bf71712d1\", \"date\": \"2013-09-03\"}\n",
      "{\"guess\": \"German\", \"target\": \"German\", \"country\": \"CH\", \"choices\": [\"German\", \"Lao\"], \"sample\": \"e77d97b712adffc39e531e20237a5589\", \"date\": \"2013-09-03\"}\n",
      "{\"guess\": \"German\", \"target\": \"German\", \"country\": \"CH\", \"choices\": [\"Czech\", \"German\", \"Korean\", \"Russian\"], \"sample\": \"1f8b9a59cd75fc429db54dceb6e0594b\", \"date\": \"2013-09-03\"}\n",
      "{\"guess\": \"German\", \"target\": \"German\", \"country\": \"CH\", \"choices\": [\"Burmese\", \"Dinka\", \"French\", \"German\", \"Polish\", \"Sinhalese\", \"Tongan\"], \"sample\": \"78213fa858b9a45d83121a8bf71712d1\", \"date\": \"2013-09-04\"}\n",
      "{\"guess\": \"German\", \"target\": \"German\", \"country\": \"CH\", \"choices\": [\"German\", \"Korean\"], \"sample\": \"78213fa858b9a45d83121a8bf71712d1\", \"date\": \"2013-09-04\"}\n",
      "{\"guess\": \"German\", \"target\": \"German\", \"country\": \"CH\", \"choices\": [\"Finnish\", \"German\", \"Portuguese\"], \"sample\": \"1f8b9a59cd75fc429db54dceb6e0594b\", \"date\": \"2013-09-04\"}\n",
      "{\"guess\": \"German\", \"target\": \"German\", \"country\": \"CH\", \"choices\": [\"Burmese\", \"German\", \"Sinhalese\"], \"sample\": \"e77d97b712adffc39e531e20237a5589\", \"date\": \"2013-09-04\"}\n",
      "{\"guess\": \"German\", \"target\": \"German\", \"country\": \"CH\", \"choices\": [\"Czech\", \"German\", \"Latvian\"], \"sample\": \"78213fa858b9a45d83121a8bf71712d1\", \"date\": \"2013-09-04\"}\n",
      "{\"guess\": \"German\", \"target\": \"German\", \"country\": \"CH\", \"choices\": [\"German\", \"Kurdish\", \"Mandarin\", \"Tagalog\", \"Tamil\"], \"sample\": \"1f8b9a59cd75fc429db54dceb6e0594b\", \"date\": \"2013-09-04\"}\n",
      "{\"guess\": \"German\", \"target\": \"German\", \"country\": \"CH\", \"choices\": [\"German\", \"Romanian\"], \"sample\": \"1f8b9a59cd75fc429db54dceb6e0594b\", \"date\": \"2013-09-04\"}\n",
      "{\"guess\": \"German\", \"target\": \"German\", \"country\": \"CH\", \"choices\": [\"Danish\", \"German\", \"Nepali\", \"Tamil\"], \"sample\": \"e77d97b712adffc39e531e20237a5589\", \"date\": \"2013-09-04\"}\n",
      "{\"guess\": \"German\", \"target\": \"German\", \"country\": \"CH\", \"choices\": [\"Amharic\", \"German\", \"Gujarati\", \"Hindi\", \"Latvian\"], \"sample\": \"78213fa858b9a45d83121a8bf71712d1\", \"date\": \"2013-09-04\"}\n",
      "{\"guess\": \"German\", \"target\": \"German\", \"country\": \"CH\", \"choices\": [\"Danish\", \"German\", \"Japanese\", \"Maltese\"], \"sample\": \"e77d97b712adffc39e531e20237a5589\", \"date\": \"2013-09-04\"}\n",
      "{\"guess\": \"German\", \"target\": \"German\", \"country\": \"CH\", \"choices\": [\"Dari\", \"German\", \"Hebrew\", \"Kannada\", \"Portuguese\"], \"sample\": \"1f8b9a59cd75fc429db54dceb6e0594b\", \"date\": \"2013-09-04\"}\n",
      "{\"guess\": \"German\", \"target\": \"German\", \"country\": \"CH\", \"choices\": [\"Bulgarian\", \"German\"], \"sample\": \"78213fa858b9a45d83121a8bf71712d1\", \"date\": \"2013-09-04\"}\n",
      "{\"guess\": \"German\", \"target\": \"German\", \"country\": \"CH\", \"choices\": [\"French\", \"German\", \"Tongan\"], \"sample\": \"78213fa858b9a45d83121a8bf71712d1\", \"date\": \"2013-09-04\"}\n",
      "{\"guess\": \"German\", \"target\": \"German\", \"country\": \"CH\", \"choices\": [\"German\", \"Gujarati\", \"Vietnamese\"], \"sample\": \"78213fa858b9a45d83121a8bf71712d1\", \"date\": \"2013-09-04\"}\n",
      "{\"guess\": \"German\", \"target\": \"German\", \"country\": \"CH\", \"choices\": [\"Dinka\", \"German\", \"Hungarian\", \"Sinhalese\"], \"sample\": \"1f8b9a59cd75fc429db54dceb6e0594b\", \"date\": \"2013-09-04\"}\n",
      "{\"guess\": \"German\", \"target\": \"German\", \"country\": \"CH\", \"choices\": [\"Armenian\", \"Bosnian\", \"German\", \"Mandarin\", \"Polish\"], \"sample\": \"e77d97b712adffc39e531e20237a5589\", \"date\": \"2013-09-04\"}\n",
      "{\"guess\": \"German\", \"target\": \"German\", \"country\": \"CH\", \"choices\": [\"Bangla\", \"German\", \"Portuguese\", \"Sinhalese\"], \"sample\": \"1f8b9a59cd75fc429db54dceb6e0594b\", \"date\": \"2013-09-04\"}\n",
      "{\"guess\": \"German\", \"target\": \"German\", \"country\": \"CH\", \"choices\": [\"Arabic\", \"Bangla\", \"Cantonese\", \"German\"], \"sample\": \"78213fa858b9a45d83121a8bf71712d1\", \"date\": \"2013-09-04\"}\n",
      "{\"guess\": \"German\", \"target\": \"German\", \"country\": \"CH\", \"choices\": [\"Arabic\", \"German\"], \"sample\": \"e77d97b712adffc39e531e20237a5589\", \"date\": \"2013-09-04\"}\n",
      "{\"guess\": \"German\", \"target\": \"German\", \"country\": \"CH\", \"choices\": [\"German\", \"Romanian\", \"Swahili\"], \"sample\": \"e77d97b712adffc39e531e20237a5589\", \"date\": \"2013-09-04\"}\n",
      "{\"guess\": \"German\", \"target\": \"German\", \"country\": \"CH\", \"choices\": [\"German\", \"Latvian\"], \"sample\": \"78213fa858b9a45d83121a8bf71712d1\", \"date\": \"2013-09-04\"}\n",
      "{\"guess\": \"German\", \"target\": \"German\", \"country\": \"CH\", \"choices\": [\"German\", \"Latvian\", \"Portuguese\"], \"sample\": \"e77d97b712adffc39e531e20237a5589\", \"date\": \"2013-09-04\"}\n",
      "{\"guess\": \"German\", \"target\": \"German\", \"country\": \"CH\", \"choices\": [\"Finnish\", \"German\", \"Somali\", \"Swahili\"], \"sample\": \"1f8b9a59cd75fc429db54dceb6e0594b\", \"date\": \"2013-09-04\"}\n",
      "{\"guess\": \"German\", \"target\": \"German\", \"country\": \"CH\", \"choices\": [\"German\", \"Swedish\"], \"sample\": \"e77d97b712adffc39e531e20237a5589\", \"date\": \"2013-09-04\"}\n",
      "{\"guess\": \"German\", \"target\": \"German\", \"country\": \"CH\", \"choices\": [\"German\", \"Gujarati\", \"Mandarin\"], \"sample\": \"78213fa858b9a45d83121a8bf71712d1\", \"date\": \"2013-09-04\"}\n",
      "{\"guess\": \"German\", \"target\": \"German\", \"country\": \"CH\", \"choices\": [\"German\", \"Tongan\"], \"sample\": \"e77d97b712adffc39e531e20237a5589\", \"date\": \"2013-09-04\"}\n",
      "{\"guess\": \"German\", \"target\": \"German\", \"country\": \"CH\", \"choices\": [\"German\", \"Macedonian\", \"Portuguese\"], \"sample\": \"1f8b9a59cd75fc429db54dceb6e0594b\", \"date\": \"2013-09-04\"}\n",
      "{\"guess\": \"German\", \"target\": \"German\", \"country\": \"CH\", \"choices\": [\"Dinka\", \"German\", \"Polish\", \"Ukrainian\"], \"sample\": \"1f8b9a59cd75fc429db54dceb6e0594b\", \"date\": \"2013-09-04\"}\n",
      "{\"guess\": \"German\", \"target\": \"German\", \"country\": \"CH\", \"choices\": [\"German\", \"Vietnamese\"], \"sample\": \"e77d97b712adffc39e531e20237a5589\", \"date\": \"2013-09-04\"}\n",
      "{\"guess\": \"German\", \"target\": \"German\", \"country\": \"CH\", \"choices\": [\"German\", \"Hebrew\", \"Khmer\", \"Kurdish\"], \"sample\": \"1f8b9a59cd75fc429db54dceb6e0594b\", \"date\": \"2013-09-04\"}\n",
      "{\"guess\": \"German\", \"target\": \"German\", \"country\": \"CH\", \"choices\": [\"German\", \"Kannada\", \"Sinhalese\"], \"sample\": \"e77d97b712adffc39e531e20237a5589\", \"date\": \"2013-09-04\"}\n",
      "{\"guess\": \"German\", \"target\": \"German\", \"country\": \"CH\", \"choices\": [\"Bulgarian\", \"German\"], \"sample\": \"e77d97b712adffc39e531e20237a5589\", \"date\": \"2013-09-04\"}\n",
      "{\"guess\": \"German\", \"target\": \"German\", \"country\": \"CH\", \"choices\": [\"Dutch\", \"German\", \"Kurdish\"], \"sample\": \"78213fa858b9a45d83121a8bf71712d1\", \"date\": \"2013-09-04\"}\n",
      "{\"guess\": \"German\", \"target\": \"German\", \"country\": \"CH\", \"choices\": [\"German\", \"Kurdish\"], \"sample\": \"78213fa858b9a45d83121a8bf71712d1\", \"date\": \"2013-09-04\"}\n",
      "{\"guess\": \"German\", \"target\": \"German\", \"country\": \"CH\", \"choices\": [\"Danish\", \"German\"], \"sample\": \"1f8b9a59cd75fc429db54dceb6e0594b\", \"date\": \"2013-09-04\"}\n",
      "{\"guess\": \"German\", \"target\": \"German\", \"country\": \"CH\", \"choices\": [\"German\", \"Italian\", \"Spanish\"], \"sample\": \"78213fa858b9a45d83121a8bf71712d1\", \"date\": \"2013-09-04\"}\n",
      "{\"guess\": \"German\", \"target\": \"German\", \"country\": \"CH\", \"choices\": [\"German\", \"Indonesian\", \"Macedonian\", \"Slovenian\"], \"sample\": \"78213fa858b9a45d83121a8bf71712d1\", \"date\": \"2013-09-04\"}\n",
      "{\"guess\": \"German\", \"target\": \"German\", \"country\": \"CH\", \"choices\": [\"German\", \"Indonesian\"], \"sample\": \"78213fa858b9a45d83121a8bf71712d1\", \"date\": \"2013-09-04\"}\n",
      "{\"guess\": \"German\", \"target\": \"German\", \"country\": \"CH\", \"choices\": [\"German\", \"Tongan\"], \"sample\": \"1f8b9a59cd75fc429db54dceb6e0594b\", \"date\": \"2013-09-04\"}\n",
      "{\"guess\": \"German\", \"target\": \"German\", \"country\": \"CH\", \"choices\": [\"German\", \"Mandarin\"], \"sample\": \"78213fa858b9a45d83121a8bf71712d1\", \"date\": \"2013-09-04\"}\n",
      "{\"guess\": \"German\", \"target\": \"German\", \"country\": \"CH\", \"choices\": [\"German\", \"Hebrew\"], \"sample\": \"1f8b9a59cd75fc429db54dceb6e0594b\", \"date\": \"2013-09-04\"}\n",
      "{\"guess\": \"German\", \"target\": \"German\", \"country\": \"CH\", \"choices\": [\"German\", \"Italian\", \"Macedonian\", \"Mandarin\"], \"sample\": \"1f8b9a59cd75fc429db54dceb6e0594b\", \"date\": \"2013-09-04\"}\n",
      "{\"guess\": \"German\", \"target\": \"German\", \"country\": \"CH\", \"choices\": [\"Bulgarian\", \"Czech\", \"German\", \"Samoan\"], \"sample\": \"78213fa858b9a45d83121a8bf71712d1\", \"date\": \"2013-09-04\"}\n",
      "{\"guess\": \"German\", \"target\": \"German\", \"country\": \"CH\", \"choices\": [\"German\", \"Malay\"], \"sample\": \"78213fa858b9a45d83121a8bf71712d1\", \"date\": \"2013-09-04\"}\n",
      "{\"guess\": \"German\", \"target\": \"German\", \"country\": \"CH\", \"choices\": [\"German\", \"Polish\", \"Tagalog\", \"Tamil\"], \"sample\": \"1f8b9a59cd75fc429db54dceb6e0594b\", \"date\": \"2013-09-04\"}\n",
      "{\"guess\": \"German\", \"target\": \"German\", \"country\": \"CH\", \"choices\": [\"German\", \"Maltese\"], \"sample\": \"e77d97b712adffc39e531e20237a5589\", \"date\": \"2013-09-04\"}\n",
      "{\"guess\": \"German\", \"target\": \"German\", \"country\": \"CH\", \"choices\": [\"German\", \"Slovenian\"], \"sample\": \"1f8b9a59cd75fc429db54dceb6e0594b\", \"date\": \"2013-09-04\"}\n",
      "{\"guess\": \"German\", \"target\": \"German\", \"country\": \"CH\", \"choices\": [\"Assyrian\", \"Dutch\", \"German\", \"Punjabi\", \"Serbian\", \"Tongan\"], \"sample\": \"1f8b9a59cd75fc429db54dceb6e0594b\", \"date\": \"2013-09-04\"}\n",
      "{\"guess\": \"German\", \"target\": \"German\", \"country\": \"CH\", \"choices\": [\"German\", \"Gujarati\", \"Tongan\"], \"sample\": \"1f8b9a59cd75fc429db54dceb6e0594b\", \"date\": \"2013-09-04\"}\n",
      "{\"guess\": \"German\", \"target\": \"German\", \"country\": \"CH\", \"choices\": [\"Bosnian\", \"Czech\", \"Finnish\", \"German\", \"Gujarati\", \"Samoan\", \"Sinhalese\"], \"sample\": \"e77d97b712adffc39e531e20237a5589\", \"date\": \"2013-09-04\"}\n",
      "{\"guess\": \"German\", \"target\": \"German\", \"country\": \"CH\", \"choices\": [\"Burmese\", \"German\", \"Somali\", \"Spanish\"], \"sample\": \"78213fa858b9a45d83121a8bf71712d1\", \"date\": \"2013-09-04\"}\n",
      "{\"guess\": \"German\", \"target\": \"German\", \"country\": \"CH\", \"choices\": [\"German\", \"Yiddish\"], \"sample\": \"78213fa858b9a45d83121a8bf71712d1\", \"date\": \"2013-09-04\"}\n",
      "{\"guess\": \"German\", \"target\": \"German\", \"country\": \"CH\", \"choices\": [\"Czech\", \"German\", \"Greek\"], \"sample\": \"1f8b9a59cd75fc429db54dceb6e0594b\", \"date\": \"2013-09-04\"}\n",
      "{\"guess\": \"German\", \"target\": \"German\", \"country\": \"CH\", \"choices\": [\"Armenian\", \"German\"], \"sample\": \"1f8b9a59cd75fc429db54dceb6e0594b\", \"date\": \"2013-09-04\"}\n",
      "{\"guess\": \"German\", \"target\": \"German\", \"country\": \"CH\", \"choices\": [\"German\", \"Greek\", \"Japanese\"], \"sample\": \"1f8b9a59cd75fc429db54dceb6e0594b\", \"date\": \"2013-09-04\"}\n",
      "{\"guess\": \"German\", \"target\": \"German\", \"country\": \"CH\", \"choices\": [\"German\", \"Ukrainian\"], \"sample\": \"78213fa858b9a45d83121a8bf71712d1\", \"date\": \"2013-09-04\"}\n",
      "{\"guess\": \"German\", \"target\": \"German\", \"country\": \"CH\", \"choices\": [\"Fijian\", \"German\", \"Korean\", \"Samoan\"], \"sample\": \"e77d97b712adffc39e531e20237a5589\", \"date\": \"2013-09-04\"}\n",
      "{\"guess\": \"German\", \"target\": \"German\", \"country\": \"CH\", \"choices\": [\"German\", \"Kurdish\", \"Punjabi\", \"Romanian\", \"Russian\", \"Samoan\"], \"sample\": \"78213fa858b9a45d83121a8bf71712d1\", \"date\": \"2013-09-04\"}\n",
      "{\"guess\": \"German\", \"target\": \"German\", \"country\": \"CH\", \"choices\": [\"Albanian\", \"German\", \"Slovenian\"], \"sample\": \"1f8b9a59cd75fc429db54dceb6e0594b\", \"date\": \"2013-09-04\"}\n",
      "{\"guess\": \"German\", \"target\": \"German\", \"country\": \"CH\", \"choices\": [\"Cantonese\", \"German\", \"Kurdish\", \"Macedonian\", \"Swedish\"], \"sample\": \"1f8b9a59cd75fc429db54dceb6e0594b\", \"date\": \"2013-09-04\"}\n",
      "{\"guess\": \"German\", \"target\": \"German\", \"country\": \"CH\", \"choices\": [\"Cantonese\", \"Farsi\", \"German\", \"Khmer\", \"Nepali\"], \"sample\": \"e77d97b712adffc39e531e20237a5589\", \"date\": \"2013-09-04\"}\n",
      "{\"guess\": \"German\", \"target\": \"German\", \"country\": \"CH\", \"choices\": [\"Finnish\", \"German\", \"Italian\", \"Kannada\"], \"sample\": \"78213fa858b9a45d83121a8bf71712d1\", \"date\": \"2013-09-04\"}\n",
      "{\"guess\": \"German\", \"target\": \"German\", \"country\": \"CH\", \"choices\": [\"Dinka\", \"German\", \"Italian\", \"Korean\"], \"sample\": \"e77d97b712adffc39e531e20237a5589\", \"date\": \"2013-09-04\"}\n",
      "{\"guess\": \"German\", \"target\": \"German\", \"country\": \"CH\", \"choices\": [\"German\", \"Italian\"], \"sample\": \"1f8b9a59cd75fc429db54dceb6e0594b\", \"date\": \"2013-09-04\"}\n",
      "{\"guess\": \"German\", \"target\": \"German\", \"country\": \"CH\", \"choices\": [\"Danish\", \"German\", \"Romanian\"], \"sample\": \"1f8b9a59cd75fc429db54dceb6e0594b\", \"date\": \"2013-09-04\"}\n",
      "{\"guess\": \"German\", \"target\": \"German\", \"country\": \"CH\", \"choices\": [\"German\", \"Gujarati\", \"Samoan\"], \"sample\": \"78213fa858b9a45d83121a8bf71712d1\", \"date\": \"2013-09-04\"}\n",
      "{\"guess\": \"Macedonian\", \"target\": \"German\", \"country\": \"CH\", \"choices\": [\"Finnish\", \"German\", \"Macedonian\"], \"sample\": \"e77d97b712adffc39e531e20237a5589\", \"date\": \"2013-09-04\"}\n",
      "{\"guess\": \"German\", \"target\": \"German\", \"country\": \"CH\", \"choices\": [\"Finnish\", \"German\", \"Slovak\"], \"sample\": \"1f8b9a59cd75fc429db54dceb6e0594b\", \"date\": \"2013-09-04\"}\n",
      "{\"guess\": \"German\", \"target\": \"German\", \"country\": \"CH\", \"choices\": [\"Assyrian\", \"German\", \"Polish\"], \"sample\": \"78213fa858b9a45d83121a8bf71712d1\", \"date\": \"2013-09-04\"}\n",
      "{\"guess\": \"German\", \"target\": \"German\", \"country\": \"CH\", \"choices\": [\"Amharic\", \"German\", \"Hungarian\"], \"sample\": \"78213fa858b9a45d83121a8bf71712d1\", \"date\": \"2013-09-04\"}\n",
      "{\"guess\": \"German\", \"target\": \"German\", \"country\": \"CH\", \"choices\": [\"Amharic\", \"German\", \"Hindi\", \"Latvian\"], \"sample\": \"e77d97b712adffc39e531e20237a5589\", \"date\": \"2013-09-04\"}\n",
      "{\"guess\": \"German\", \"target\": \"German\", \"country\": \"CH\", \"choices\": [\"German\", \"Italian\", \"Macedonian\", \"Norwegian\", \"Tamil\"], \"sample\": \"78213fa858b9a45d83121a8bf71712d1\", \"date\": \"2013-09-04\"}\n",
      "{\"guess\": \"German\", \"target\": \"German\", \"country\": \"CH\", \"choices\": [\"German\", \"Lao\", \"Ukrainian\"], \"sample\": \"1f8b9a59cd75fc429db54dceb6e0594b\", \"date\": \"2013-09-04\"}\n",
      "{\"guess\": \"German\", \"target\": \"German\", \"country\": \"CH\", \"choices\": [\"German\", \"Romanian\", \"Swedish\"], \"sample\": \"1f8b9a59cd75fc429db54dceb6e0594b\", \"date\": \"2013-09-04\"}\n",
      "{\"guess\": \"German\", \"target\": \"German\", \"country\": \"CH\", \"choices\": [\"German\", \"Maltese\", \"Serbian\", \"Ukrainian\"], \"sample\": \"78213fa858b9a45d83121a8bf71712d1\", \"date\": \"2013-09-04\"}\n",
      "{\"guess\": \"German\", \"target\": \"German\", \"country\": \"CH\", \"choices\": [\"Bosnian\", \"Fijian\", \"German\", \"Portuguese\", \"Slovak\"], \"sample\": \"78213fa858b9a45d83121a8bf71712d1\", \"date\": \"2013-09-04\"}\n",
      "{\"guess\": \"German\", \"target\": \"German\", \"country\": \"CH\", \"choices\": [\"Estonian\", \"Farsi\", \"German\", \"Greek\", \"Hindi\"], \"sample\": \"e77d97b712adffc39e531e20237a5589\", \"date\": \"2013-09-04\"}\n",
      "{\"guess\": \"German\", \"target\": \"German\", \"country\": \"CH\", \"choices\": [\"German\", \"Korean\", \"Romanian\", \"Swahili\", \"Yiddish\"], \"sample\": \"1f8b9a59cd75fc429db54dceb6e0594b\", \"date\": \"2013-09-04\"}\n",
      "{\"guess\": \"German\", \"target\": \"German\", \"country\": \"CH\", \"choices\": [\"German\", \"Hindi\", \"Romanian\", \"Swahili\"], \"sample\": \"1f8b9a59cd75fc429db54dceb6e0594b\", \"date\": \"2013-09-04\"}\n",
      "{\"guess\": \"German\", \"target\": \"German\", \"country\": \"CH\", \"choices\": [\"Assyrian\", \"Danish\", \"Dari\", \"German\", \"Macedonian\", \"Tamil\"], \"sample\": \"1f8b9a59cd75fc429db54dceb6e0594b\", \"date\": \"2013-09-04\"}\n",
      "{\"guess\": \"German\", \"target\": \"German\", \"country\": \"CH\", \"choices\": [\"German\", \"Khmer\", \"Lao\", \"Macedonian\"], \"sample\": \"1f8b9a59cd75fc429db54dceb6e0594b\", \"date\": \"2013-09-04\"}\n",
      "{\"guess\": \"German\", \"target\": \"German\", \"country\": \"CH\", \"choices\": [\"Bulgarian\", \"Burmese\", \"Czech\", \"German\"], \"sample\": \"1f8b9a59cd75fc429db54dceb6e0594b\", \"date\": \"2013-09-04\"}\n",
      "{\"guess\": \"German\", \"target\": \"German\", \"country\": \"CH\", \"choices\": [\"Albanian\", \"Amharic\", \"German\", \"Polish\"], \"sample\": \"1f8b9a59cd75fc429db54dceb6e0594b\", \"date\": \"2013-09-04\"}\n",
      "{\"guess\": \"German\", \"target\": \"German\", \"country\": \"CH\", \"choices\": [\"Czech\", \"German\", \"Tongan\"], \"sample\": \"1f8b9a59cd75fc429db54dceb6e0594b\", \"date\": \"2013-09-04\"}\n",
      "{\"guess\": \"German\", \"target\": \"German\", \"country\": \"CH\", \"choices\": [\"German\", \"Ukrainian\"], \"sample\": \"78213fa858b9a45d83121a8bf71712d1\", \"date\": \"2013-09-04\"}\n",
      "{\"guess\": \"German\", \"target\": \"German\", \"country\": \"CH\", \"choices\": [\"German\", \"Mandarin\"], \"sample\": \"1f8b9a59cd75fc429db54dceb6e0594b\", \"date\": \"2013-09-04\"}\n",
      "{\"guess\": \"German\", \"target\": \"German\", \"country\": \"CH\", \"choices\": [\"German\", \"Greek\"], \"sample\": \"e77d97b712adffc39e531e20237a5589\", \"date\": \"2013-09-04\"}\n",
      "{\"guess\": \"German\", \"target\": \"German\", \"country\": \"CH\", \"choices\": [\"German\", \"Swahili\"], \"sample\": \"1f8b9a59cd75fc429db54dceb6e0594b\", \"date\": \"2013-09-04\"}\n",
      "{\"guess\": \"German\", \"target\": \"German\", \"country\": \"CH\", \"choices\": [\"Dutch\", \"German\", \"Macedonian\"], \"sample\": \"1f8b9a59cd75fc429db54dceb6e0594b\", \"date\": \"2013-09-04\"}\n",
      "{\"guess\": \"German\", \"target\": \"German\", \"country\": \"CH\", \"choices\": [\"German\", \"Slovenian\"], \"sample\": \"e77d97b712adffc39e531e20237a5589\", \"date\": \"2013-09-04\"}\n",
      "{\"guess\": \"German\", \"target\": \"German\", \"country\": \"CH\", \"choices\": [\"Bosnian\", \"Bulgarian\", \"Farsi\", \"German\", \"Tagalog\", \"Vietnamese\"], \"sample\": \"e77d97b712adffc39e531e20237a5589\", \"date\": \"2013-09-04\"}\n",
      "{\"guess\": \"German\", \"target\": \"German\", \"country\": \"CH\", \"choices\": [\"Cantonese\", \"German\", \"Kurdish\", \"Lao\"], \"sample\": \"e77d97b712adffc39e531e20237a5589\", \"date\": \"2013-09-04\"}\n",
      "{\"guess\": \"German\", \"target\": \"German\", \"country\": \"CH\", \"choices\": [\"Armenian\", \"German\", \"Mandarin\"], \"sample\": \"e77d97b712adffc39e531e20237a5589\", \"date\": \"2013-09-04\"}\n",
      "{\"guess\": \"German\", \"target\": \"German\", \"country\": \"CH\", \"choices\": [\"German\", \"Greek\", \"Macedonian\", \"Malayalam\", \"Slovak\"], \"sample\": \"1f8b9a59cd75fc429db54dceb6e0594b\", \"date\": \"2013-09-04\"}\n",
      "{\"guess\": \"German\", \"target\": \"German\", \"country\": \"CH\", \"choices\": [\"German\", \"Hebrew\", \"Maltese\"], \"sample\": \"1f8b9a59cd75fc429db54dceb6e0594b\", \"date\": \"2013-09-04\"}\n",
      "{\"guess\": \"German\", \"target\": \"German\", \"country\": \"CH\", \"choices\": [\"Croatian\", \"German\", \"Korean\", \"Latvian\"], \"sample\": \"e77d97b712adffc39e531e20237a5589\", \"date\": \"2013-09-04\"}\n",
      "{\"guess\": \"German\", \"target\": \"German\", \"country\": \"CH\", \"choices\": [\"Arabic\", \"Estonian\", \"German\", \"Nepali\"], \"sample\": \"e77d97b712adffc39e531e20237a5589\", \"date\": \"2013-09-04\"}\n",
      "{\"guess\": \"German\", \"target\": \"German\", \"country\": \"CH\", \"choices\": [\"Farsi\", \"German\", \"Khmer\"], \"sample\": \"78213fa858b9a45d83121a8bf71712d1\", \"date\": \"2013-09-04\"}\n",
      "{\"guess\": \"German\", \"target\": \"German\", \"country\": \"CH\", \"choices\": [\"Cantonese\", \"German\", \"Macedonian\", \"Sinhalese\", \"Slovak\"], \"sample\": \"e77d97b712adffc39e531e20237a5589\", \"date\": \"2013-09-04\"}\n",
      "{\"guess\": \"German\", \"target\": \"German\", \"country\": \"CH\", \"choices\": [\"German\", \"Polish\"], \"sample\": \"e77d97b712adffc39e531e20237a5589\", \"date\": \"2013-09-04\"}\n",
      "{\"guess\": \"German\", \"target\": \"German\", \"country\": \"CH\", \"choices\": [\"German\", \"Norwegian\"], \"sample\": \"78213fa858b9a45d83121a8bf71712d1\", \"date\": \"2013-09-04\"}\n",
      "{\"guess\": \"German\", \"target\": \"German\", \"country\": \"CH\", \"choices\": [\"Cantonese\", \"Croatian\", \"German\", \"Nepali\"], \"sample\": \"1f8b9a59cd75fc429db54dceb6e0594b\", \"date\": \"2013-09-04\"}\n",
      "{\"guess\": \"German\", \"target\": \"German\", \"country\": \"CH\", \"choices\": [\"Armenian\", \"Croatian\", \"German\"], \"sample\": \"78213fa858b9a45d83121a8bf71712d1\", \"date\": \"2013-09-04\"}\n",
      "{\"guess\": \"German\", \"target\": \"German\", \"country\": \"CH\", \"choices\": [\"German\", \"Greek\", \"Russian\"], \"sample\": \"e77d97b712adffc39e531e20237a5589\", \"date\": \"2013-09-04\"}\n",
      "{\"guess\": \"German\", \"target\": \"German\", \"country\": \"CH\", \"choices\": [\"Amharic\", \"Farsi\", \"German\", \"Punjabi\"], \"sample\": \"e77d97b712adffc39e531e20237a5589\", \"date\": \"2013-09-04\"}\n",
      "{\"guess\": \"German\", \"target\": \"German\", \"country\": \"CH\", \"choices\": [\"German\", \"Hindi\", \"Romanian\"], \"sample\": \"1f8b9a59cd75fc429db54dceb6e0594b\", \"date\": \"2013-09-04\"}\n",
      "{\"guess\": \"German\", \"target\": \"German\", \"country\": \"CH\", \"choices\": [\"German\", \"Norwegian\"], \"sample\": \"78213fa858b9a45d83121a8bf71712d1\", \"date\": \"2013-09-04\"}\n",
      "{\"guess\": \"German\", \"target\": \"German\", \"country\": \"CH\", \"choices\": [\"German\", \"Somali\", \"Tongan\"], \"sample\": \"e77d97b712adffc39e531e20237a5589\", \"date\": \"2013-09-04\"}\n",
      "{\"guess\": \"German\", \"target\": \"German\", \"country\": \"CH\", \"choices\": [\"German\", \"Mandarin\", \"Vietnamese\"], \"sample\": \"1f8b9a59cd75fc429db54dceb6e0594b\", \"date\": \"2013-09-04\"}\n",
      "{\"guess\": \"German\", \"target\": \"German\", \"country\": \"CH\", \"choices\": [\"Dutch\", \"German\", \"Kannada\", \"Serbian\"], \"sample\": \"1f8b9a59cd75fc429db54dceb6e0594b\", \"date\": \"2013-09-04\"}\n",
      "{\"guess\": \"German\", \"target\": \"German\", \"country\": \"CH\", \"choices\": [\"Armenian\", \"German\"], \"sample\": \"1f8b9a59cd75fc429db54dceb6e0594b\", \"date\": \"2013-09-04\"}\n",
      "{\"guess\": \"German\", \"target\": \"German\", \"country\": \"CH\", \"choices\": [\"Armenian\", \"German\", \"Latvian\", \"Macedonian\", \"Somali\", \"Spanish\", \"Swedish\"], \"sample\": \"1f8b9a59cd75fc429db54dceb6e0594b\", \"date\": \"2013-09-04\"}\n",
      "{\"guess\": \"German\", \"target\": \"German\", \"country\": \"CH\", \"choices\": [\"Albanian\", \"Estonian\", \"German\", \"Tongan\"], \"sample\": \"78213fa858b9a45d83121a8bf71712d1\", \"date\": \"2013-09-04\"}\n",
      "{\"guess\": \"German\", \"target\": \"German\", \"country\": \"CH\", \"choices\": [\"German\", \"Kurdish\", \"Nepali\", \"Tagalog\"], \"sample\": \"1f8b9a59cd75fc429db54dceb6e0594b\", \"date\": \"2013-09-04\"}\n",
      "{\"guess\": \"German\", \"target\": \"German\", \"country\": \"CH\", \"choices\": [\"German\", \"Romanian\", \"Swahili\"], \"sample\": \"78213fa858b9a45d83121a8bf71712d1\", \"date\": \"2013-09-04\"}\n",
      "{\"guess\": \"German\", \"target\": \"German\", \"country\": \"CH\", \"choices\": [\"German\", \"Japanese\"], \"sample\": \"e77d97b712adffc39e531e20237a5589\", \"date\": \"2013-09-04\"}\n",
      "{\"guess\": \"German\", \"target\": \"German\", \"country\": \"CH\", \"choices\": [\"Bulgarian\", \"Finnish\", \"German\", \"Maltese\"], \"sample\": \"1f8b9a59cd75fc429db54dceb6e0594b\", \"date\": \"2013-09-04\"}\n",
      "{\"guess\": \"German\", \"target\": \"German\", \"country\": \"CH\", \"choices\": [\"German\", \"Norwegian\"], \"sample\": \"1f8b9a59cd75fc429db54dceb6e0594b\", \"date\": \"2013-09-04\"}\n",
      "{\"guess\": \"German\", \"target\": \"German\", \"country\": \"CH\", \"choices\": [\"German\", \"Hungarian\"], \"sample\": \"78213fa858b9a45d83121a8bf71712d1\", \"date\": \"2013-09-04\"}\n",
      "{\"guess\": \"German\", \"target\": \"German\", \"country\": \"CH\", \"choices\": [\"German\", \"Mandarin\"], \"sample\": \"1f8b9a59cd75fc429db54dceb6e0594b\", \"date\": \"2013-09-04\"}\n",
      "{\"guess\": \"German\", \"target\": \"German\", \"country\": \"CH\", \"choices\": [\"Bangla\", \"German\", \"Indonesian\", \"Lao\", \"Slovenian\"], \"sample\": \"1f8b9a59cd75fc429db54dceb6e0594b\", \"date\": \"2013-09-04\"}\n",
      "{\"guess\": \"German\", \"target\": \"German\", \"country\": \"CH\", \"choices\": [\"Bulgarian\", \"German\", \"Latvian\"], \"sample\": \"e77d97b712adffc39e531e20237a5589\", \"date\": \"2013-09-04\"}\n",
      "{\"guess\": \"German\", \"target\": \"German\", \"country\": \"CH\", \"choices\": [\"Estonian\", \"German\", \"Latvian\"], \"sample\": \"78213fa858b9a45d83121a8bf71712d1\", \"date\": \"2013-09-04\"}\n",
      "{\"guess\": \"German\", \"target\": \"German\", \"country\": \"CH\", \"choices\": [\"Bangla\", \"German\", \"Hindi\", \"Korean\", \"Tagalog\"], \"sample\": \"1f8b9a59cd75fc429db54dceb6e0594b\", \"date\": \"2013-09-04\"}\n",
      "{\"guess\": \"German\", \"target\": \"German\", \"country\": \"CH\", \"choices\": [\"Burmese\", \"German\"], \"sample\": \"78213fa858b9a45d83121a8bf71712d1\", \"date\": \"2013-09-04\"}\n",
      "{\"guess\": \"German\", \"target\": \"German\", \"country\": \"CH\", \"choices\": [\"Burmese\", \"German\", \"Swahili\"], \"sample\": \"1f8b9a59cd75fc429db54dceb6e0594b\", \"date\": \"2013-09-04\"}\n",
      "{\"guess\": \"German\", \"target\": \"German\", \"country\": \"CH\", \"choices\": [\"Amharic\", \"Bulgarian\", \"German\", \"Malay\", \"Thai\", \"Yiddish\"], \"sample\": \"78213fa858b9a45d83121a8bf71712d1\", \"date\": \"2013-09-04\"}\n",
      "{\"guess\": \"German\", \"target\": \"German\", \"country\": \"CH\", \"choices\": [\"Amharic\", \"German\"], \"sample\": \"78213fa858b9a45d83121a8bf71712d1\", \"date\": \"2013-09-04\"}\n",
      "{\"guess\": \"German\", \"target\": \"German\", \"country\": \"CH\", \"choices\": [\"German\", \"Portuguese\"], \"sample\": \"e77d97b712adffc39e531e20237a5589\", \"date\": \"2013-09-04\"}\n",
      "{\"guess\": \"German\", \"target\": \"German\", \"country\": \"CH\", \"choices\": [\"German\", \"Kurdish\", \"Lao\"], \"sample\": \"e77d97b712adffc39e531e20237a5589\", \"date\": \"2013-09-04\"}\n",
      "{\"guess\": \"German\", \"target\": \"German\", \"country\": \"CH\", \"choices\": [\"Farsi\", \"German\"], \"sample\": \"e77d97b712adffc39e531e20237a5589\", \"date\": \"2013-09-04\"}\n",
      "{\"guess\": \"German\", \"target\": \"German\", \"country\": \"CH\", \"choices\": [\"Burmese\", \"German\", \"Greek\", \"Hindi\", \"Spanish\", \"Tagalog\"], \"sample\": \"78213fa858b9a45d83121a8bf71712d1\", \"date\": \"2013-09-04\"}\n",
      "{\"guess\": \"Khmer\", \"target\": \"German\", \"country\": \"CH\", \"choices\": [\"German\", \"Khmer\"], \"sample\": \"78213fa858b9a45d83121a8bf71712d1\", \"date\": \"2013-09-04\"}\n",
      "{\"guess\": \"German\", \"target\": \"German\", \"country\": \"CH\", \"choices\": [\"Burmese\", \"Dari\", \"German\"], \"sample\": \"e77d97b712adffc39e531e20237a5589\", \"date\": \"2013-09-04\"}\n",
      "{\"guess\": \"German\", \"target\": \"German\", \"country\": \"CH\", \"choices\": [\"German\", \"Italian\", \"Swedish\", \"Tigrinya\", \"Turkish\"], \"sample\": \"e77d97b712adffc39e531e20237a5589\", \"date\": \"2013-09-04\"}\n",
      "{\"guess\": \"German\", \"target\": \"German\", \"country\": \"CH\", \"choices\": [\"Fijian\", \"German\", \"Urdu\"], \"sample\": \"e77d97b712adffc39e531e20237a5589\", \"date\": \"2013-09-05\"}\n",
      "{\"guess\": \"German\", \"target\": \"German\", \"country\": \"CH\", \"choices\": [\"Bangla\", \"French\", \"German\", \"Punjabi\", \"Vietnamese\"], \"sample\": \"78213fa858b9a45d83121a8bf71712d1\", \"date\": \"2013-09-05\"}\n",
      "{\"guess\": \"German\", \"target\": \"German\", \"country\": \"CH\", \"choices\": [\"Czech\", \"German\", \"Japanese\", \"Malay\"], \"sample\": \"e77d97b712adffc39e531e20237a5589\", \"date\": \"2013-09-05\"}\n",
      "{\"guess\": \"German\", \"target\": \"German\", \"country\": \"CH\", \"choices\": [\"Assyrian\", \"Bosnian\", \"German\"], \"sample\": \"78213fa858b9a45d83121a8bf71712d1\", \"date\": \"2013-09-05\"}\n",
      "{\"guess\": \"German\", \"target\": \"German\", \"country\": \"CH\", \"choices\": [\"German\", \"Indonesian\"], \"sample\": \"e77d97b712adffc39e531e20237a5589\", \"date\": \"2013-09-05\"}\n",
      "{\"guess\": \"German\", \"target\": \"German\", \"country\": \"CH\", \"choices\": [\"German\", \"Tamil\"], \"sample\": \"e77d97b712adffc39e531e20237a5589\", \"date\": \"2013-09-05\"}\n",
      "{\"guess\": \"German\", \"target\": \"German\", \"country\": \"CH\", \"choices\": [\"Finnish\", \"German\", \"Yiddish\"], \"sample\": \"1f8b9a59cd75fc429db54dceb6e0594b\", \"date\": \"2013-09-05\"}\n",
      "{\"guess\": \"German\", \"target\": \"German\", \"country\": \"CH\", \"choices\": [\"Assyrian\", \"German\", \"Serbian\", \"Spanish\", \"Tamil\"], \"sample\": \"1f8b9a59cd75fc429db54dceb6e0594b\", \"date\": \"2013-09-05\"}\n",
      "{\"guess\": \"German\", \"target\": \"German\", \"country\": \"CH\", \"choices\": [\"German\", \"Japanese\", \"Swahili\", \"Thai\"], \"sample\": \"78213fa858b9a45d83121a8bf71712d1\", \"date\": \"2013-09-05\"}\n",
      "{\"guess\": \"German\", \"target\": \"German\", \"country\": \"CH\", \"choices\": [\"German\", \"Greek\", \"Somali\", \"Tigrinya\"], \"sample\": \"e77d97b712adffc39e531e20237a5589\", \"date\": \"2013-09-05\"}\n",
      "{\"guess\": \"German\", \"target\": \"German\", \"country\": \"CH\", \"choices\": [\"German\", \"Kurdish\", \"Slovak\"], \"sample\": \"e77d97b712adffc39e531e20237a5589\", \"date\": \"2013-09-05\"}\n",
      "{\"guess\": \"German\", \"target\": \"German\", \"country\": \"CH\", \"choices\": [\"German\", \"Macedonian\"], \"sample\": \"e77d97b712adffc39e531e20237a5589\", \"date\": \"2013-09-05\"}\n",
      "{\"guess\": \"German\", \"target\": \"German\", \"country\": \"CH\", \"choices\": [\"Cantonese\", \"Danish\", \"French\", \"German\", \"Malayalam\"], \"sample\": \"1f8b9a59cd75fc429db54dceb6e0594b\", \"date\": \"2013-09-05\"}\n",
      "{\"guess\": \"German\", \"target\": \"German\", \"country\": \"CH\", \"choices\": [\"German\", \"Norwegian\"], \"sample\": \"e77d97b712adffc39e531e20237a5589\", \"date\": \"2013-09-05\"}\n",
      "{\"guess\": \"German\", \"target\": \"German\", \"country\": \"CH\", \"choices\": [\"German\", \"Malay\", \"Norwegian\", \"Turkish\"], \"sample\": \"e77d97b712adffc39e531e20237a5589\", \"date\": \"2013-09-05\"}\n",
      "{\"guess\": \"German\", \"target\": \"German\", \"country\": \"CH\", \"choices\": [\"Dari\", \"German\", \"Kurdish\", \"Norwegian\", \"Portuguese\"], \"sample\": \"1f8b9a59cd75fc429db54dceb6e0594b\", \"date\": \"2013-09-05\"}\n",
      "{\"guess\": \"German\", \"target\": \"German\", \"country\": \"CH\", \"choices\": [\"German\", \"Macedonian\", \"Samoan\"], \"sample\": \"1f8b9a59cd75fc429db54dceb6e0594b\", \"date\": \"2013-09-05\"}\n",
      "{\"guess\": \"German\", \"target\": \"German\", \"country\": \"CH\", \"choices\": [\"Dari\", \"Farsi\", \"German\", \"Polish\", \"Russian\", \"Samoan\", \"Tamil\"], \"sample\": \"78213fa858b9a45d83121a8bf71712d1\", \"date\": \"2013-09-05\"}\n",
      "{\"guess\": \"German\", \"target\": \"German\", \"country\": \"CH\", \"choices\": [\"German\", \"Hebrew\"], \"sample\": \"1f8b9a59cd75fc429db54dceb6e0594b\", \"date\": \"2013-09-05\"}\n",
      "{\"guess\": \"German\", \"target\": \"German\", \"country\": \"CH\", \"choices\": [\"German\", \"Malay\", \"Swahili\"], \"sample\": \"78213fa858b9a45d83121a8bf71712d1\", \"date\": \"2013-09-05\"}\n",
      "{\"guess\": \"German\", \"target\": \"German\", \"country\": \"CH\", \"choices\": [\"Albanian\", \"German\", \"Gujarati\"], \"sample\": \"1f8b9a59cd75fc429db54dceb6e0594b\", \"date\": \"2013-09-05\"}\n",
      "{\"guess\": \"German\", \"target\": \"German\", \"country\": \"CH\", \"choices\": [\"Burmese\", \"German\", \"Italian\"], \"sample\": \"e77d97b712adffc39e531e20237a5589\", \"date\": \"2013-09-05\"}\n",
      "{\"guess\": \"German\", \"target\": \"German\", \"country\": \"CH\", \"choices\": [\"Dinka\", \"German\", \"Maltese\"], \"sample\": \"1f8b9a59cd75fc429db54dceb6e0594b\", \"date\": \"2013-09-05\"}\n",
      "{\"guess\": \"German\", \"target\": \"German\", \"country\": \"CH\", \"choices\": [\"German\", \"Gujarati\", \"Italian\", \"Norwegian\", \"Swahili\", \"Tamil\", \"Urdu\"], \"sample\": \"e77d97b712adffc39e531e20237a5589\", \"date\": \"2013-09-05\"}\n",
      "{\"guess\": \"German\", \"target\": \"German\", \"country\": \"CH\", \"choices\": [\"Dinka\", \"German\"], \"sample\": \"1f8b9a59cd75fc429db54dceb6e0594b\", \"date\": \"2013-09-05\"}\n",
      "{\"guess\": \"German\", \"target\": \"German\", \"country\": \"CH\", \"choices\": [\"Czech\", \"Fijian\", \"German\", \"Kannada\"], \"sample\": \"e77d97b712adffc39e531e20237a5589\", \"date\": \"2013-09-05\"}\n",
      "{\"guess\": \"German\", \"target\": \"German\", \"country\": \"CH\", \"choices\": [\"German\", \"Sinhalese\", \"Tongan\"], \"sample\": \"1f8b9a59cd75fc429db54dceb6e0594b\", \"date\": \"2013-09-05\"}\n"
     ]
    }
   ],
   "source": [
    "%%rumble\n",
    "for $i in json-file(\"confusion-2014-03-02/confusion-2014-03-02.json\", 10)\n",
    "where $i.country eq \"CH\" and $i.target eq \"German\"\n",
    "return $i"
   ]
  },
  {
   "cell_type": "markdown",
   "metadata": {
    "id": "jQycXJuCHHJW"
   },
   "source": [
    "### 4.2.3 Get the top 5 games played from Switzerland, where the correct answer (target) was \"German\"\n",
    "```sql\n",
    "SELECT *\n",
    "FROM entries\n",
    "WHERE country == \"CH\" AND target == \"German\"\n",
    "LIMIT 5\n",
    "```\n",
    "\n",
    "\n"
   ]
  },
  {
   "cell_type": "code",
   "execution_count": 49,
   "metadata": {
    "colab": {
     "base_uri": "https://localhost:8080/"
    },
    "id": "6Brsgs6fHwET",
    "outputId": "5bcdfea1-46c3-4147-c603-844d6e465060"
   },
   "outputs": [
    {
     "name": "stdout",
     "output_type": "stream",
     "text": [
      "Took: 78.40956807136536 s\n",
      "{\"guess\": \"German\", \"target\": \"German\", \"country\": \"CH\", \"choices\": [\"German\", \"Spanish\"], \"sample\": \"1f8b9a59cd75fc429db54dceb6e0594b\", \"date\": \"2013-09-02\"}\n",
      "{\"guess\": \"German\", \"target\": \"German\", \"country\": \"CH\", \"choices\": [\"Dari\", \"German\"], \"sample\": \"e77d97b712adffc39e531e20237a5589\", \"date\": \"2013-09-03\"}\n",
      "{\"guess\": \"German\", \"target\": \"German\", \"country\": \"CH\", \"choices\": [\"Dari\", \"German\", \"Vietnamese\"], \"sample\": \"78213fa858b9a45d83121a8bf71712d1\", \"date\": \"2013-09-03\"}\n",
      "{\"guess\": \"German\", \"target\": \"German\", \"country\": \"CH\", \"choices\": [\"French\", \"German\", \"Norwegian\", \"Thai\"], \"sample\": \"e77d97b712adffc39e531e20237a5589\", \"date\": \"2013-09-03\"}\n",
      "{\"guess\": \"German\", \"target\": \"German\", \"country\": \"CH\", \"choices\": [\"German\", \"Lao\"], \"sample\": \"e77d97b712adffc39e531e20237a5589\", \"date\": \"2013-09-03\"}\n"
     ]
    }
   ],
   "source": [
    "%%rumble\n",
    "let $ch-de_data := for $i in json-file(\"confusion-2014-03-02/confusion-2014-03-02.json\", 10)\n",
    "    where $i.country eq \"CH\" and $i.target eq \"German\"\n",
    "    return $i\n",
    "for $j in $ch-de_data\n",
    "count $c\n",
    "where $c <= 5\n",
    "return $j"
   ]
  },
  {
   "cell_type": "markdown",
   "metadata": {
    "id": "3ivTnfw5HMZz"
   },
   "source": [
    "### 4.2.4 Get all games played from Switzerland, where the correct answer (target) was \"German\", order them by date (ascending), and return the top 5 rows.\n",
    "```sql\n",
    "SELECT *\n",
    "FROM entries\n",
    "WHERE country == \"CH\" AND target == \"German\"\n",
    "ORDER BY date ASC\n",
    "LIMIT 5\n",
    "```\n",
    "\n",
    "\n"
   ]
  },
  {
   "cell_type": "code",
   "execution_count": 50,
   "metadata": {
    "id": "YbI3HF2QH-2x",
    "scrolled": true
   },
   "outputs": [
    {
     "name": "stdout",
     "output_type": "stream",
     "text": [
      "Took: 326.6780438423157 s\n"
     ]
    },
    {
     "data": {
      "text/plain": [
       "'An error has occured: error while calling spill() on org.apache.spark.util.collection.unsafe.sort.UnsafeExternalSorter@6ab7ac44 : No space left on device We should investigate this 🙈. Please contact us or file an issue on GitHub with your query. Link: https://github.com/RumbleDB/rumble/issues'"
      ]
     },
     "execution_count": 50,
     "metadata": {},
     "output_type": "execute_result"
    }
   ],
   "source": [
    "%%rumble\n",
    "let $ch-de_data := for $i in json-file(\"confusion-2014-03-02/confusion-2014-03-02.json\", 10)\n",
    "    order by $i.date ascending\n",
    "    return $i\n",
    "for $j in $ch-de_data\n",
    "count $c\n",
    "where $c <= 5\n",
    "return $j"
   ]
  },
  {
   "cell_type": "markdown",
   "metadata": {
    "id": "sKmgYw_jHPZ3"
   },
   "source": [
    "### 4.2.5 Get all games played from Switzerland, where the correct answer (target) was \"German\", group them by date, and return for each different date the number of games played.\n",
    "\n",
    "```sql\n",
    "SELECT date, COUNT(*) AS num_games\n",
    "FROM entries\n",
    "WHERE country == \"CH\" AND target == \"German\"\n",
    "GROUP BY date\n",
    "```\n"
   ]
  },
  {
   "cell_type": "code",
   "execution_count": 51,
   "metadata": {
    "id": "19hMluehIDVR"
   },
   "outputs": [
    {
     "name": "stdout",
     "output_type": "stream",
     "text": [
      "Took: 81.36013889312744 s\n",
      "{\"date\": \"2013-09-20\", \"num_games\": 16}\n",
      "{\"date\": \"2013-09-23\", \"num_games\": 3}\n",
      "{\"date\": \"2013-11-23\", \"num_games\": 12}\n",
      "{\"date\": \"2013-12-06\", \"num_games\": 5}\n",
      "{\"date\": \"2013-12-09\", \"num_games\": 2}\n",
      "{\"date\": \"2013-09-19\", \"num_games\": 13}\n",
      "{\"date\": \"2013-12-30\", \"num_games\": 11}\n",
      "{\"date\": \"2014-02-28\", \"num_games\": 24}\n",
      "{\"date\": \"2013-10-04\", \"num_games\": 1}\n",
      "{\"date\": \"2013-09-09\", \"num_games\": 32}\n",
      "{\"date\": \"2014-02-18\", \"num_games\": 17}\n",
      "{\"date\": \"2013-10-30\", \"num_games\": 5}\n",
      "{\"date\": \"2014-02-01\", \"num_games\": 2}\n",
      "{\"date\": \"2013-09-29\", \"num_games\": 10}\n",
      "{\"date\": \"2014-02-12\", \"num_games\": 32}\n",
      "{\"date\": \"2014-02-11\", \"num_games\": 47}\n",
      "{\"date\": \"2013-09-15\", \"num_games\": 41}\n",
      "{\"date\": \"2014-02-05\", \"num_games\": 2}\n",
      "{\"date\": \"2013-11-22\", \"num_games\": 7}\n",
      "{\"date\": \"2013-11-28\", \"num_games\": 9}\n",
      "{\"date\": \"2013-11-02\", \"num_games\": 2}\n",
      "{\"date\": \"2013-11-11\", \"num_games\": 2}\n",
      "{\"date\": \"2013-11-10\", \"num_games\": 7}\n",
      "{\"date\": \"2013-09-18\", \"num_games\": 23}\n",
      "{\"date\": \"2013-10-19\", \"num_games\": 8}\n",
      "{\"date\": \"2014-01-29\", \"num_games\": 50}\n",
      "{\"date\": \"2013-09-03\", \"num_games\": 37}\n",
      "{\"date\": \"2013-09-17\", \"num_games\": 38}\n",
      "{\"date\": \"2013-11-27\", \"num_games\": 6}\n",
      "{\"date\": \"2013-10-18\", \"num_games\": 10}\n",
      "{\"date\": \"2013-11-03\", \"num_games\": 2}\n",
      "{\"date\": \"2013-11-05\", \"num_games\": 5}\n",
      "{\"date\": \"2014-02-06\", \"num_games\": 7}\n",
      "{\"date\": \"2014-01-28\", \"num_games\": 20}\n",
      "{\"date\": \"2013-10-16\", \"num_games\": 17}\n",
      "{\"date\": \"2014-02-19\", \"num_games\": 24}\n",
      "{\"date\": \"2013-10-27\", \"num_games\": 9}\n",
      "{\"date\": \"2013-12-05\", \"num_games\": 2}\n",
      "{\"date\": \"2013-09-21\", \"num_games\": 6}\n",
      "{\"date\": \"2013-10-12\", \"num_games\": 2}\n",
      "{\"date\": \"2013-10-23\", \"num_games\": 8}\n",
      "{\"date\": \"2014-02-07\", \"num_games\": 228}\n",
      "{\"date\": \"2013-09-05\", \"num_games\": 60}\n",
      "{\"date\": \"2013-09-27\", \"num_games\": 15}\n",
      "{\"date\": \"2013-10-10\", \"num_games\": 11}\n",
      "{\"date\": \"2014-02-15\", \"num_games\": 31}\n",
      "{\"date\": \"2013-10-05\", \"num_games\": 3}\n",
      "{\"date\": \"2014-02-16\", \"num_games\": 25}\n",
      "{\"date\": \"2014-02-23\", \"num_games\": 12}\n",
      "{\"date\": \"2013-11-07\", \"num_games\": 15}\n",
      "{\"date\": \"2013-09-25\", \"num_games\": 5}\n",
      "{\"date\": \"2014-01-14\", \"num_games\": 3}\n",
      "{\"date\": \"2013-09-12\", \"num_games\": 37}\n",
      "{\"date\": \"2013-10-13\", \"num_games\": 8}\n",
      "{\"date\": \"2013-11-01\", \"num_games\": 6}\n",
      "{\"date\": \"2013-11-06\", \"num_games\": 13}\n",
      "{\"date\": \"2013-12-23\", \"num_games\": 2}\n",
      "{\"date\": \"2014-01-26\", \"num_games\": 12}\n",
      "{\"date\": \"2013-10-29\", \"num_games\": 2}\n",
      "{\"date\": \"2013-11-19\", \"num_games\": 36}\n",
      "{\"date\": \"2014-02-27\", \"num_games\": 9}\n",
      "{\"date\": \"2013-09-06\", \"num_games\": 65}\n",
      "{\"date\": \"2013-12-07\", \"num_games\": 2}\n",
      "{\"date\": \"2013-12-14\", \"num_games\": 2}\n",
      "{\"date\": \"2013-09-26\", \"num_games\": 6}\n",
      "{\"date\": \"2013-12-11\", \"num_games\": 4}\n",
      "{\"date\": \"2013-11-18\", \"num_games\": 55}\n",
      "{\"date\": \"2014-01-22\", \"num_games\": 2}\n",
      "{\"date\": \"2014-01-01\", \"num_games\": 5}\n",
      "{\"date\": \"2014-01-09\", \"num_games\": 4}\n",
      "{\"date\": \"2013-10-11\", \"num_games\": 17}\n",
      "{\"date\": \"2013-10-25\", \"num_games\": 12}\n",
      "{\"date\": \"2013-12-18\", \"num_games\": 2}\n",
      "{\"date\": \"2013-11-08\", \"num_games\": 3}\n",
      "{\"date\": \"2013-11-20\", \"num_games\": 14}\n",
      "{\"date\": \"2014-01-07\", \"num_games\": 5}\n",
      "{\"date\": \"2013-09-14\", \"num_games\": 26}\n",
      "{\"date\": \"2013-10-21\", \"num_games\": 6}\n",
      "{\"date\": \"2013-10-02\", \"num_games\": 8}\n",
      "{\"date\": \"2014-01-24\", \"num_games\": 9}\n",
      "{\"date\": \"2013-09-11\", \"num_games\": 34}\n",
      "{\"date\": \"2013-12-08\", \"num_games\": 4}\n",
      "{\"date\": \"2014-01-11\", \"num_games\": 6}\n",
      "{\"date\": \"2014-01-27\", \"num_games\": 16}\n",
      "{\"date\": \"2013-11-16\", \"num_games\": 5}\n",
      "{\"date\": \"2014-02-13\", \"num_games\": 100}\n",
      "{\"date\": \"2013-11-29\", \"num_games\": 5}\n",
      "{\"date\": \"2014-01-10\", \"num_games\": 6}\n",
      "{\"date\": \"2014-01-19\", \"num_games\": 9}\n",
      "{\"date\": \"2013-10-31\", \"num_games\": 10}\n",
      "{\"date\": \"2013-11-13\", \"num_games\": 10}\n",
      "{\"date\": \"2014-01-02\", \"num_games\": 3}\n",
      "{\"date\": \"2013-09-28\", \"num_games\": 12}\n",
      "{\"date\": \"2014-02-14\", \"num_games\": 46}\n",
      "{\"date\": \"2014-01-13\", \"num_games\": 4}\n",
      "{\"date\": \"2013-10-20\", \"num_games\": 4}\n",
      "{\"date\": \"2013-11-26\", \"num_games\": 5}\n",
      "{\"date\": \"2014-02-21\", \"num_games\": 26}\n",
      "{\"date\": \"2014-02-09\", \"num_games\": 53}\n",
      "{\"date\": \"2013-11-15\", \"num_games\": 2}\n",
      "{\"date\": \"2014-01-12\", \"num_games\": 3}\n",
      "{\"date\": \"2013-10-08\", \"num_games\": 22}\n",
      "{\"date\": \"2014-01-08\", \"num_games\": 1}\n",
      "{\"date\": \"2013-12-10\", \"num_games\": 3}\n",
      "{\"date\": \"2014-02-03\", \"num_games\": 9}\n",
      "{\"date\": \"2013-09-16\", \"num_games\": 29}\n",
      "{\"date\": \"2014-01-04\", \"num_games\": 1}\n",
      "{\"date\": \"2014-02-25\", \"num_games\": 6}\n",
      "{\"date\": \"2013-10-14\", \"num_games\": 12}\n",
      "{\"date\": \"2013-10-06\", \"num_games\": 4}\n",
      "{\"date\": \"2013-11-04\", \"num_games\": 3}\n",
      "{\"date\": \"2013-11-24\", \"num_games\": 7}\n",
      "{\"date\": \"2013-12-13\", \"num_games\": 1}\n",
      "{\"date\": \"2013-11-25\", \"num_games\": 3}\n",
      "{\"date\": \"2013-12-17\", \"num_games\": 1}\n",
      "{\"date\": \"2014-02-02\", \"num_games\": 5}\n",
      "{\"date\": \"2013-09-07\", \"num_games\": 49}\n",
      "{\"date\": \"2014-01-16\", \"num_games\": 4}\n",
      "{\"date\": \"2014-01-17\", \"num_games\": 1}\n",
      "{\"date\": \"2014-01-30\", \"num_games\": 21}\n",
      "{\"date\": \"2013-09-22\", \"num_games\": 14}\n",
      "{\"date\": \"2013-10-07\", \"num_games\": 5}\n",
      "{\"date\": \"2013-10-22\", \"num_games\": 11}\n",
      "{\"date\": \"2013-10-03\", \"num_games\": 5}\n",
      "{\"date\": \"2014-02-24\", \"num_games\": 21}\n",
      "{\"date\": \"2013-12-02\", \"num_games\": 2}\n",
      "{\"date\": \"2013-12-21\", \"num_games\": 2}\n",
      "{\"date\": \"2014-01-25\", \"num_games\": 8}\n",
      "{\"date\": \"2013-09-04\", \"num_games\": 135}\n",
      "{\"date\": \"2013-09-10\", \"num_games\": 43}\n",
      "{\"date\": \"2013-09-30\", \"num_games\": 10}\n",
      "{\"date\": \"2013-11-17\", \"num_games\": 4}\n",
      "{\"date\": \"2013-10-26\", \"num_games\": 5}\n",
      "{\"date\": \"2014-01-31\", \"num_games\": 14}\n",
      "{\"date\": \"2013-11-30\", \"num_games\": 3}\n",
      "{\"date\": \"2013-10-09\", \"num_games\": 35}\n",
      "{\"date\": \"2013-10-24\", \"num_games\": 5}\n",
      "{\"date\": \"2013-10-15\", \"num_games\": 15}\n",
      "{\"date\": \"2014-02-20\", \"num_games\": 25}\n",
      "{\"date\": \"2013-12-15\", \"num_games\": 7}\n",
      "{\"date\": \"2014-02-22\", \"num_games\": 29}\n",
      "{\"date\": \"2014-02-26\", \"num_games\": 10}\n",
      "{\"date\": \"2013-11-12\", \"num_games\": 11}\n",
      "{\"date\": \"2014-01-23\", \"num_games\": 2}\n",
      "{\"date\": \"2013-11-09\", \"num_games\": 7}\n",
      "{\"date\": \"2014-02-04\", \"num_games\": 1}\n",
      "{\"date\": \"2014-02-17\", \"num_games\": 15}\n",
      "{\"date\": \"2013-12-16\", \"num_games\": 1}\n",
      "{\"date\": \"2013-12-31\", \"num_games\": 3}\n",
      "{\"date\": \"2014-01-05\", \"num_games\": 5}\n",
      "{\"date\": \"2013-12-03\", \"num_games\": 13}\n",
      "{\"date\": \"2014-01-21\", \"num_games\": 6}\n",
      "{\"date\": \"2013-12-04\", \"num_games\": 2}\n",
      "{\"date\": \"2013-12-29\", \"num_games\": 2}\n",
      "{\"date\": \"2013-09-08\", \"num_games\": 40}\n",
      "{\"date\": \"2014-01-06\", \"num_games\": 12}\n",
      "{\"date\": \"2013-09-24\", \"num_games\": 9}\n",
      "{\"date\": \"2014-02-10\", \"num_games\": 48}\n",
      "{\"date\": \"2013-11-21\", \"num_games\": 33}\n",
      "{\"date\": \"2014-01-18\", \"num_games\": 1}\n",
      "{\"date\": \"2014-01-20\", \"num_games\": 3}\n",
      "{\"date\": \"2014-02-08\", \"num_games\": 87}\n",
      "{\"date\": \"2013-12-19\", \"num_games\": 12}\n",
      "{\"date\": \"2013-10-17\", \"num_games\": 14}\n",
      "{\"date\": \"2014-01-15\", \"num_games\": 12}\n",
      "{\"date\": \"2013-09-13\", \"num_games\": 28}\n",
      "{\"date\": \"2013-09-02\", \"num_games\": 1}\n",
      "{\"date\": \"2013-12-12\", \"num_games\": 7}\n"
     ]
    }
   ],
   "source": [
    "%%rumble\n",
    "for $i in json-file(\"confusion-2014-03-02/confusion-2014-03-02.json\", 10)\n",
    "where $i.country eq \"CH\" and $i.target eq \"German\"\n",
    "group by $d := $i.date\n",
    "return {\"date\": $d, \"num_games\": count($i)}"
   ]
  },
  {
   "cell_type": "markdown",
   "metadata": {
    "id": "qKzNKYFNHSGW"
   },
   "source": [
    "### 4.2.6 Get all games played from Switzerland, group them by date and target, and return for each different date and target the number of games played.\n",
    "\n",
    "\n",
    "NOTE: Rumble has some reserved keywords, for example `date`. If you try to create a variable `$date`, you may get an error, such as `no viable alternative at input 'date'`.\n",
    "\n",
    "```sql\n",
    "SELECT date, target, COUNT(*) AS num_games\n",
    "FROM entries\n",
    "WHERE country == \"CH\"\n",
    "GROUP BY date, target\n",
    "```\n",
    "\n",
    "\n"
   ]
  },
  {
   "cell_type": "code",
   "execution_count": 52,
   "metadata": {
    "id": "oO8wXP9TIGw1"
   },
   "outputs": [
    {
     "name": "stdout",
     "output_type": "stream",
     "text": [
      "Took: 70.45219206809998 s\n",
      "\"Warning! The output sequence contains 12449 items but its materialization was capped at 200 items. This value can be configured with the result-size parameter in the query string of the HTTP request.\"\n",
      "{\"date\": \"2013-09-02\", \"target\": \"Indonesian\", \"num_games\": 3}\n",
      "{\"date\": \"2013-09-03\", \"target\": \"Croatian\", \"num_games\": 16}\n",
      "{\"date\": \"2013-09-03\", \"target\": \"Indonesian\", \"num_games\": 13}\n",
      "{\"date\": \"2013-09-04\", \"target\": \"Macedonian\", \"num_games\": 93}\n",
      "{\"date\": \"2013-09-10\", \"target\": \"Greek\", \"num_games\": 35}\n",
      "{\"date\": \"2013-09-11\", \"target\": \"Latvian\", \"num_games\": 20}\n",
      "{\"date\": \"2013-09-15\", \"target\": \"Amharic\", \"num_games\": 15}\n",
      "{\"date\": \"2013-09-17\", \"target\": \"Thai\", \"num_games\": 24}\n",
      "{\"date\": \"2013-09-19\", \"target\": \"Amharic\", \"num_games\": 6}\n",
      "{\"date\": \"2013-09-25\", \"target\": \"Korean\", \"num_games\": 8}\n",
      "{\"date\": \"2013-09-29\", \"target\": \"Central Tibetan\", \"num_games\": 9}\n",
      "{\"date\": \"2013-09-30\", \"target\": \"Arabic\", \"num_games\": 6}\n",
      "{\"date\": \"2013-09-30\", \"target\": \"Bosnian\", \"num_games\": 8}\n",
      "{\"date\": \"2013-10-07\", \"target\": \"Northern Sami\", \"num_games\": 3}\n",
      "{\"date\": \"2013-10-09\", \"target\": \"Yiddish\", \"num_games\": 17}\n",
      "{\"date\": \"2013-10-13\", \"target\": \"Estonian\", \"num_games\": 2}\n",
      "{\"date\": \"2013-10-14\", \"target\": \"Dinka\", \"num_games\": 7}\n",
      "{\"date\": \"2013-10-15\", \"target\": \"Tigrinya\", \"num_games\": 11}\n",
      "{\"date\": \"2013-10-17\", \"target\": \"Albanian\", \"num_games\": 10}\n",
      "{\"date\": \"2013-10-17\", \"target\": \"Somali\", \"num_games\": 7}\n",
      "{\"date\": \"2013-10-24\", \"target\": \"Basque\", \"num_games\": 3}\n",
      "{\"date\": \"2013-10-27\", \"target\": \"Serbian\", \"num_games\": 12}\n",
      "{\"date\": \"2013-10-30\", \"target\": \"Central Tibetan\", \"num_games\": 3}\n",
      "{\"date\": \"2013-11-01\", \"target\": \"Spanish\", \"num_games\": 12}\n",
      "{\"date\": \"2013-11-02\", \"target\": \"Russian\", \"num_games\": 2}\n",
      "{\"date\": \"2013-11-05\", \"target\": \"Burmese\", \"num_games\": 3}\n",
      "{\"date\": \"2013-11-05\", \"target\": \"Norwegian\", \"num_games\": 4}\n",
      "{\"date\": \"2013-11-10\", \"target\": \"German\", \"num_games\": 7}\n",
      "{\"date\": \"2013-11-16\", \"target\": \"Nepali\", \"num_games\": 2}\n",
      "{\"date\": \"2013-11-17\", \"target\": \"French\", \"num_games\": 5}\n",
      "{\"date\": \"2013-11-19\", \"target\": \"Armenian\", \"num_games\": 17}\n",
      "{\"date\": \"2013-11-25\", \"target\": \"Bosnian\", \"num_games\": 1}\n",
      "{\"date\": \"2013-11-27\", \"target\": \"Kannada\", \"num_games\": 2}\n",
      "{\"date\": \"2013-11-30\", \"target\": \"Estonian\", \"num_games\": 6}\n",
      "{\"date\": \"2013-11-30\", \"target\": \"Swahili\", \"num_games\": 4}\n",
      "{\"date\": \"2013-12-03\", \"target\": \"Serbian\", \"num_games\": 12}\n",
      "{\"date\": \"2013-12-12\", \"target\": \"Croatian\", \"num_games\": 2}\n",
      "{\"date\": \"2013-12-14\", \"target\": \"Amharic\", \"num_games\": 2}\n",
      "{\"date\": \"2013-12-15\", \"target\": \"Urdu\", \"num_games\": 3}\n",
      "{\"date\": \"2013-12-22\", \"target\": \"Vietnamese\", \"num_games\": 1}\n",
      "{\"date\": \"2013-12-30\", \"target\": \"Dutch\", \"num_games\": 7}\n",
      "{\"date\": \"2013-12-31\", \"target\": \"Bangla\", \"num_games\": 3}\n",
      "{\"date\": \"2014-01-02\", \"target\": \"Bangla\", \"num_games\": 1}\n",
      "{\"date\": \"2014-01-07\", \"target\": \"Norwegian\", \"num_games\": 4}\n",
      "{\"date\": \"2014-01-20\", \"target\": \"Arabic\", \"num_games\": 6}\n",
      "{\"date\": \"2014-01-24\", \"target\": \"Vietnamese\", \"num_games\": 6}\n",
      "{\"date\": \"2014-01-25\", \"target\": \"Tagalog\", \"num_games\": 4}\n",
      "{\"date\": \"2014-01-31\", \"target\": \"Estonian\", \"num_games\": 11}\n",
      "{\"date\": \"2014-01-31\", \"target\": \"South Efate\", \"num_games\": 3}\n",
      "{\"date\": \"2014-02-01\", \"target\": \"Hausa\", \"num_games\": 1}\n",
      "{\"date\": \"2014-02-03\", \"target\": \"Vietnamese\", \"num_games\": 11}\n",
      "{\"date\": \"2014-02-05\", \"target\": \"Indonesian\", \"num_games\": 1}\n",
      "{\"date\": \"2014-02-06\", \"target\": \"Bangla\", \"num_games\": 4}\n",
      "{\"date\": \"2014-02-11\", \"target\": \"Yiddish\", \"num_games\": 21}\n",
      "{\"date\": \"2014-02-14\", \"target\": \"Norwegian\", \"num_games\": 35}\n",
      "{\"date\": \"2014-02-15\", \"target\": \"Hindi\", \"num_games\": 29}\n",
      "{\"date\": \"2014-02-18\", \"target\": \"Thai\", \"num_games\": 5}\n",
      "{\"date\": \"2014-02-21\", \"target\": \"Assyrian\", \"num_games\": 14}\n",
      "{\"date\": \"2014-02-21\", \"target\": \"Somali\", \"num_games\": 13}\n",
      "{\"date\": \"2014-02-22\", \"target\": \"Dari\", \"num_games\": 14}\n",
      "{\"date\": \"2014-02-24\", \"target\": \"Samoan\", \"num_games\": 5}\n",
      "{\"date\": \"2014-02-26\", \"target\": \"Spanish\", \"num_games\": 11}\n",
      "{\"date\": \"2014-02-28\", \"target\": \"Serbian\", \"num_games\": 16}\n",
      "{\"date\": \"2014-02-28\", \"target\": \"Tamil\", \"num_games\": 11}\n",
      "{\"date\": \"2013-09-01\", \"target\": \"Hungarian\", \"num_games\": 1}\n",
      "{\"date\": \"2013-09-03\", \"target\": \"Vietnamese\", \"num_games\": 27}\n",
      "{\"date\": \"2013-09-07\", \"target\": \"German\", \"num_games\": 49}\n",
      "{\"date\": \"2013-09-08\", \"target\": \"Shona\", \"num_games\": 14}\n",
      "{\"date\": \"2013-09-13\", \"target\": \"Dinka\", \"num_games\": 11}\n",
      "{\"date\": \"2013-09-14\", \"target\": \"Maltese\", \"num_games\": 14}\n",
      "{\"date\": \"2013-09-20\", \"target\": \"Bangla\", \"num_games\": 4}\n",
      "{\"date\": \"2013-09-21\", \"target\": \"Hungarian\", \"num_games\": 1}\n",
      "{\"date\": \"2013-09-24\", \"target\": \"Hausa\", \"num_games\": 5}\n",
      "{\"date\": \"2013-09-30\", \"target\": \"Armenian\", \"num_games\": 6}\n",
      "{\"date\": \"2013-10-02\", \"target\": \"Croatian\", \"num_games\": 6}\n",
      "{\"date\": \"2013-10-04\", \"target\": \"Burmese\", \"num_games\": 1}\n",
      "{\"date\": \"2013-10-06\", \"target\": \"Somali\", \"num_games\": 5}\n",
      "{\"date\": \"2013-10-10\", \"target\": \"Spanish\", \"num_games\": 9}\n",
      "{\"date\": \"2013-10-15\", \"target\": \"Shona\", \"num_games\": 10}\n",
      "{\"date\": \"2013-10-17\", \"target\": \"French\", \"num_games\": 14}\n",
      "{\"date\": \"2013-10-20\", \"target\": \"South Efate\", \"num_games\": 2}\n",
      "{\"date\": \"2013-10-24\", \"target\": \"Dutch\", \"num_games\": 9}\n",
      "{\"date\": \"2013-10-26\", \"target\": \"Kannada\", \"num_games\": 1}\n",
      "{\"date\": \"2013-10-26\", \"target\": \"Ukrainian\", \"num_games\": 2}\n",
      "{\"date\": \"2013-11-02\", \"target\": \"Greek\", \"num_games\": 1}\n",
      "{\"date\": \"2013-11-06\", \"target\": \"Kurdish\", \"num_games\": 3}\n",
      "{\"date\": \"2013-11-10\", \"target\": \"Fijian\", \"num_games\": 4}\n",
      "{\"date\": \"2013-11-16\", \"target\": \"Bangla\", \"num_games\": 2}\n",
      "{\"date\": \"2013-11-29\", \"target\": \"Tagalog\", \"num_games\": 2}\n",
      "{\"date\": \"2013-12-01\", \"target\": \"Greek\", \"num_games\": 1}\n",
      "{\"date\": \"2013-12-02\", \"target\": \"Polish\", \"num_games\": 2}\n",
      "{\"date\": \"2013-12-03\", \"target\": \"Burmese\", \"num_games\": 5}\n",
      "{\"date\": \"2013-12-08\", \"target\": \"Slovak\", \"num_games\": 1}\n",
      "{\"date\": \"2013-12-09\", \"target\": \"Norwegian\", \"num_games\": 1}\n",
      "{\"date\": \"2013-12-10\", \"target\": \"Slovenian\", \"num_games\": 1}\n",
      "{\"date\": \"2013-12-12\", \"target\": \"Macedonian\", \"num_games\": 1}\n",
      "{\"date\": \"2013-12-21\", \"target\": \"Ukrainian\", \"num_games\": 2}\n",
      "{\"date\": \"2013-12-23\", \"target\": \"Croatian\", \"num_games\": 1}\n",
      "{\"date\": \"2014-01-02\", \"target\": \"Albanian\", \"num_games\": 4}\n",
      "{\"date\": \"2014-01-08\", \"target\": \"Farsi\", \"num_games\": 2}\n",
      "{\"date\": \"2014-01-10\", \"target\": \"Estonian\", \"num_games\": 2}\n",
      "{\"date\": \"2014-01-15\", \"target\": \"Somali\", \"num_games\": 5}\n",
      "{\"date\": \"2014-01-16\", \"target\": \"Tagalog\", \"num_games\": 7}\n",
      "{\"date\": \"2014-01-18\", \"target\": \"Italian\", \"num_games\": 2}\n",
      "{\"date\": \"2014-01-20\", \"target\": \"Bosnian\", \"num_games\": 6}\n",
      "{\"date\": \"2014-01-21\", \"target\": \"Finnish\", \"num_games\": 3}\n",
      "{\"date\": \"2014-01-22\", \"target\": \"Italian\", \"num_games\": 2}\n",
      "{\"date\": \"2014-01-25\", \"target\": \"Tongan\", \"num_games\": 5}\n",
      "{\"date\": \"2014-02-03\", \"target\": \"Welsh\", \"num_games\": 7}\n",
      "{\"date\": \"2014-02-06\", \"target\": \"Arabic\", \"num_games\": 8}\n",
      "{\"date\": \"2014-02-08\", \"target\": \"Armenian\", \"num_games\": 45}\n",
      "{\"date\": \"2014-02-13\", \"target\": \"Spanish\", \"num_games\": 107}\n",
      "{\"date\": \"2014-02-14\", \"target\": \"Bangla\", \"num_games\": 33}\n",
      "{\"date\": \"2014-02-18\", \"target\": \"Swedish\", \"num_games\": 11}\n",
      "{\"date\": \"2014-02-20\", \"target\": \"Assyrian\", \"num_games\": 12}\n",
      "{\"date\": \"2014-02-22\", \"target\": \"Albanian\", \"num_games\": 15}\n",
      "{\"date\": \"2014-02-22\", \"target\": \"Romanian\", \"num_games\": 22}\n",
      "{\"date\": \"2014-02-23\", \"target\": \"Nepali\", \"num_games\": 6}\n",
      "{\"date\": \"2014-02-24\", \"target\": \"Urdu\", \"num_games\": 15}\n",
      "{\"date\": \"2014-02-25\", \"target\": \"Shona\", \"num_games\": 2}\n",
      "{\"date\": \"2014-02-26\", \"target\": \"Danish\", \"num_games\": 8}\n",
      "{\"date\": \"2014-02-27\", \"target\": \"Sinhalese\", \"num_games\": 1}\n",
      "{\"date\": \"2013-09-02\", \"target\": \"Lao\", \"num_games\": 6}\n",
      "{\"date\": \"2013-09-17\", \"target\": \"French\", \"num_games\": 36}\n",
      "{\"date\": \"2013-09-17\", \"target\": \"German\", \"num_games\": 38}\n",
      "{\"date\": \"2013-09-18\", \"target\": \"Korean\", \"num_games\": 17}\n",
      "{\"date\": \"2013-09-24\", \"target\": \"Hindi\", \"num_games\": 7}\n",
      "{\"date\": \"2013-09-25\", \"target\": \"Kannada\", \"num_games\": 6}\n",
      "{\"date\": \"2013-09-25\", \"target\": \"Somali\", \"num_games\": 1}\n",
      "{\"date\": \"2013-09-27\", \"target\": \"Fijian\", \"num_games\": 9}\n",
      "{\"date\": \"2013-09-29\", \"target\": \"Lao\", \"num_games\": 15}\n",
      "{\"date\": \"2013-10-03\", \"target\": \"Icelandic\", \"num_games\": 1}\n",
      "{\"date\": \"2013-10-06\", \"target\": \"Estonian\", \"num_games\": 4}\n",
      "{\"date\": \"2013-10-10\", \"target\": \"Samoan\", \"num_games\": 4}\n",
      "{\"date\": \"2013-10-11\", \"target\": \"Khmer\", \"num_games\": 13}\n",
      "{\"date\": \"2013-10-12\", \"target\": \"Bangla\", \"num_games\": 6}\n",
      "{\"date\": \"2013-10-16\", \"target\": \"French\", \"num_games\": 24}\n",
      "{\"date\": \"2013-10-18\", \"target\": \"Bosnian\", \"num_games\": 6}\n",
      "{\"date\": \"2013-10-21\", \"target\": \"Estonian\", \"num_games\": 3}\n",
      "{\"date\": \"2013-10-25\", \"target\": \"Maltese\", \"num_games\": 4}\n",
      "{\"date\": \"2013-10-27\", \"target\": \"Latvian\", \"num_games\": 2}\n",
      "{\"date\": \"2013-10-31\", \"target\": \"Assyrian\", \"num_games\": 6}\n",
      "{\"date\": \"2013-11-06\", \"target\": \"Maori\", \"num_games\": 5}\n",
      "{\"date\": \"2013-11-09\", \"target\": \"Samoan\", \"num_games\": 4}\n",
      "{\"date\": \"2013-11-15\", \"target\": \"Bosnian\", \"num_games\": 1}\n",
      "{\"date\": \"2013-11-18\", \"target\": \"Slovak\", \"num_games\": 42}\n",
      "{\"date\": \"2013-11-19\", \"target\": \"Bulgarian\", \"num_games\": 31}\n",
      "{\"date\": \"2013-11-19\", \"target\": \"Hebrew\", \"num_games\": 39}\n",
      "{\"date\": \"2013-11-20\", \"target\": \"Kannada\", \"num_games\": 2}\n",
      "{\"date\": \"2013-11-20\", \"target\": \"Lao\", \"num_games\": 15}\n",
      "{\"date\": \"2013-11-20\", \"target\": \"Tongan\", \"num_games\": 8}\n",
      "{\"date\": \"2013-11-20\", \"target\": \"Welsh\", \"num_games\": 10}\n",
      "{\"date\": \"2013-11-23\", \"target\": \"Farsi\", \"num_games\": 3}\n",
      "{\"date\": \"2013-11-26\", \"target\": \"Burmese\", \"num_games\": 2}\n",
      "{\"date\": \"2013-11-27\", \"target\": \"Estonian\", \"num_games\": 7}\n",
      "{\"date\": \"2013-11-30\", \"target\": \"Armenian\", \"num_games\": 4}\n",
      "{\"date\": \"2013-11-30\", \"target\": \"Assyrian\", \"num_games\": 5}\n",
      "{\"date\": \"2013-12-01\", \"target\": \"Malayalam\", \"num_games\": 1}\n",
      "{\"date\": \"2013-12-08\", \"target\": \"Nepali\", \"num_games\": 3}\n",
      "{\"date\": \"2013-12-10\", \"target\": \"Norwegian\", \"num_games\": 2}\n",
      "{\"date\": \"2013-12-11\", \"target\": \"Mandarin\", \"num_games\": 7}\n",
      "{\"date\": \"2013-12-15\", \"target\": \"Malayalam\", \"num_games\": 3}\n",
      "{\"date\": \"2013-12-17\", \"target\": \"Bosnian\", \"num_games\": 1}\n",
      "{\"date\": \"2014-01-02\", \"target\": \"Hebrew\", \"num_games\": 3}\n",
      "{\"date\": \"2014-01-06\", \"target\": \"Tagalog\", \"num_games\": 10}\n",
      "{\"date\": \"2014-01-08\", \"target\": \"Dutch\", \"num_games\": 1}\n",
      "{\"date\": \"2014-01-11\", \"target\": \"Tongan\", \"num_games\": 8}\n",
      "{\"date\": \"2014-01-19\", \"target\": \"Scottish Gaelic\", \"num_games\": 10}\n",
      "{\"date\": \"2014-01-20\", \"target\": \"Mandarin\", \"num_games\": 6}\n",
      "{\"date\": \"2014-01-24\", \"target\": \"Yiddish\", \"num_games\": 3}\n",
      "{\"date\": \"2014-01-27\", \"target\": \"Macedonian\", \"num_games\": 6}\n",
      "{\"date\": \"2014-01-29\", \"target\": \"Macedonian\", \"num_games\": 42}\n",
      "{\"date\": \"2014-01-30\", \"target\": \"Assyrian\", \"num_games\": 17}\n",
      "{\"date\": \"2014-02-03\", \"target\": \"German\", \"num_games\": 9}\n",
      "{\"date\": \"2014-02-03\", \"target\": \"Swahili\", \"num_games\": 7}\n",
      "{\"date\": \"2014-02-04\", \"target\": \"Dinka\", \"num_games\": 3}\n",
      "{\"date\": \"2014-02-06\", \"target\": \"Estonian\", \"num_games\": 4}\n",
      "{\"date\": \"2014-02-07\", \"target\": \"Burmese\", \"num_games\": 143}\n",
      "{\"date\": \"2014-02-08\", \"target\": \"Swedish\", \"num_games\": 81}\n",
      "{\"date\": \"2014-02-14\", \"target\": \"Korean\", \"num_games\": 49}\n",
      "{\"date\": \"2014-02-18\", \"target\": \"Hausa\", \"num_games\": 2}\n",
      "{\"date\": \"2014-02-19\", \"target\": \"Italian\", \"num_games\": 17}\n",
      "{\"date\": \"2014-02-27\", \"target\": \"Bosnian\", \"num_games\": 4}\n",
      "{\"date\": \"2013-09-03\", \"target\": \"Albanian\", \"num_games\": 15}\n",
      "{\"date\": \"2013-09-03\", \"target\": \"German\", \"num_games\": 37}\n",
      "{\"date\": \"2013-09-08\", \"target\": \"Maori\", \"num_games\": 16}\n",
      "{\"date\": \"2013-09-08\", \"target\": \"Swedish\", \"num_games\": 53}\n",
      "{\"date\": \"2013-09-09\", \"target\": \"Japanese\", \"num_games\": 33}\n",
      "{\"date\": \"2013-09-10\", \"target\": \"Norwegian\", \"num_games\": 36}\n",
      "{\"date\": \"2013-09-12\", \"target\": \"Gujarati\", \"num_games\": 21}\n",
      "{\"date\": \"2013-09-15\", \"target\": \"Armenian\", \"num_games\": 22}\n",
      "{\"date\": \"2013-09-17\", \"target\": \"Maltese\", \"num_games\": 6}\n",
      "{\"date\": \"2013-09-17\", \"target\": \"Turkish\", \"num_games\": 23}\n",
      "{\"date\": \"2013-09-18\", \"target\": \"Malayalam\", \"num_games\": 8}\n",
      "{\"date\": \"2013-09-20\", \"target\": \"Hindi\", \"num_games\": 3}\n",
      "{\"date\": \"2013-09-24\", \"target\": \"Shona\", \"num_games\": 7}\n",
      "{\"date\": \"2013-09-24\", \"target\": \"Urdu\", \"num_games\": 5}\n",
      "{\"date\": \"2013-09-27\", \"target\": \"Swedish\", \"num_games\": 13}\n",
      "{\"date\": \"2013-09-28\", \"target\": \"Ukrainian\", \"num_games\": 7}\n",
      "{\"date\": \"2013-09-29\", \"target\": \"Amharic\", \"num_games\": 10}\n"
     ]
    }
   ],
   "source": [
    "%%rumble\n",
    "for $i in json-file(\"confusion-2014-03-02/confusion-2014-03-02.json\", 10)\n",
    "where $i.country eq \"CH\"\n",
    "group by $d := $i.date, $target := $i.target\n",
    "return {\"date\": $d, \"target\": $target, \"num_games\": count($i)}\n"
   ]
  },
  {
   "cell_type": "markdown",
   "metadata": {
    "id": "IAjnh_H2HUa1"
   },
   "source": [
    "### 4.2.7 For all games played from Switzerland, return the distinct targets of those games.\n",
    "\n",
    "```sql\n",
    "SELECT DISTINCT(target)\n",
    "FROM entries\n",
    "WHERE country == \"CH\"\n",
    "```\n",
    "\n",
    "\n"
   ]
  },
  {
   "cell_type": "code",
   "execution_count": 53,
   "metadata": {
    "id": "qfS7prkYIMCN"
   },
   "outputs": [
    {
     "name": "stdout",
     "output_type": "stream",
     "text": [
      "Took: 62.7044780254364 s\n",
      "\"Albanian\"\n",
      "\"Ukrainian\"\n",
      "\"Dutch\"\n",
      "\"Vietnamese\"\n",
      "\"Basque\"\n",
      "\"Indonesian\"\n",
      "\"Welsh\"\n",
      "\"Burmese\"\n",
      "\"Fijian\"\n",
      "\"Samoan\"\n",
      "\"Hebrew\"\n",
      "\"Latvian\"\n",
      "\"Macedonian\"\n",
      "\"Northern Sami\"\n",
      "\"Dari\"\n",
      "\"Bangla\"\n",
      "\"Central Tibetan\"\n",
      "\"Norwegian\"\n",
      "\"Polish\"\n",
      "\"Thai\"\n",
      "\"Swedish\"\n",
      "\"Slovak\"\n",
      "\"Danish\"\n",
      "\"Czech\"\n",
      "\"Khmer\"\n",
      "\"Lao\"\n",
      "\"Malay\"\n",
      "\"Maori\"\n",
      "\"Tamil\"\n",
      "\"Finnish\"\n",
      "\"Urdu\"\n",
      "\"Romanian\"\n",
      "\"Tagalog\"\n",
      "\"Bosnian\"\n",
      "\"Greek\"\n",
      "\"Estonian\"\n",
      "\"Hungarian\"\n",
      "\"Kannada\"\n",
      "\"Dinka\"\n",
      "\"Tongan\"\n",
      "\"Mandarin\"\n",
      "\"Armenian\"\n",
      "\"Maltese\"\n",
      "\"Yiddish\"\n",
      "\"Italian\"\n",
      "\"Bulgarian\"\n",
      "\"French\"\n",
      "\"South Efate\"\n",
      "\"Farsi\"\n",
      "\"Gujarati\"\n",
      "\"Portuguese\"\n",
      "\"Punjabi\"\n",
      "\"Icelandic\"\n",
      "\"German\"\n",
      "\"Slovenian\"\n",
      "\"Northern Ndebele\"\n",
      "\"Kurdish\"\n",
      "\"Russian\"\n",
      "\"Swahili\"\n",
      "\"Korean\"\n",
      "\"Hindi\"\n",
      "\"Malayalam\"\n",
      "\"Japanese\"\n",
      "\"Assyrian\"\n",
      "\"Amharic\"\n",
      "\"Arabic\"\n",
      "\"Serbian\"\n",
      "\"Nepali\"\n",
      "\"Spanish\"\n",
      "\"Shona\"\n",
      "\"Cantonese\"\n",
      "\"Somali\"\n",
      "\"Croatian\"\n",
      "\"Sinhalese\"\n",
      "\"Scottish Gaelic\"\n",
      "\"Hausa\"\n",
      "\"Tigrinya\"\n",
      "\"Turkish\"\n"
     ]
    }
   ],
   "source": [
    "%%rumble\n",
    "let $targets := for $i in json-file(\"confusion-2014-03-02/confusion-2014-03-02.json\", 10)\n",
    "  where $i.country eq \"CH\"\n",
    "  return $i.target\n",
    "return distinct-values($targets)"
   ]
  },
  {
   "cell_type": "markdown",
   "metadata": {
    "id": "yVvQBpVxHWuz"
   },
   "source": [
    "### 4.2.8 For all games played from Switzerland, get the distinct targets of those games, and return the index of \"German\" in the list of distinct targets.\n",
    "\n",
    "\n"
   ]
  },
  {
   "cell_type": "code",
   "execution_count": 54,
   "metadata": {
    "id": "C9zQLBnwISRB"
   },
   "outputs": [
    {
     "name": "stdout",
     "output_type": "stream",
     "text": [
      "Took: 62.42255520820618 s\n",
      "54\n"
     ]
    }
   ],
   "source": [
    "%%rumble\n",
    "let $targets := for $i in json-file(\"confusion-2014-03-02/confusion-2014-03-02.json\", 10)\n",
    "    where $i.country eq \"CH\"\n",
    "    return $i.target\n",
    "return index-of(distinct-values($targets), \"German\")\n"
   ]
  },
  {
   "cell_type": "markdown",
   "metadata": {
    "id": "XW8fQM8WHYt7"
   },
   "source": [
    "### 4.2.9 Count the number of games played from Switzerland (without any grouping).\n",
    "\n",
    "\n",
    "NOTE: `distinct-values` and `index-of` work on \"sequences\". The method `json-file` returns a sequence. If you have an array on which you want to apply `distinct-values` and `index-of`, you must first convert it to a sequence. This can be done with `[]`. For example, if you have an array called `arr`, you can find its distinct values with `distinct-values(arr[])`\n",
    "\n",
    "```sql\n",
    "SELECT COUNT(*) AS count\n",
    "FROM entries\n",
    "WHERE country == \"CH\"\n",
    "```\n"
   ]
  },
  {
   "cell_type": "code",
   "execution_count": 55,
   "metadata": {
    "colab": {
     "base_uri": "https://localhost:8080/"
    },
    "id": "0wXZLNPLIayV",
    "outputId": "4c65ffe5-0bac-4efa-bb42-5abefce423c0"
   },
   "outputs": [
    {
     "name": "stdout",
     "output_type": "stream",
     "text": [
      "Took: 63.41305589675903 s\n",
      "135347\n"
     ]
    }
   ],
   "source": [
    "%%rumble\n",
    "count(for $i in json-file(\"confusion-2014-03-02/confusion-2014-03-02.json\", 10)\n",
    "    where $i.country eq \"CH\"\n",
    "    return $i\n",
    ")"
   ]
  },
  {
   "cell_type": "markdown",
   "metadata": {
    "id": "s2ljO3Wyd-kt"
   },
   "source": [
    "If in your query you want to join 2 (or more) sequences (results of `json-file` or subqueries), you can do it in the following way:\n",
    "```\n",
    "let $seq1 := ...\n",
    "let $seq2 := ...\n",
    "for $i in $seq1, $j in $seq2\n",
    "where $i.attr1 eq $j.attr2\n",
    "...\n",
    "```"
   ]
  },
  {
   "cell_type": "markdown",
   "metadata": {
    "id": "PE_9pQzhAOyo"
   },
   "source": [
    "## 4.3 More queries"
   ]
  },
  {
   "cell_type": "markdown",
   "metadata": {
    "id": "FxrwoBIxd-kt"
   },
   "source": [
    "Try writing a few more queries:\n",
    "- List all chosen answers to games where the guessed language is correct (=target)."
   ]
  },
  {
   "cell_type": "code",
   "execution_count": 13,
   "metadata": {
    "colab": {
     "base_uri": "https://localhost:8080/"
    },
    "id": "2pFtHHOed-kt",
    "outputId": "0a7e0be5-bef7-4236-a204-7bc222ea096b"
   },
   "outputs": [
    {
     "name": "stderr",
     "output_type": "stream",
     "text": [
      "UsageError: Cell magic `%%rumble` not found.\n"
     ]
    }
   ],
   "source": [
    "%%rumble"
   ]
  },
  {
   "cell_type": "markdown",
   "metadata": {
    "id": "n4XpGln4d-ku"
   },
   "source": [
    "- Count the games where the index of the correct answer in the choices array is 2 (as returned by the index-of method)."
   ]
  },
  {
   "cell_type": "code",
   "execution_count": 11,
   "metadata": {
    "colab": {
     "base_uri": "https://localhost:8080/"
    },
    "id": "Ubmh2smkd-ku",
    "outputId": "00388bda-819c-4f50-b5b5-4d560f4ccc2b"
   },
   "outputs": [
    {
     "name": "stderr",
     "output_type": "stream",
     "text": [
      "UsageError: Cell magic `%%rumble` not found.\n"
     ]
    }
   ],
   "source": [
    "%%rumble"
   ]
  },
  {
   "cell_type": "markdown",
   "metadata": {
    "id": "X_-pBCWtd-ku"
   },
   "source": [
    "- Return all games played on February 3rd 2014."
   ]
  },
  {
   "cell_type": "code",
   "execution_count": 12,
   "metadata": {
    "colab": {
     "base_uri": "https://localhost:8080/"
    },
    "id": "DX82UVhid-ku",
    "outputId": "bdf21450-5ed4-41a9-af1f-bfd5683f5fff"
   },
   "outputs": [
    {
     "name": "stderr",
     "output_type": "stream",
     "text": [
      "UsageError: Cell magic `%%rumble` not found.\n"
     ]
    }
   ],
   "source": [
    "%%rumble"
   ]
  },
  {
   "cell_type": "markdown",
   "metadata": {
    "id": "krkZtmzIFVdZ"
   },
   "source": [
    "# 5. More nestedness\n",
    "## 5.1 Create Nestedness\n",
    "You may remember in the exercise of Spark Dataframes & Spark SQL, we mentioned two methods <font face=\"courier\">collect_set/collect_list</font> for creating arrays. In JSONiq, this kind of things become even simpler because JSONiq natively supports JSON, so we can directly create arrays via adding square brackets (<font face=\"courier\">[]</font>) and even without any group by operations. \n",
    "\n",
    "For example, if we want to know the list of date at which \"Fijian\" was used as the target, we can write a simple JSONiq query:"
   ]
  },
  {
   "cell_type": "code",
   "execution_count": 77,
   "metadata": {
    "id": "xiRw7YmmspKH"
   },
   "outputs": [
    {
     "name": "stdout",
     "output_type": "stream",
     "text": [
      "Took: 63.23376512527466 s\n"
     ]
    },
    {
     "data": {
      "text/plain": [
       "'There was an error on line 4 in file:/Users/pierre/Documents/ex11/:\\n\\nreturn [$dateSeq].take(10)\\n        ^\\n\\nCode: [RBDY0005]\\nMessage: Cannot materialize a sequence of 115852 items because the limit is set to 200. This value can be configured with the --materialization-cap parameter at startup\\nMetadata: file:/Users/pierre/Documents/ex11/:LINE:4:COLUMN:8:\\nThis code can also be looked up in the documentation and specifications for more information.\\n'"
      ]
     },
     "execution_count": 77,
     "metadata": {},
     "output_type": "execute_result"
    }
   ],
   "source": [
    "%%rumble\n",
    "let $dateSeq := for $i in json-file(\"confusion-2014-03-02/confusion-2014-03-02.json\", 10)\n",
    "    where $i.target eq \"Fijian\"\n",
    "    return $i.date\n",
    "return [$dateSeq].take(10)"
   ]
  },
  {
   "cell_type": "markdown",
   "metadata": {
    "id": "osB2WIpFtiQY"
   },
   "source": [
    "The above query is basically a counterpart of a Spark Dataframe query with <font face=\"courier\">collect_list</font>. If we want to imitate the behavior of <font face=\"courier\">collect_set</font>, which means we want the result array to be de-duplicated, we can just resort to <font face=\"courier\">distinct-values</font>:"
   ]
  },
  {
   "cell_type": "code",
   "execution_count": 60,
   "metadata": {
    "id": "Vkan5XiAvK24"
   },
   "outputs": [
    {
     "name": "stdout",
     "output_type": "stream",
     "text": [
      "Took: 62.66869401931763 s\n",
      "[\"2014-01-10\", \"2014-01-11\", \"2013-10-10\", \"2013-09-20\", \"2014-01-12\", \"2014-01-13\", \"2013-10-11\", \"2013-09-21\", \"2013-09-22\", \"2013-10-12\", \"2014-01-14\", \"2013-10-13\", \"2014-01-15\", \"2013-09-23\", \"2013-09-24\", \"2014-01-16\", \"2013-10-14\", \"2014-02-01\", \"2013-09-25\", \"2013-10-15\", \"2014-01-17\", \"2014-02-02\", \"2013-10-16\", \"2014-01-18\", \"2013-09-26\", \"2014-01-19\", \"2014-02-03\", \"2013-11-01\", \"2013-09-27\", \"2013-10-17\", \"2013-11-02\", \"2013-09-28\", \"2013-10-18\", \"2014-02-04\", \"2014-02-05\", \"2013-10-19\", \"2013-09-29\", \"2013-11-03\", \"2014-02-06\", \"2013-11-04\", \"2014-02-07\", \"2013-11-05\", \"2013-11-06\", \"2014-02-08\", \"2013-11-30\", \"2014-02-09\", \"2013-11-07\", \"2013-11-08\", \"2013-11-09\", \"2013-12-20\", \"2013-12-21\", \"2013-12-22\", \"2013-12-23\", \"2013-12-24\", \"2013-12-25\", \"2013-12-26\", \"2013-12-27\", \"2013-09-01\", \"2013-12-28\", \"2013-12-29\", \"2013-09-02\", \"2013-09-03\", \"2013-08-19\", \"2014-01-20\", \"2013-09-04\", \"2014-01-21\", \"2013-09-05\", \"2014-01-22\", \"2013-09-06\", \"2013-09-30\", \"2013-10-20\", \"2014-01-23\", \"2013-10-21\", \"2013-09-07\", \"2013-09-08\", \"2014-01-24\", \"2013-10-22\", \"2013-09-09\", \"2013-10-23\", \"2014-01-25\", \"2014-02-10\", \"2013-10-24\", \"2014-01-26\", \"2014-01-27\", \"2013-10-25\", \"2014-02-11\", \"2014-01-28\", \"2014-02-12\", \"2013-11-10\", \"2013-10-26\", \"2013-10-27\", \"2013-11-11\", \"2014-01-29\", \"2014-02-13\", \"2013-11-12\", \"2014-02-14\", \"2013-10-28\", \"2013-11-13\", \"2013-10-29\", \"2014-02-15\", \"2013-11-14\", \"2014-02-16\", \"2014-02-17\", \"2013-11-15\", \"2014-03-01\", \"2014-02-18\", \"2013-11-16\", \"2014-02-19\", \"2013-11-17\", \"2013-12-01\", \"2013-12-02\", \"2013-11-18\", \"2013-11-19\", \"2013-12-03\", \"2013-12-04\", \"2013-12-05\", \"2013-12-06\", \"2013-12-30\", \"2013-12-07\", \"2013-08-20\", \"2013-12-31\", \"2013-12-08\", \"2013-08-21\", \"2013-08-22\", \"2013-12-09\", \"2013-08-23\", \"2013-08-24\", \"2014-01-01\", \"2013-08-25\", \"2013-08-26\", \"2014-01-02\", \"2013-09-10\", \"2013-10-01\", \"2014-01-03\", \"2013-09-11\", \"2014-01-04\", \"2013-10-02\", \"2013-09-12\", \"2014-01-05\", \"2013-10-03\", \"2013-09-13\", \"2013-08-29\", \"2014-01-06\", \"2013-09-14\", \"2014-01-30\", \"2013-10-04\", \"2014-01-07\", \"2013-09-15\", \"2014-01-31\", \"2013-10-05\", \"2013-10-30\", \"2013-10-06\", \"2013-09-16\", \"2014-01-08\", \"2013-09-17\", \"2013-10-07\", \"2013-10-31\", \"2014-01-09\", \"2013-09-18\", \"2013-10-08\", \"2013-09-19\", \"2013-10-09\", \"2014-02-20\", \"2014-02-21\", \"2013-11-20\", \"2014-02-22\", \"2013-11-21\", \"2014-02-23\", \"2014-02-24\", \"2013-11-22\", \"2013-11-23\", \"2014-02-25\", \"2013-11-24\", \"2014-02-26\", \"2014-02-27\", \"2013-11-25\", \"2013-12-10\", \"2014-02-28\", \"2013-11-26\", \"2013-11-27\", \"2013-12-11\", \"2013-11-28\", \"2013-12-12\", \"2013-12-13\", \"2013-11-29\", \"2013-12-14\", \"2013-12-15\", \"2013-12-16\", \"2013-12-17\", \"2013-12-18\", \"2013-12-19\"]\n"
     ]
    }
   ],
   "source": [
    "%%rumble\n",
    "let $dateSeq := for $i in json-file(\"confusion-2014-03-02/confusion-2014-03-02.json\", 10)\n",
    "where $i.target eq \"Fijian\"\n",
    "return $i.date\n",
    "return [distinct-values($dateSeq)]"
   ]
  },
  {
   "cell_type": "markdown",
   "metadata": {
    "id": "5Qc0PoMEvckO"
   },
   "source": [
    "Now what if we want to know for each different language, the de-duplicated list of date at which it was used as a target? We may need group by again. Try to come up with the query on your own. What might be the difference in the query with and without group by?\n",
    "\n",
    "**Note:** Do not hesitate to only use the small provided dataset because the query on the original dataset might take very long and consume a humongous amount of memory. The most important thing is not about the answer, but to come up with proper queries."
   ]
  },
  {
   "cell_type": "code",
   "execution_count": 10,
   "metadata": {
    "id": "2k2OOOFjwLah"
   },
   "outputs": [
    {
     "name": "stderr",
     "output_type": "stream",
     "text": [
      "UsageError: Cell magic `%%rumble` not found.\n"
     ]
    }
   ],
   "source": [
    "%%rumble\n",
    "for $i in json-file(\"confusion-100000.json\", 10) \n",
    "group by $j := $i.target\n",
    "return {\"language\":$j, \"dates\":[distinct-values($i.date)]}"
   ]
  },
  {
   "cell_type": "markdown",
   "metadata": {
    "id": "2CqJOpf2wnHL"
   },
   "source": [
    "The difference is, if there's group by in a query, after group by, the loop variable (\\$i in the above query) will no longer be a single entry, but instead bound to the **sequence** corresponding to each group, which means we can directly apply functions like distinct-values to \\$i.\n",
    "In the query above without group by, \\$i always corresponds to one entry, so there's no point to do things like distinct-values(\\$i.date). This is why we need to get the intermediate result $dataSeq, and then create arrays and apply distinct-values on this whole sequence."
   ]
  },
  {
   "cell_type": "markdown",
   "metadata": {
    "id": "z93zj9pax-5t"
   },
   "source": [
    "Obviously, unlike <font face=\"courier\">collect_set/collect_list</font> which only accept one column and create arrays on that very column, JSONiq can create arrays on arbitrary things. For example, if we want to highlight the information of date, we can create a new dataset that shows the game info for each date:"
   ]
  },
  {
   "cell_type": "code",
   "execution_count": 9,
   "metadata": {
    "id": "msN8hw19ytF9"
   },
   "outputs": [
    {
     "name": "stderr",
     "output_type": "stream",
     "text": [
      "UsageError: Cell magic `%%rumble` not found.\n"
     ]
    }
   ],
   "source": [
    "%%rumble\n",
    "let $newDataset := for $i in json-file(\"confusion-100000.json\", 10) \n",
    "  group by $d := $i.date\n",
    "  return {\"date\": $d, \"info\": [$i]}\n",
    "return $newDataset"
   ]
  },
  {
   "cell_type": "markdown",
   "metadata": {
    "id": "Z7NB5Euvy6G-"
   },
   "source": [
    "Now we have a more nested dataset! We can try to redo some of the exercises above with this new dataset. For example, get all games played in Switzerland:"
   ]
  },
  {
   "cell_type": "code",
   "execution_count": 8,
   "metadata": {
    "id": "kA1p9b7szvz1"
   },
   "outputs": [
    {
     "name": "stderr",
     "output_type": "stream",
     "text": [
      "UsageError: Cell magic `%%rumble` not found.\n"
     ]
    }
   ],
   "source": [
    "%%rumble\n"
   ]
  },
  {
   "cell_type": "markdown",
   "metadata": {
    "id": "ycJZrdkO5pyO"
   },
   "source": [
    "Try another one: get the count of games played in Switzerland:"
   ]
  },
  {
   "cell_type": "code",
   "execution_count": 7,
   "metadata": {
    "id": "qIAT1Yat5z_D"
   },
   "outputs": [
    {
     "name": "stderr",
     "output_type": "stream",
     "text": [
      "UsageError: Cell magic `%%rumble` not found.\n"
     ]
    }
   ],
   "source": [
    "%%rumble\n"
   ]
  },
  {
   "cell_type": "markdown",
   "metadata": {
    "id": "R_kRoeKA6Bja"
   },
   "source": [
    "Feel free to try out more questions on your own!"
   ]
  },
  {
   "cell_type": "markdown",
   "metadata": {
    "id": "hPc8di4W6ICv"
   },
   "source": [
    "## 5.2 Git-archive dataset\n",
    "Now let's get into the mess of the real world. We are going to explore the git-archive dataset to handle some properly messy data, which is very challenging if you use Spark. \n",
    "\n",
    "For getting the dataset, just run:\n",
    "```\n",
    "wget https://polybox.ethz.ch/index.php/s/HVWlvJAXVkQ05cw/download -O git-archive.json\n",
    "```\n",
    "or use curl as done for the great game language dataset.\n",
    "\n",
    "Have a look at what the dataset looks like:"
   ]
  },
  {
   "cell_type": "code",
   "execution_count": null,
   "metadata": {
    "id": "Y2AvFbjR7FAR"
   },
   "outputs": [],
   "source": [
    "%%rumble\n",
    "for $i in json-file(\"git-archive.json\", 10)\n",
    "count $c\n",
    "where $c <= 1\n",
    "return $i"
   ]
  },
  {
   "cell_type": "markdown",
   "metadata": {
    "id": "pAePhGBk7WFT"
   },
   "source": [
    "What a mess, isn't it? Anyway, let's try to write some challenging queries, since you've already mastered those easy ones with the language game dataset...\n",
    "\n",
    "1. What is the number of distinct author names that are part of a push event (i.e., an event with the type PushEvent)?"
   ]
  },
  {
   "cell_type": "code",
   "execution_count": null,
   "metadata": {
    "id": "SkpuLT5GnxG4"
   },
   "outputs": [],
   "source": [
    "%%rumble\n"
   ]
  },
  {
   "cell_type": "markdown",
   "metadata": {
    "id": "WtxTZtFNn9qQ"
   },
   "source": [
    "2. What is the name of the repository with the highest number of push events (i.e., events with the type PushEvent), and how many of these push events occurred in this repository?"
   ]
  },
  {
   "cell_type": "code",
   "execution_count": 6,
   "metadata": {
    "id": "WPZIL-XwoQvO"
   },
   "outputs": [
    {
     "name": "stderr",
     "output_type": "stream",
     "text": [
      "UsageError: Cell magic `%%rumble` not found.\n"
     ]
    }
   ],
   "source": [
    "%%rumble\n"
   ]
  },
  {
   "cell_type": "markdown",
   "metadata": {},
   "source": [
    "## BONUS: Machine Learning in Rumble"
   ]
  },
  {
   "cell_type": "markdown",
   "metadata": {},
   "source": [
    "Not only RumbleDB allows to build the entire data pipeline by querying large messy datasets and clean, structure, normoalize and validate them but now also supports feeding the data into machine learning models to build an all-in-one solution. RumbleDB uses Spark to distribute computations accross a cluster, and for ML it is also based on the SparkML library (https://spark.apache.org/docs/latest/ml-guide.html). Here is a simple example to clusterize data points based on a KMeans model.\n",
    "\n",
    "In the following example we declare a user defined type col-1-2 with an id and two decimal columns. We then write our data in a variable local-data, which we validate against our defined type and then forward the data to a transformer. Finally, we instantiate a K-means estimator to train our data on it."
   ]
  },
  {
   "cell_type": "code",
   "execution_count": 13,
   "metadata": {},
   "outputs": [
    {
     "name": "stdout",
     "output_type": "stream",
     "text": [
      "Took: 0.6514451503753662 ms\n",
      "{\"id\": 0, \"col1\": 0, \"col2\": 3, \"features\": [0, 3], \"prediction\": 0}\n",
      "{\"id\": 1, \"col1\": 2.1, \"col2\": 0.1, \"features\": [2.1, 0.1], \"prediction\": 0}\n",
      "{\"id\": 2, \"col1\": 0.2, \"col2\": 0.2, \"features\": [0.2, 0.2], \"prediction\": 0}\n",
      "{\"id\": 3, \"col1\": 6, \"col2\": 9, \"features\": [6, 9], \"prediction\": 1}\n",
      "{\"id\": 4, \"col1\": 5.1, \"col2\": 9.1, \"features\": [5.1, 9.1], \"prediction\": 1}\n",
      "{\"id\": 5, \"col1\": 9.2, \"col2\": 9.2, \"features\": [9.2, 9.2], \"prediction\": 1}\n"
     ]
    }
   ],
   "source": [
    "%%rumble\n",
    "declare type local:col-1-2 as {\n",
    "  \"id\": \"integer\",\n",
    "  \"col1\": \"decimal\",\n",
    "  \"col2\": \"decimal\"\n",
    "};\n",
    "\n",
    "let $vector-assembler := get-transformer(\"VectorAssembler\")(\n",
    "  ?,\n",
    "  { \"inputCols\" : [ \"col1\", \"col2\" ], \"outputCol\" : \"features\" }\n",
    ")\n",
    "\n",
    "let $local-data := (\n",
    "    {\"id\": 0, \"col1\": 0.0, \"col2\": 3.0},\n",
    "    {\"id\": 1, \"col1\": 2.1, \"col2\": 0.1},\n",
    "    {\"id\": 2, \"col1\": 0.2, \"col2\": 0.2},\n",
    "    {\"id\": 3, \"col1\": 6.0, \"col2\": 9.0},\n",
    "    {\"id\": 4, \"col1\": 5.1, \"col2\": 9.1},\n",
    "    {\"id\": 5, \"col1\": 9.2, \"col2\": 9.2}\n",
    ")\n",
    "let $df-data := validate type local:col-1-2* {$local-data }\n",
    "let $df-data := $vector-assembler($df-data)\n",
    "\n",
    "let $est := get-estimator(\"KMeans\")\n",
    "let $tra := $est(\n",
    "    $df-data,\n",
    "    {\"featuresCol\": \"features\"}\n",
    ")\n",
    "\n",
    "for $i in $tra(\n",
    "    $df-data,\n",
    "    {\"featuresCol\": \"features\"}\n",
    ")\n",
    "return $i"
   ]
  },
  {
   "cell_type": "markdown",
   "metadata": {},
   "source": [
    "### Visualize the output"
   ]
  },
  {
   "cell_type": "code",
   "execution_count": 47,
   "metadata": {},
   "outputs": [
    {
     "name": "stdout",
     "output_type": "stream",
     "text": [
      "   id  col1  col2  prediction\n",
      "0   0   0.0   3.0           0\n",
      "1   1   2.1   0.1           0\n",
      "2   2   0.2   0.2           0\n",
      "3   3   6.0   9.0           1\n",
      "4   4   5.1   9.1           1\n",
      "5   5   9.2   9.2           1\n"
     ]
    },
    {
     "data": {
      "image/png": "[encoded data removed]",
      "text/plain": [
       "<Figure size 432x288 with 2 Axes>"
      ]
     },
     "metadata": {
      "needs_background": "light"
     },
     "output_type": "display_data"
    }
   ],
   "source": [
    "import pandas as pd\n",
    "\n",
    "d = [{\"id\": 0, \"col1\": 0.0, \"col2\": 3.0, \"prediction\": 0},\n",
    "    {\"id\": 1, \"col1\": 2.1, \"col2\": 0.1, \"prediction\": 0},\n",
    "    {\"id\": 2, \"col1\": 0.2, \"col2\": 0.2, \"prediction\": 0},\n",
    "    {\"id\": 3, \"col1\": 6.0, \"col2\": 9.0, \"prediction\": 1},\n",
    "    {\"id\": 4, \"col1\": 5.1, \"col2\": 9.1, \"prediction\": 1},\n",
    "    {\"id\": 5, \"col1\": 9.2, \"col2\": 9.2, \"prediction\": 1}]\n",
    "\n",
    "df = pd.DataFrame(d)\n",
    "print (df)\n",
    "\n",
    "ax1 = df.plot.scatter(x='col1',\n",
    "                      y='col2',\n",
    "                      c='prediction', cmap='winter')"
   ]
  },
  {
   "cell_type": "markdown",
   "metadata": {},
   "source": [
    "## Bonus: Run rumble on a Spark cluster in Azure\n",
    "\n",
    "In this last bonus, we will take advantage of a main aspect of RumbleDB: to be runnable on a cluster.\n",
    "\n",
    "### Create a cluster\n",
    "\n",
    "1. Sign into the azure portal (portal.azure.com).\n",
    "1. Search for \"HDInsight clusters\" using the search box at the top.\n",
    "<img src=\"https://cloud.inf.ethz.ch/s/WxpMXB3Jz8SykMw/download\" width=\"900\">\n",
    "1. Note that under the *Subscription* section, you might be prompted that the subscription is not registered:\n",
    "<img src=\"https://cloud.inf.ethz.ch/s/gyTcQYKFCn3Yg6J/download\" width=\"500\">\n",
    "\n",
    "  To fix this, follow the *Click here to register* link, and in the new page, search for *hdinsight*. Then select the *Microsoft.HDInsight* Provider and click the *Register* button.  \n",
    "<img src=\"https://cloud.inf.ethz.ch/s/oHn9eyeZRP4LfZq/download\" width=\"500\">\n",
    "\n",
    "1. Create a new resource group (for example: 'exercise08').\n",
    "1. Give the cluster a unique name.\n",
    "1. In the \"Cluster Type\" choose **Spark** and leave the default version as is. It is also indicated to use the **US West** region. \n",
    "1. Create a cluster login password (you can use https://www.random.org/strings/ for inspiration). Keep the password around as you will need it for later.\n",
    "<img src=\"https://cloud.inf.ethz.ch/s/JY3DRLg8NLH559K/download\" width=\"900\">\n",
    "1. Move to the *Storage* stage of the setup. Here, leave **Azure Storage** as the *Primary Storage Type*. For the *Primary Storage Account* you have the option to set up a new account. The *Container*'s name will be generated automatically, however make sure to remember it, or change it to something memorable, if you plan on finishing the exercises in more than one sitting.\n",
    "<img src=\"https://cloud.inf.ethz.ch/s/NgtHE6iwSCZ8FQi/download\" width=\"900\">\n",
    "1. Move to the *Configuration + Pricing* stage of the setup (skip *Security + networking*). Set up a Spark cluster which uses 2 **A5**  deployments as *Head* nodes and 2 **D12 v2** deployments for the *Worker* nodes. It should cost roughly 1.9 EUR/h. Note that if Azure allows you deploy more cores, then do so, by increasing the number of *Worker* nodes.\n",
    "<img src=\"https://cloud.inf.ethz.ch/s/JpJEfjkZLPja5EK/download\" width=\"900\">\n",
    "1. Move to the *Reivew + Create* stage of the setup, and click the **Create** button once validation succeeds.\n",
    "1. Wait until your cluster is deployed (this can take up to 20 minutes).\n",
    "\n",
    "<span style=\"color: red;\">**Important:** Remember to **delete** the cluster once you are done. If you want to stop doing the exercises at any point, delete it and recreate it using the same container name as you used the first time, so that the resources are still there.</span>\n",
    "\n",
    "<img src=\"https://cloud.inf.ethz.ch/s/2jLERoTD6q8nRMQ/download\" width=\"900\">\n",
    "\n",
    "### Access your cluster\n",
    "\n",
    "Make sure you can access your cluster (the NameNode) via SSH:\n",
    "\n",
    "```\n",
    "$ ssh <ssh_user_name>@<cluster_name>-ssh.azurehdinsight.net\n",
    "```\n",
    "\n",
    "If you are using Linux or MacOSX, you can use your standard terminal.\n",
    "If you are using Windows you can use:\n",
    "- Putty SSH Client and PSCP tool (get them at [here](http://www.chiark.greenend.org.uk/~sgtatham/putty/download.html)).\n",
    "- This Notebook server terminal (Click on the Jupyter logo and the goto New -> Terminal).\n",
    "- Azure Cloud Terminal (see the HBase exercise sheet for details)\n",
    "\n",
    "You can access cluster's YARN in your browser\n",
    "```\n",
    " https://<cluster_name>.azurehdinsight.net/yarnui/hn/cluster\n",
    "```\n"
   ]
  },
  {
   "cell_type": "markdown",
   "metadata": {},
   "source": [
    "## Install Rumble\n",
    "\n",
    "Then login to the shell and download the latest Rumble version:\n",
    "\n",
    "```\n",
    "wget https://github.com/RumbleDB/rumble/releases/download/v1.16.1/rumbledb-1.16.1-for-spark-2.4.jar\n",
    "```\n",
    "\n",
    "### HDInsight Shell\n",
    "\n",
    "Unfortunately HDInsight will not provide us access to any other port than SSH.\n",
    "Therefore the usual way to work with Rumble through HDInsight is through the shell.\n",
    "\n",
    "### SSH Forwarding\n",
    "\n",
    "Howeever for this sheet, we recommend to use SSH forwarding. For that, run:\n",
    "\n",
    "```\n",
    "spark-submit rumbledb-1.16.0.jar --server yes --port 8002\n",
    "```\n",
    "\n",
    "and then on your local machine forward 8002 -> localhost:8002\n",
    "\n",
    "```\n",
    "ssh -N -L 8002:localhost:8002 sshuser@[servername]-ssh.azurehdinsight.net\n",
    "```"
   ]
  },
  {
   "cell_type": "markdown",
   "metadata": {},
   "source": [
    "Run the code from your notebook on the cluster and evaluate the speed improvement."
   ]
  },
  {
   "cell_type": "code",
   "execution_count": null,
   "metadata": {},
   "outputs": [],
   "source": []
  }
 ],
 "metadata": {
  "colab": {
   "collapsed_sections": [
    "Uy48JTprhrKW",
    "eELMD0pqhrKW",
    "3Pcf7FL7Aetl",
    "OG0xJS2KHEF3",
    "jQycXJuCHHJW",
    "3ivTnfw5HMZz",
    "sKmgYw_jHPZ3",
    "IAjnh_H2HUa1",
    "yVvQBpVxHWuz",
    "XW8fQM8WHYt7",
    "PE_9pQzhAOyo"
   ],
   "name": "Exercise12_Rumble_Solutions.ipynb",
   "provenance": [],
   "toc_visible": true
  },
  "kernelspec": {
   "display_name": "Python 3 (ipykernel)",
   "language": "python",
   "name": "python3"
  },
  "language_info": {
   "codemirror_mode": {
    "name": "ipython",
    "version": 3
   },
   "file_extension": ".py",
   "mimetype": "text/x-python",
   "name": "python",
   "nbconvert_exporter": "python",
   "pygments_lexer": "ipython3",
   "version": "3.9.7"
  },
  "toc": {
   "base_numbering": 1,
   "nav_menu": {},
   "number_sections": true,
   "sideBar": true,
   "skip_h1_title": false,
   "title_cell": "Table of Contents",
   "title_sidebar": "Contents",
   "toc_cell": false,
   "toc_position": {},
   "toc_section_display": true,
   "toc_window_display": false
  }
 },
 "nbformat": 4,
 "nbformat_minor": 1
}
